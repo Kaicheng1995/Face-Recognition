{
  "nbformat": 4,
  "nbformat_minor": 0,
  "metadata": {
    "colab": {
      "name": "Face Recognition - Turi",
      "provenance": [],
      "collapsed_sections": [
        "xdqLFUkaMVgW"
      ]
    },
    "kernelspec": {
      "name": "python3",
      "display_name": "Python 3"
    },
    "accelerator": "GPU"
  },
  "cells": [
    {
      "cell_type": "code",
      "metadata": {
        "id": "v8FfEcKbQdFi",
        "colab_type": "code",
        "outputId": "7f250833-5a92-4ee6-a837-f5c6a2a880ca",
        "colab": {
          "base_uri": "https://localhost:8080/",
          "height": 122
        }
      },
      "source": [
        "from google.colab import drive\n",
        "drive.mount('/content/drive')"
      ],
      "execution_count": 0,
      "outputs": [
        {
          "output_type": "stream",
          "text": [
            "Go to this URL in a browser: https://accounts.google.com/o/oauth2/auth?client_id=947318989803-6bn6qk8qdgf4n4g3pfee6491hc0brc4i.apps.googleusercontent.com&redirect_uri=urn%3aietf%3awg%3aoauth%3a2.0%3aoob&response_type=code&scope=email%20https%3a%2f%2fwww.googleapis.com%2fauth%2fdocs.test%20https%3a%2f%2fwww.googleapis.com%2fauth%2fdrive%20https%3a%2f%2fwww.googleapis.com%2fauth%2fdrive.photos.readonly%20https%3a%2f%2fwww.googleapis.com%2fauth%2fpeopleapi.readonly\n",
            "\n",
            "Enter your authorization code:\n",
            "··········\n",
            "Mounted at /content/drive\n"
          ],
          "name": "stdout"
        }
      ]
    },
    {
      "cell_type": "code",
      "metadata": {
        "id": "zNVeuXIgQ1SP",
        "colab_type": "code",
        "outputId": "cf5135ef-bb16-4939-bb1c-56f3cf206bdd",
        "colab": {
          "base_uri": "https://localhost:8080/",
          "height": 34
        }
      },
      "source": [
        "!ls \"/content/drive/My Drive\""
      ],
      "execution_count": 0,
      "outputs": [
        {
          "output_type": "stream",
          "text": [
            "'Colab Notebooks'  'Getting started.pdf'   image   out.csv\n"
          ],
          "name": "stdout"
        }
      ]
    },
    {
      "cell_type": "markdown",
      "metadata": {
        "id": "XK5BHseJMNx9",
        "colab_type": "text"
      },
      "source": [
        "# Install Turi Create"
      ]
    },
    {
      "cell_type": "code",
      "metadata": {
        "id": "tomidbFLRXs1",
        "colab_type": "code",
        "outputId": "d5f2e3d3-283e-4200-f6ff-0a49e0da9a3b",
        "colab": {
          "base_uri": "https://localhost:8080/",
          "height": 1000
        }
      },
      "source": [
        "!pip install turicreate"
      ],
      "execution_count": 0,
      "outputs": [
        {
          "output_type": "stream",
          "text": [
            "Collecting turicreate\n",
            "\u001b[?25l  Downloading https://files.pythonhosted.org/packages/e4/76/76c624d7ae1116b22cd559288596a1f9aa7a50f8f43f4481033fc047f5e9/turicreate-6.3-cp36-cp36m-manylinux1_x86_64.whl (91.9MB)\n",
            "\u001b[K     |████████████████████████████████| 91.9MB 32kB/s \n",
            "\u001b[?25hRequirement already satisfied: pandas>=0.23.2 in /usr/local/lib/python3.6/dist-packages (from turicreate) (1.0.4)\n",
            "Collecting tensorflow<=2.0.1,>=2.0.0\n",
            "\u001b[?25l  Downloading https://files.pythonhosted.org/packages/43/16/b07e3f7a4a024b47918f7018967eb984b0c542458a6141d8c48515aa81d4/tensorflow-2.0.1-cp36-cp36m-manylinux2010_x86_64.whl (86.3MB)\n",
            "\u001b[K     |████████████████████████████████| 86.3MB 88kB/s \n",
            "\u001b[?25hCollecting coremltools==3.3\n",
            "\u001b[?25l  Downloading https://files.pythonhosted.org/packages/77/19/611916d1ef326d38857d93af5ba184f6ad7491642e0fa4f9082e7d82f034/coremltools-3.3-cp36-none-manylinux1_x86_64.whl (3.4MB)\n",
            "\u001b[K     |████████████████████████████████| 3.4MB 47.8MB/s \n",
            "\u001b[?25hRequirement already satisfied: numpy in /usr/local/lib/python3.6/dist-packages (from turicreate) (1.18.4)\n",
            "Requirement already satisfied: prettytable==0.7.2 in /usr/local/lib/python3.6/dist-packages (from turicreate) (0.7.2)\n",
            "Requirement already satisfied: pillow>=5.2.0 in /usr/local/lib/python3.6/dist-packages (from turicreate) (7.0.0)\n",
            "Requirement already satisfied: six>=1.10.0 in /usr/local/lib/python3.6/dist-packages (from turicreate) (1.12.0)\n",
            "Requirement already satisfied: requests>=2.9.1 in /usr/local/lib/python3.6/dist-packages (from turicreate) (2.23.0)\n",
            "Collecting resampy==0.2.1\n",
            "\u001b[?25l  Downloading https://files.pythonhosted.org/packages/14/b6/66a06d85474190b50aee1a6c09cdc95bb405ac47338b27e9b21409da1760/resampy-0.2.1.tar.gz (322kB)\n",
            "\u001b[K     |████████████████████████████████| 327kB 61.3MB/s \n",
            "\u001b[?25hRequirement already satisfied: scipy>=1.1.0 in /usr/local/lib/python3.6/dist-packages (from turicreate) (1.4.1)\n",
            "Requirement already satisfied: decorator>=4.0.9 in /usr/local/lib/python3.6/dist-packages (from turicreate) (4.4.2)\n",
            "Requirement already satisfied: python-dateutil>=2.6.1 in /usr/local/lib/python3.6/dist-packages (from pandas>=0.23.2->turicreate) (2.8.1)\n",
            "Requirement already satisfied: pytz>=2017.2 in /usr/local/lib/python3.6/dist-packages (from pandas>=0.23.2->turicreate) (2018.9)\n",
            "Requirement already satisfied: wheel>=0.26; python_version >= \"3\" in /usr/local/lib/python3.6/dist-packages (from tensorflow<=2.0.1,>=2.0.0->turicreate) (0.34.2)\n",
            "Collecting tensorboard<2.1.0,>=2.0.0\n",
            "\u001b[?25l  Downloading https://files.pythonhosted.org/packages/76/54/99b9d5d52d5cb732f099baaaf7740403e83fe6b0cedde940fabd2b13d75a/tensorboard-2.0.2-py3-none-any.whl (3.8MB)\n",
            "\u001b[K     |████████████████████████████████| 3.8MB 42.4MB/s \n",
            "\u001b[?25hRequirement already satisfied: opt-einsum>=2.3.2 in /usr/local/lib/python3.6/dist-packages (from tensorflow<=2.0.1,>=2.0.0->turicreate) (3.2.1)\n",
            "Requirement already satisfied: astor>=0.6.0 in /usr/local/lib/python3.6/dist-packages (from tensorflow<=2.0.1,>=2.0.0->turicreate) (0.8.1)\n",
            "Requirement already satisfied: keras-preprocessing>=1.0.5 in /usr/local/lib/python3.6/dist-packages (from tensorflow<=2.0.1,>=2.0.0->turicreate) (1.1.2)\n",
            "Requirement already satisfied: absl-py>=0.7.0 in /usr/local/lib/python3.6/dist-packages (from tensorflow<=2.0.1,>=2.0.0->turicreate) (0.9.0)\n",
            "Collecting gast==0.2.2\n",
            "  Downloading https://files.pythonhosted.org/packages/4e/35/11749bf99b2d4e3cceb4d55ca22590b0d7c2c62b9de38ac4a4a7f4687421/gast-0.2.2.tar.gz\n",
            "Requirement already satisfied: termcolor>=1.1.0 in /usr/local/lib/python3.6/dist-packages (from tensorflow<=2.0.1,>=2.0.0->turicreate) (1.1.0)\n",
            "Collecting tensorflow-estimator<2.1.0,>=2.0.0\n",
            "\u001b[?25l  Downloading https://files.pythonhosted.org/packages/fc/08/8b927337b7019c374719145d1dceba21a8bb909b93b1ad6f8fb7d22c1ca1/tensorflow_estimator-2.0.1-py2.py3-none-any.whl (449kB)\n",
            "\u001b[K     |████████████████████████████████| 450kB 54.8MB/s \n",
            "\u001b[?25hRequirement already satisfied: grpcio>=1.8.6 in /usr/local/lib/python3.6/dist-packages (from tensorflow<=2.0.1,>=2.0.0->turicreate) (1.29.0)\n",
            "Requirement already satisfied: wrapt>=1.11.1 in /usr/local/lib/python3.6/dist-packages (from tensorflow<=2.0.1,>=2.0.0->turicreate) (1.12.1)\n",
            "Requirement already satisfied: keras-applications>=1.0.8 in /usr/local/lib/python3.6/dist-packages (from tensorflow<=2.0.1,>=2.0.0->turicreate) (1.0.8)\n",
            "Requirement already satisfied: google-pasta>=0.1.6 in /usr/local/lib/python3.6/dist-packages (from tensorflow<=2.0.1,>=2.0.0->turicreate) (0.2.0)\n",
            "Requirement already satisfied: protobuf>=3.6.1 in /usr/local/lib/python3.6/dist-packages (from tensorflow<=2.0.1,>=2.0.0->turicreate) (3.10.0)\n",
            "Requirement already satisfied: urllib3!=1.25.0,!=1.25.1,<1.26,>=1.21.1 in /usr/local/lib/python3.6/dist-packages (from requests>=2.9.1->turicreate) (1.24.3)\n",
            "Requirement already satisfied: chardet<4,>=3.0.2 in /usr/local/lib/python3.6/dist-packages (from requests>=2.9.1->turicreate) (3.0.4)\n",
            "Requirement already satisfied: certifi>=2017.4.17 in /usr/local/lib/python3.6/dist-packages (from requests>=2.9.1->turicreate) (2020.4.5.1)\n",
            "Requirement already satisfied: idna<3,>=2.5 in /usr/local/lib/python3.6/dist-packages (from requests>=2.9.1->turicreate) (2.9)\n",
            "Requirement already satisfied: numba>=0.32 in /usr/local/lib/python3.6/dist-packages (from resampy==0.2.1->turicreate) (0.48.0)\n",
            "Requirement already satisfied: google-auth<2,>=1.6.3 in /usr/local/lib/python3.6/dist-packages (from tensorboard<2.1.0,>=2.0.0->tensorflow<=2.0.1,>=2.0.0->turicreate) (1.7.2)\n",
            "Requirement already satisfied: setuptools>=41.0.0 in /usr/local/lib/python3.6/dist-packages (from tensorboard<2.1.0,>=2.0.0->tensorflow<=2.0.1,>=2.0.0->turicreate) (47.1.1)\n",
            "Requirement already satisfied: google-auth-oauthlib<0.5,>=0.4.1 in /usr/local/lib/python3.6/dist-packages (from tensorboard<2.1.0,>=2.0.0->tensorflow<=2.0.1,>=2.0.0->turicreate) (0.4.1)\n",
            "Requirement already satisfied: werkzeug>=0.11.15 in /usr/local/lib/python3.6/dist-packages (from tensorboard<2.1.0,>=2.0.0->tensorflow<=2.0.1,>=2.0.0->turicreate) (1.0.1)\n",
            "Requirement already satisfied: markdown>=2.6.8 in /usr/local/lib/python3.6/dist-packages (from tensorboard<2.1.0,>=2.0.0->tensorflow<=2.0.1,>=2.0.0->turicreate) (3.2.2)\n",
            "Requirement already satisfied: h5py in /usr/local/lib/python3.6/dist-packages (from keras-applications>=1.0.8->tensorflow<=2.0.1,>=2.0.0->turicreate) (2.10.0)\n",
            "Requirement already satisfied: llvmlite<0.32.0,>=0.31.0dev0 in /usr/local/lib/python3.6/dist-packages (from numba>=0.32->resampy==0.2.1->turicreate) (0.31.0)\n",
            "Requirement already satisfied: rsa<4.1,>=3.1.4 in /usr/local/lib/python3.6/dist-packages (from google-auth<2,>=1.6.3->tensorboard<2.1.0,>=2.0.0->tensorflow<=2.0.1,>=2.0.0->turicreate) (4.0)\n",
            "Requirement already satisfied: cachetools<3.2,>=2.0.0 in /usr/local/lib/python3.6/dist-packages (from google-auth<2,>=1.6.3->tensorboard<2.1.0,>=2.0.0->tensorflow<=2.0.1,>=2.0.0->turicreate) (3.1.1)\n",
            "Requirement already satisfied: pyasn1-modules>=0.2.1 in /usr/local/lib/python3.6/dist-packages (from google-auth<2,>=1.6.3->tensorboard<2.1.0,>=2.0.0->tensorflow<=2.0.1,>=2.0.0->turicreate) (0.2.8)\n",
            "Requirement already satisfied: requests-oauthlib>=0.7.0 in /usr/local/lib/python3.6/dist-packages (from google-auth-oauthlib<0.5,>=0.4.1->tensorboard<2.1.0,>=2.0.0->tensorflow<=2.0.1,>=2.0.0->turicreate) (1.3.0)\n",
            "Requirement already satisfied: importlib-metadata; python_version < \"3.8\" in /usr/local/lib/python3.6/dist-packages (from markdown>=2.6.8->tensorboard<2.1.0,>=2.0.0->tensorflow<=2.0.1,>=2.0.0->turicreate) (1.6.0)\n",
            "Requirement already satisfied: pyasn1>=0.1.3 in /usr/local/lib/python3.6/dist-packages (from rsa<4.1,>=3.1.4->google-auth<2,>=1.6.3->tensorboard<2.1.0,>=2.0.0->tensorflow<=2.0.1,>=2.0.0->turicreate) (0.4.8)\n",
            "Requirement already satisfied: oauthlib>=3.0.0 in /usr/local/lib/python3.6/dist-packages (from requests-oauthlib>=0.7.0->google-auth-oauthlib<0.5,>=0.4.1->tensorboard<2.1.0,>=2.0.0->tensorflow<=2.0.1,>=2.0.0->turicreate) (3.1.0)\n",
            "Requirement already satisfied: zipp>=0.5 in /usr/local/lib/python3.6/dist-packages (from importlib-metadata; python_version < \"3.8\"->markdown>=2.6.8->tensorboard<2.1.0,>=2.0.0->tensorflow<=2.0.1,>=2.0.0->turicreate) (3.1.0)\n",
            "Building wheels for collected packages: resampy, gast\n",
            "  Building wheel for resampy (setup.py) ... \u001b[?25l\u001b[?25hdone\n",
            "  Created wheel for resampy: filename=resampy-0.2.1-cp36-none-any.whl size=320850 sha256=9652d00c7fbe999d472fc126c5a59f3d847c537efd1a8f17394b08075a5da3d5\n",
            "  Stored in directory: /root/.cache/pip/wheels/ff/4f/ed/2e6c676c23efe5394bb40ade50662e90eb46e29b48324c5f9b\n",
            "  Building wheel for gast (setup.py) ... \u001b[?25l\u001b[?25hdone\n",
            "  Created wheel for gast: filename=gast-0.2.2-cp36-none-any.whl size=7540 sha256=45a5568cfef82d8bfff446f765f23a1c5763a23a1c15e76301ada44d87536432\n",
            "  Stored in directory: /root/.cache/pip/wheels/5c/2e/7e/a1d4d4fcebe6c381f378ce7743a3ced3699feb89bcfbdadadd\n",
            "Successfully built resampy gast\n",
            "\u001b[31mERROR: tensorflow-probability 0.10.0 has requirement gast>=0.3.2, but you'll have gast 0.2.2 which is incompatible.\u001b[0m\n",
            "Installing collected packages: tensorboard, gast, tensorflow-estimator, tensorflow, coremltools, resampy, turicreate\n",
            "  Found existing installation: tensorboard 2.2.2\n",
            "    Uninstalling tensorboard-2.2.2:\n",
            "      Successfully uninstalled tensorboard-2.2.2\n",
            "  Found existing installation: gast 0.3.3\n",
            "    Uninstalling gast-0.3.3:\n",
            "      Successfully uninstalled gast-0.3.3\n",
            "  Found existing installation: tensorflow-estimator 2.2.0\n",
            "    Uninstalling tensorflow-estimator-2.2.0:\n",
            "      Successfully uninstalled tensorflow-estimator-2.2.0\n",
            "  Found existing installation: tensorflow 2.2.0\n",
            "    Uninstalling tensorflow-2.2.0:\n",
            "      Successfully uninstalled tensorflow-2.2.0\n",
            "  Found existing installation: resampy 0.2.2\n",
            "    Uninstalling resampy-0.2.2:\n",
            "      Successfully uninstalled resampy-0.2.2\n",
            "Successfully installed coremltools-3.3 gast-0.2.2 resampy-0.2.1 tensorboard-2.0.2 tensorflow-2.0.1 tensorflow-estimator-2.0.1 turicreate-6.3\n"
          ],
          "name": "stdout"
        }
      ]
    },
    {
      "cell_type": "markdown",
      "metadata": {
        "id": "j8QYIeWoM630",
        "colab_type": "text"
      },
      "source": [
        "## Import the .CSV file and format the dataset to create an sframe folder that will be user during training"
      ]
    },
    {
      "cell_type": "code",
      "metadata": {
        "id": "I1-UdYS5HS7O",
        "colab_type": "code",
        "outputId": "6137ac96-3208-46d8-82a7-5c5654e2ec09",
        "colab": {
          "base_uri": "https://localhost:8080/",
          "height": 204
        }
      },
      "source": [
        "import turicreate as tc\n",
        "import os\n",
        "\n",
        "IMAGES_DIR = '/content/drive/My Drive/image' # Change if applicable\n",
        "csv_path = '/content/drive/My Drive/out.csv' # assumes CSV column format is image,id,name,xMin,xMax,yMin,yMax\n",
        "csv_sf = tc.SFrame.read_csv(csv_path)\n",
        "\n",
        "def row_to_bbox_coordinates(row):\n",
        "    \"\"\"\n",
        "    Takes a row and returns a dictionary representing bounding\n",
        "    box coordinates:  (center_x, center_y, width, height)  e.g. {'x': 100, 'y': 120, 'width': 80, 'height': 120}\n",
        "    \"\"\"\n",
        "    return {'x': row['xMin'] + (row['xMax'] - row['xMin'])/2,\n",
        "            'width': (row['xMax'] - row['xMin']),\n",
        "            'y': row['yMin'] + (row['yMax'] - row['yMin'])/2,\n",
        "            'height': (row['yMax'] - row['yMin'])}\n",
        "\n",
        "csv_sf['coordinates'] = csv_sf.apply(row_to_bbox_coordinates)\n",
        "# delete no longer needed columns\n",
        "del csv_sf['id'], csv_sf['xMin'], csv_sf['xMax'], csv_sf['yMin'], csv_sf['yMax']\n",
        "# rename columns\n",
        "csv_sf = csv_sf.rename({'name': 'label', 'image': 'name'})\n",
        "\n",
        "# Load all images in random order\n",
        "sf_images = tc.image_analysis.load_images(IMAGES_DIR, recursive=True,\n",
        "    random_order=True)\n",
        "\n",
        "# Split path to get filename\n",
        "info = sf_images['path'].apply(lambda path: os.path.basename(path).split('/')[:1])\n",
        "\n",
        "# Rename columns to 'name'\n",
        "info = info.unpack().rename({'X.0': 'name'})\n",
        "\n",
        "# Add to our main SFrame\n",
        "sf_images = sf_images.add_columns(info)\n",
        "\n",
        "# Original path no longer needed\n",
        "del sf_images['path']\n",
        "\n",
        "# Combine label and coordinates into a bounding box dictionary\n",
        "csv_sf = csv_sf.pack_columns(['label', 'coordinates'], new_column_name='bbox', dtype=dict)\n",
        "\n",
        "# Combine bounding boxes of the same 'name' into lists\n",
        "sf_annotations = csv_sf.groupby('name',\n",
        "    {'annotations': tc.aggregate.CONCAT('bbox')})\n",
        "\n",
        "# Join annotations with the images. Note, some images do not have annotations,\n",
        "# but we still want to keep them in the dataset. This is why it is important to\n",
        "# a LEFT join.\n",
        "sf = sf_images.join(sf_annotations, on='name', how='left')\n",
        "\n",
        "# The LEFT join fills missing matches with None, so we replace these with empty\n",
        "# lists instead using fillna.\n",
        "sf['annotations'] = sf['annotations'].fillna([])\n",
        "\n",
        "# Save SFrame\n",
        "sf.save('/content/plate.sframe')"
      ],
      "execution_count": 0,
      "outputs": [
        {
          "output_type": "display_data",
          "data": {
            "text/html": [
              "<pre>Finished parsing file /content/drive/My Drive/out.csv</pre>"
            ],
            "text/plain": [
              "Finished parsing file /content/drive/My Drive/out.csv"
            ]
          },
          "metadata": {
            "tags": []
          }
        },
        {
          "output_type": "display_data",
          "data": {
            "text/html": [
              "<pre>Parsing completed. Parsed 61 lines in 0.01566 secs.</pre>"
            ],
            "text/plain": [
              "Parsing completed. Parsed 61 lines in 0.01566 secs."
            ]
          },
          "metadata": {
            "tags": []
          }
        },
        {
          "output_type": "stream",
          "text": [
            "------------------------------------------------------\n",
            "Inferred types from first 100 line(s) of file as \n",
            "column_type_hints=[str,int,str,int,int,int,int]\n",
            "If parsing fails due to incorrect types, you can correct\n",
            "the inferred type list above and pass it to read_csv in\n",
            "the column_type_hints argument\n",
            "------------------------------------------------------\n"
          ],
          "name": "stdout"
        },
        {
          "output_type": "display_data",
          "data": {
            "text/html": [
              "<pre>Finished parsing file /content/drive/My Drive/out.csv</pre>"
            ],
            "text/plain": [
              "Finished parsing file /content/drive/My Drive/out.csv"
            ]
          },
          "metadata": {
            "tags": []
          }
        },
        {
          "output_type": "display_data",
          "data": {
            "text/html": [
              "<pre>Parsing completed. Parsed 61 lines in 0.013076 secs.</pre>"
            ],
            "text/plain": [
              "Parsing completed. Parsed 61 lines in 0.013076 secs."
            ]
          },
          "metadata": {
            "tags": []
          }
        }
      ]
    },
    {
      "cell_type": "markdown",
      "metadata": {
        "id": "klJv9Bt2MpkU",
        "colab_type": "text"
      },
      "source": [
        "# Train the model"
      ]
    },
    {
      "cell_type": "code",
      "metadata": {
        "id": "3EIvycshTXsJ",
        "colab_type": "code",
        "outputId": "9a241d05-e1e3-4b57-882e-f3c70dcd5db4",
        "colab": {
          "base_uri": "https://localhost:8080/",
          "height": 1000
        }
      },
      "source": [
        "import turicreate as tc\n",
        "\n",
        "tc.config.set_num_gpus(-1)\n",
        "\n",
        "# Load the data\n",
        "data =  tc.SFrame('plate.sframe')\n",
        "\n",
        "# Make a train-test split\n",
        "train_data, test_data = data.random_split(0.8)\n",
        "\n",
        "# Create a model\n",
        "model = tc.object_detector.create(train_data)\n",
        "\n",
        "# Save predictions to an SArray\n",
        "predictions = model.predict(test_data)\n",
        "\n",
        "# Evaluate the model and save the results into a dictionary\n",
        "metrics = model.evaluate(test_data)\n",
        "\n",
        "# Save the model for later use in Turi Create\n",
        "model.save('model_plate_turi.model')\n",
        "\n",
        "# Export for use in Core ML\n",
        "model.export_coreml('model_plate_turi.mlmodel')"
      ],
      "execution_count": 0,
      "outputs": [
        {
          "output_type": "stream",
          "text": [
            "TuriCreate currently only supports using one GPU. Setting 'num_gpus' to 1.\n",
            "Using 'image' as feature column\n",
            "Using 'annotations' as annotations column\n",
            "Downloading https://docs-assets.developer.apple.com/turicreate/models/darknet.params\n",
            "Download completed: /var/tmp/model_cache/darknet.params\n",
            "Downloading https://docs-assets.developer.apple.com/turicreate/models/darknet.mlmodel\n",
            "Download completed: /var/tmp/model_cache/darknet.mlmodel\n"
          ],
          "name": "stdout"
        },
        {
          "output_type": "display_data",
          "data": {
            "text/html": [
              "<pre>Using CPU to create model.</pre>"
            ],
            "text/plain": [
              "Using CPU to create model."
            ]
          },
          "metadata": {
            "tags": []
          }
        },
        {
          "output_type": "display_data",
          "data": {
            "text/html": [
              "<pre>Setting 'batch_size' to 32</pre>"
            ],
            "text/plain": [
              "Setting 'batch_size' to 32"
            ]
          },
          "metadata": {
            "tags": []
          }
        },
        {
          "output_type": "stream",
          "text": [
            "WARNING:tensorflow:From /usr/local/lib/python3.6/dist-packages/tensorflow_core/python/compat/v2_compat.py:65: disable_resource_variables (from tensorflow.python.ops.variable_scope) is deprecated and will be removed in a future version.\n",
            "Instructions for updating:\n",
            "non-resource variables are not supported in the long term\n"
          ],
          "name": "stdout"
        },
        {
          "output_type": "display_data",
          "data": {
            "text/html": [
              "<pre>Setting 'max_iterations' to 1000</pre>"
            ],
            "text/plain": [
              "Setting 'max_iterations' to 1000"
            ]
          },
          "metadata": {
            "tags": []
          }
        },
        {
          "output_type": "display_data",
          "data": {
            "text/html": [
              "<pre>+--------------+--------------+--------------+</pre>"
            ],
            "text/plain": [
              "+--------------+--------------+--------------+"
            ]
          },
          "metadata": {
            "tags": []
          }
        },
        {
          "output_type": "display_data",
          "data": {
            "text/html": [
              "<pre>| Iteration    | Loss         | Elapsed Time |</pre>"
            ],
            "text/plain": [
              "| Iteration    | Loss         | Elapsed Time |"
            ]
          },
          "metadata": {
            "tags": []
          }
        },
        {
          "output_type": "display_data",
          "data": {
            "text/html": [
              "<pre>+--------------+--------------+--------------+</pre>"
            ],
            "text/plain": [
              "+--------------+--------------+--------------+"
            ]
          },
          "metadata": {
            "tags": []
          }
        },
        {
          "output_type": "display_data",
          "data": {
            "text/html": [
              "<pre>| 1            | 60.3072      | 1m 8s        |</pre>"
            ],
            "text/plain": [
              "| 1            | 60.3072      | 1m 8s        |"
            ]
          },
          "metadata": {
            "tags": []
          }
        },
        {
          "output_type": "display_data",
          "data": {
            "text/html": [
              "<pre>| 2            | 60.2438      | 1m 39s       |</pre>"
            ],
            "text/plain": [
              "| 2            | 60.2438      | 1m 39s       |"
            ]
          },
          "metadata": {
            "tags": []
          }
        },
        {
          "output_type": "display_data",
          "data": {
            "text/html": [
              "<pre>| 3            | 60.1167      | 2m 11s       |</pre>"
            ],
            "text/plain": [
              "| 3            | 60.1167      | 2m 11s       |"
            ]
          },
          "metadata": {
            "tags": []
          }
        },
        {
          "output_type": "display_data",
          "data": {
            "text/html": [
              "<pre>| 4            | 59.9288      | 2m 41s       |</pre>"
            ],
            "text/plain": [
              "| 4            | 59.9288      | 2m 41s       |"
            ]
          },
          "metadata": {
            "tags": []
          }
        },
        {
          "output_type": "display_data",
          "data": {
            "text/html": [
              "<pre>| 5            | 59.6294      | 3m 12s       |</pre>"
            ],
            "text/plain": [
              "| 5            | 59.6294      | 3m 12s       |"
            ]
          },
          "metadata": {
            "tags": []
          }
        },
        {
          "output_type": "display_data",
          "data": {
            "text/html": [
              "<pre>| 7            | 58.7546      | 4m 13s       |</pre>"
            ],
            "text/plain": [
              "| 7            | 58.7546      | 4m 13s       |"
            ]
          },
          "metadata": {
            "tags": []
          }
        },
        {
          "output_type": "display_data",
          "data": {
            "text/html": [
              "<pre>| 8            | 58.1771      | 4m 42s       |</pre>"
            ],
            "text/plain": [
              "| 8            | 58.1771      | 4m 42s       |"
            ]
          },
          "metadata": {
            "tags": []
          }
        },
        {
          "output_type": "display_data",
          "data": {
            "text/html": [
              "<pre>| 9            | 57.4227      | 5m 14s       |</pre>"
            ],
            "text/plain": [
              "| 9            | 57.4227      | 5m 14s       |"
            ]
          },
          "metadata": {
            "tags": []
          }
        },
        {
          "output_type": "display_data",
          "data": {
            "text/html": [
              "<pre>| 10           | 56.5809      | 5m 46s       |</pre>"
            ],
            "text/plain": [
              "| 10           | 56.5809      | 5m 46s       |"
            ]
          },
          "metadata": {
            "tags": []
          }
        },
        {
          "output_type": "display_data",
          "data": {
            "text/html": [
              "<pre>| 11           | 55.6072      | 6m 17s       |</pre>"
            ],
            "text/plain": [
              "| 11           | 55.6072      | 6m 17s       |"
            ]
          },
          "metadata": {
            "tags": []
          }
        },
        {
          "output_type": "display_data",
          "data": {
            "text/html": [
              "<pre>| 12           | 54.559       | 6m 49s       |</pre>"
            ],
            "text/plain": [
              "| 12           | 54.559       | 6m 49s       |"
            ]
          },
          "metadata": {
            "tags": []
          }
        },
        {
          "output_type": "display_data",
          "data": {
            "text/html": [
              "<pre>| 13           | 53.3832      | 7m 21s       |</pre>"
            ],
            "text/plain": [
              "| 13           | 53.3832      | 7m 21s       |"
            ]
          },
          "metadata": {
            "tags": []
          }
        },
        {
          "output_type": "display_data",
          "data": {
            "text/html": [
              "<pre>| 14           | 52.1036      | 7m 50s       |</pre>"
            ],
            "text/plain": [
              "| 14           | 52.1036      | 7m 50s       |"
            ]
          },
          "metadata": {
            "tags": []
          }
        },
        {
          "output_type": "display_data",
          "data": {
            "text/html": [
              "<pre>| 15           | 50.7665      | 8m 22s       |</pre>"
            ],
            "text/plain": [
              "| 15           | 50.7665      | 8m 22s       |"
            ]
          },
          "metadata": {
            "tags": []
          }
        },
        {
          "output_type": "display_data",
          "data": {
            "text/html": [
              "<pre>| 16           | 49.3651      | 8m 55s       |</pre>"
            ],
            "text/plain": [
              "| 16           | 49.3651      | 8m 55s       |"
            ]
          },
          "metadata": {
            "tags": []
          }
        },
        {
          "output_type": "display_data",
          "data": {
            "text/html": [
              "<pre>| 17           | 47.9805      | 9m 26s       |</pre>"
            ],
            "text/plain": [
              "| 17           | 47.9805      | 9m 26s       |"
            ]
          },
          "metadata": {
            "tags": []
          }
        },
        {
          "output_type": "display_data",
          "data": {
            "text/html": [
              "<pre>| 18           | 46.4539      | 9m 58s       |</pre>"
            ],
            "text/plain": [
              "| 18           | 46.4539      | 9m 58s       |"
            ]
          },
          "metadata": {
            "tags": []
          }
        },
        {
          "output_type": "display_data",
          "data": {
            "text/html": [
              "<pre>| 19           | 44.9278      | 10m 31s      |</pre>"
            ],
            "text/plain": [
              "| 19           | 44.9278      | 10m 31s      |"
            ]
          },
          "metadata": {
            "tags": []
          }
        },
        {
          "output_type": "display_data",
          "data": {
            "text/html": [
              "<pre>| 20           | 43.3604      | 11m 3s       |</pre>"
            ],
            "text/plain": [
              "| 20           | 43.3604      | 11m 3s       |"
            ]
          },
          "metadata": {
            "tags": []
          }
        },
        {
          "output_type": "display_data",
          "data": {
            "text/html": [
              "<pre>| 21           | 41.787       | 11m 37s      |</pre>"
            ],
            "text/plain": [
              "| 21           | 41.787       | 11m 37s      |"
            ]
          },
          "metadata": {
            "tags": []
          }
        },
        {
          "output_type": "display_data",
          "data": {
            "text/html": [
              "<pre>| 22           | 40.2541      | 12m 9s       |</pre>"
            ],
            "text/plain": [
              "| 22           | 40.2541      | 12m 9s       |"
            ]
          },
          "metadata": {
            "tags": []
          }
        },
        {
          "output_type": "display_data",
          "data": {
            "text/html": [
              "<pre>| 23           | 38.6795      | 12m 41s      |</pre>"
            ],
            "text/plain": [
              "| 23           | 38.6795      | 12m 41s      |"
            ]
          },
          "metadata": {
            "tags": []
          }
        },
        {
          "output_type": "display_data",
          "data": {
            "text/html": [
              "<pre>| 24           | 37.0408      | 13m 15s      |</pre>"
            ],
            "text/plain": [
              "| 24           | 37.0408      | 13m 15s      |"
            ]
          },
          "metadata": {
            "tags": []
          }
        },
        {
          "output_type": "display_data",
          "data": {
            "text/html": [
              "<pre>| 25           | 35.4302      | 13m 48s      |</pre>"
            ],
            "text/plain": [
              "| 25           | 35.4302      | 13m 48s      |"
            ]
          },
          "metadata": {
            "tags": []
          }
        },
        {
          "output_type": "display_data",
          "data": {
            "text/html": [
              "<pre>| 26           | 33.9097      | 14m 21s      |</pre>"
            ],
            "text/plain": [
              "| 26           | 33.9097      | 14m 21s      |"
            ]
          },
          "metadata": {
            "tags": []
          }
        },
        {
          "output_type": "display_data",
          "data": {
            "text/html": [
              "<pre>| 27           | 32.391       | 14m 54s      |</pre>"
            ],
            "text/plain": [
              "| 27           | 32.391       | 14m 54s      |"
            ]
          },
          "metadata": {
            "tags": []
          }
        },
        {
          "output_type": "display_data",
          "data": {
            "text/html": [
              "<pre>| 28           | 30.9257      | 15m 26s      |</pre>"
            ],
            "text/plain": [
              "| 28           | 30.9257      | 15m 26s      |"
            ]
          },
          "metadata": {
            "tags": []
          }
        },
        {
          "output_type": "display_data",
          "data": {
            "text/html": [
              "<pre>| 29           | 29.4515      | 15m 58s      |</pre>"
            ],
            "text/plain": [
              "| 29           | 29.4515      | 15m 58s      |"
            ]
          },
          "metadata": {
            "tags": []
          }
        },
        {
          "output_type": "display_data",
          "data": {
            "text/html": [
              "<pre>| 30           | 28.0318      | 16m 33s      |</pre>"
            ],
            "text/plain": [
              "| 30           | 28.0318      | 16m 33s      |"
            ]
          },
          "metadata": {
            "tags": []
          }
        },
        {
          "output_type": "display_data",
          "data": {
            "text/html": [
              "<pre>| 31           | 26.6765      | 17m 6s       |</pre>"
            ],
            "text/plain": [
              "| 31           | 26.6765      | 17m 6s       |"
            ]
          },
          "metadata": {
            "tags": []
          }
        },
        {
          "output_type": "display_data",
          "data": {
            "text/html": [
              "<pre>| 32           | 25.3199      | 17m 39s      |</pre>"
            ],
            "text/plain": [
              "| 32           | 25.3199      | 17m 39s      |"
            ]
          },
          "metadata": {
            "tags": []
          }
        },
        {
          "output_type": "display_data",
          "data": {
            "text/html": [
              "<pre>| 33           | 24.1019      | 18m 13s      |</pre>"
            ],
            "text/plain": [
              "| 33           | 24.1019      | 18m 13s      |"
            ]
          },
          "metadata": {
            "tags": []
          }
        },
        {
          "output_type": "display_data",
          "data": {
            "text/html": [
              "<pre>| 34           | 22.8381      | 18m 45s      |</pre>"
            ],
            "text/plain": [
              "| 34           | 22.8381      | 18m 45s      |"
            ]
          },
          "metadata": {
            "tags": []
          }
        },
        {
          "output_type": "display_data",
          "data": {
            "text/html": [
              "<pre>| 35           | 21.6347      | 19m 17s      |</pre>"
            ],
            "text/plain": [
              "| 35           | 21.6347      | 19m 17s      |"
            ]
          },
          "metadata": {
            "tags": []
          }
        },
        {
          "output_type": "display_data",
          "data": {
            "text/html": [
              "<pre>| 36           | 20.5358      | 19m 49s      |</pre>"
            ],
            "text/plain": [
              "| 36           | 20.5358      | 19m 49s      |"
            ]
          },
          "metadata": {
            "tags": []
          }
        },
        {
          "output_type": "display_data",
          "data": {
            "text/html": [
              "<pre>| 37           | 19.4582      | 20m 24s      |</pre>"
            ],
            "text/plain": [
              "| 37           | 19.4582      | 20m 24s      |"
            ]
          },
          "metadata": {
            "tags": []
          }
        },
        {
          "output_type": "display_data",
          "data": {
            "text/html": [
              "<pre>| 38           | 18.3997      | 20m 57s      |</pre>"
            ],
            "text/plain": [
              "| 38           | 18.3997      | 20m 57s      |"
            ]
          },
          "metadata": {
            "tags": []
          }
        },
        {
          "output_type": "display_data",
          "data": {
            "text/html": [
              "<pre>| 39           | 17.4204      | 21m 29s      |</pre>"
            ],
            "text/plain": [
              "| 39           | 17.4204      | 21m 29s      |"
            ]
          },
          "metadata": {
            "tags": []
          }
        },
        {
          "output_type": "display_data",
          "data": {
            "text/html": [
              "<pre>| 40           | 16.491       | 22m 1s       |</pre>"
            ],
            "text/plain": [
              "| 40           | 16.491       | 22m 1s       |"
            ]
          },
          "metadata": {
            "tags": []
          }
        },
        {
          "output_type": "display_data",
          "data": {
            "text/html": [
              "<pre>| 41           | 15.5973      | 22m 34s      |</pre>"
            ],
            "text/plain": [
              "| 41           | 15.5973      | 22m 34s      |"
            ]
          },
          "metadata": {
            "tags": []
          }
        },
        {
          "output_type": "display_data",
          "data": {
            "text/html": [
              "<pre>| 42           | 14.7671      | 23m 5s       |</pre>"
            ],
            "text/plain": [
              "| 42           | 14.7671      | 23m 5s       |"
            ]
          },
          "metadata": {
            "tags": []
          }
        },
        {
          "output_type": "display_data",
          "data": {
            "text/html": [
              "<pre>| 43           | 13.9944      | 23m 38s      |</pre>"
            ],
            "text/plain": [
              "| 43           | 13.9944      | 23m 38s      |"
            ]
          },
          "metadata": {
            "tags": []
          }
        },
        {
          "output_type": "display_data",
          "data": {
            "text/html": [
              "<pre>| 44           | 13.2527      | 24m 12s      |</pre>"
            ],
            "text/plain": [
              "| 44           | 13.2527      | 24m 12s      |"
            ]
          },
          "metadata": {
            "tags": []
          }
        },
        {
          "output_type": "display_data",
          "data": {
            "text/html": [
              "<pre>| 45           | 12.5708      | 24m 44s      |</pre>"
            ],
            "text/plain": [
              "| 45           | 12.5708      | 24m 44s      |"
            ]
          },
          "metadata": {
            "tags": []
          }
        },
        {
          "output_type": "display_data",
          "data": {
            "text/html": [
              "<pre>| 46           | 11.9153      | 25m 17s      |</pre>"
            ],
            "text/plain": [
              "| 46           | 11.9153      | 25m 17s      |"
            ]
          },
          "metadata": {
            "tags": []
          }
        },
        {
          "output_type": "display_data",
          "data": {
            "text/html": [
              "<pre>| 47           | 11.2671      | 25m 50s      |</pre>"
            ],
            "text/plain": [
              "| 47           | 11.2671      | 25m 50s      |"
            ]
          },
          "metadata": {
            "tags": []
          }
        },
        {
          "output_type": "display_data",
          "data": {
            "text/html": [
              "<pre>| 48           | 10.6774      | 26m 23s      |</pre>"
            ],
            "text/plain": [
              "| 48           | 10.6774      | 26m 23s      |"
            ]
          },
          "metadata": {
            "tags": []
          }
        },
        {
          "output_type": "display_data",
          "data": {
            "text/html": [
              "<pre>| 49           | 10.1415      | 26m 55s      |</pre>"
            ],
            "text/plain": [
              "| 49           | 10.1415      | 26m 55s      |"
            ]
          },
          "metadata": {
            "tags": []
          }
        },
        {
          "output_type": "display_data",
          "data": {
            "text/html": [
              "<pre>| 50           | 9.61611      | 27m 29s      |</pre>"
            ],
            "text/plain": [
              "| 50           | 9.61611      | 27m 29s      |"
            ]
          },
          "metadata": {
            "tags": []
          }
        },
        {
          "output_type": "display_data",
          "data": {
            "text/html": [
              "<pre>| 51           | 9.10298      | 28m 1s       |</pre>"
            ],
            "text/plain": [
              "| 51           | 9.10298      | 28m 1s       |"
            ]
          },
          "metadata": {
            "tags": []
          }
        },
        {
          "output_type": "display_data",
          "data": {
            "text/html": [
              "<pre>| 52           | 8.66332      | 28m 33s      |</pre>"
            ],
            "text/plain": [
              "| 52           | 8.66332      | 28m 33s      |"
            ]
          },
          "metadata": {
            "tags": []
          }
        },
        {
          "output_type": "display_data",
          "data": {
            "text/html": [
              "<pre>| 53           | 8.20644      | 29m 7s       |</pre>"
            ],
            "text/plain": [
              "| 53           | 8.20644      | 29m 7s       |"
            ]
          },
          "metadata": {
            "tags": []
          }
        },
        {
          "output_type": "display_data",
          "data": {
            "text/html": [
              "<pre>| 54           | 7.78486      | 29m 40s      |</pre>"
            ],
            "text/plain": [
              "| 54           | 7.78486      | 29m 40s      |"
            ]
          },
          "metadata": {
            "tags": []
          }
        },
        {
          "output_type": "display_data",
          "data": {
            "text/html": [
              "<pre>| 55           | 7.42243      | 30m 15s      |</pre>"
            ],
            "text/plain": [
              "| 55           | 7.42243      | 30m 15s      |"
            ]
          },
          "metadata": {
            "tags": []
          }
        },
        {
          "output_type": "display_data",
          "data": {
            "text/html": [
              "<pre>| 56           | 7.06876      | 30m 48s      |</pre>"
            ],
            "text/plain": [
              "| 56           | 7.06876      | 30m 48s      |"
            ]
          },
          "metadata": {
            "tags": []
          }
        },
        {
          "output_type": "display_data",
          "data": {
            "text/html": [
              "<pre>| 57           | 6.76412      | 31m 22s      |</pre>"
            ],
            "text/plain": [
              "| 57           | 6.76412      | 31m 22s      |"
            ]
          },
          "metadata": {
            "tags": []
          }
        },
        {
          "output_type": "display_data",
          "data": {
            "text/html": [
              "<pre>| 58           | 6.50602      | 31m 54s      |</pre>"
            ],
            "text/plain": [
              "| 58           | 6.50602      | 31m 54s      |"
            ]
          },
          "metadata": {
            "tags": []
          }
        },
        {
          "output_type": "display_data",
          "data": {
            "text/html": [
              "<pre>| 59           | 6.24231      | 32m 27s      |</pre>"
            ],
            "text/plain": [
              "| 59           | 6.24231      | 32m 27s      |"
            ]
          },
          "metadata": {
            "tags": []
          }
        },
        {
          "output_type": "display_data",
          "data": {
            "text/html": [
              "<pre>| 60           | 5.96252      | 33m 1s       |</pre>"
            ],
            "text/plain": [
              "| 60           | 5.96252      | 33m 1s       |"
            ]
          },
          "metadata": {
            "tags": []
          }
        },
        {
          "output_type": "display_data",
          "data": {
            "text/html": [
              "<pre>| 61           | 5.7057       | 33m 34s      |</pre>"
            ],
            "text/plain": [
              "| 61           | 5.7057       | 33m 34s      |"
            ]
          },
          "metadata": {
            "tags": []
          }
        },
        {
          "output_type": "display_data",
          "data": {
            "text/html": [
              "<pre>| 62           | 5.48852      | 34m 7s       |</pre>"
            ],
            "text/plain": [
              "| 62           | 5.48852      | 34m 7s       |"
            ]
          },
          "metadata": {
            "tags": []
          }
        },
        {
          "output_type": "display_data",
          "data": {
            "text/html": [
              "<pre>| 63           | 5.28063      | 34m 41s      |</pre>"
            ],
            "text/plain": [
              "| 63           | 5.28063      | 34m 41s      |"
            ]
          },
          "metadata": {
            "tags": []
          }
        },
        {
          "output_type": "display_data",
          "data": {
            "text/html": [
              "<pre>| 64           | 5.12402      | 35m 12s      |</pre>"
            ],
            "text/plain": [
              "| 64           | 5.12402      | 35m 12s      |"
            ]
          },
          "metadata": {
            "tags": []
          }
        },
        {
          "output_type": "display_data",
          "data": {
            "text/html": [
              "<pre>| 65           | 4.97245      | 35m 48s      |</pre>"
            ],
            "text/plain": [
              "| 65           | 4.97245      | 35m 48s      |"
            ]
          },
          "metadata": {
            "tags": []
          }
        },
        {
          "output_type": "display_data",
          "data": {
            "text/html": [
              "<pre>| 66           | 4.81041      | 36m 21s      |</pre>"
            ],
            "text/plain": [
              "| 66           | 4.81041      | 36m 21s      |"
            ]
          },
          "metadata": {
            "tags": []
          }
        },
        {
          "output_type": "display_data",
          "data": {
            "text/html": [
              "<pre>| 67           | 4.66934      | 36m 54s      |</pre>"
            ],
            "text/plain": [
              "| 67           | 4.66934      | 36m 54s      |"
            ]
          },
          "metadata": {
            "tags": []
          }
        },
        {
          "output_type": "display_data",
          "data": {
            "text/html": [
              "<pre>| 68           | 4.49778      | 37m 27s      |</pre>"
            ],
            "text/plain": [
              "| 68           | 4.49778      | 37m 27s      |"
            ]
          },
          "metadata": {
            "tags": []
          }
        },
        {
          "output_type": "display_data",
          "data": {
            "text/html": [
              "<pre>| 69           | 4.37696      | 38m 1s       |</pre>"
            ],
            "text/plain": [
              "| 69           | 4.37696      | 38m 1s       |"
            ]
          },
          "metadata": {
            "tags": []
          }
        },
        {
          "output_type": "display_data",
          "data": {
            "text/html": [
              "<pre>| 70           | 4.23705      | 38m 32s      |</pre>"
            ],
            "text/plain": [
              "| 70           | 4.23705      | 38m 32s      |"
            ]
          },
          "metadata": {
            "tags": []
          }
        },
        {
          "output_type": "display_data",
          "data": {
            "text/html": [
              "<pre>| 71           | 4.08206      | 39m 8s       |</pre>"
            ],
            "text/plain": [
              "| 71           | 4.08206      | 39m 8s       |"
            ]
          },
          "metadata": {
            "tags": []
          }
        },
        {
          "output_type": "display_data",
          "data": {
            "text/html": [
              "<pre>| 72           | 3.97157      | 39m 41s      |</pre>"
            ],
            "text/plain": [
              "| 72           | 3.97157      | 39m 41s      |"
            ]
          },
          "metadata": {
            "tags": []
          }
        },
        {
          "output_type": "display_data",
          "data": {
            "text/html": [
              "<pre>| 73           | 3.82987      | 40m 14s      |</pre>"
            ],
            "text/plain": [
              "| 73           | 3.82987      | 40m 14s      |"
            ]
          },
          "metadata": {
            "tags": []
          }
        },
        {
          "output_type": "display_data",
          "data": {
            "text/html": [
              "<pre>| 74           | 3.72625      | 40m 46s      |</pre>"
            ],
            "text/plain": [
              "| 74           | 3.72625      | 40m 46s      |"
            ]
          },
          "metadata": {
            "tags": []
          }
        },
        {
          "output_type": "display_data",
          "data": {
            "text/html": [
              "<pre>| 75           | 3.59798      | 41m 19s      |</pre>"
            ],
            "text/plain": [
              "| 75           | 3.59798      | 41m 19s      |"
            ]
          },
          "metadata": {
            "tags": []
          }
        },
        {
          "output_type": "display_data",
          "data": {
            "text/html": [
              "<pre>| 76           | 3.46271      | 41m 54s      |</pre>"
            ],
            "text/plain": [
              "| 76           | 3.46271      | 41m 54s      |"
            ]
          },
          "metadata": {
            "tags": []
          }
        },
        {
          "output_type": "display_data",
          "data": {
            "text/html": [
              "<pre>| 77           | 3.40899      | 42m 26s      |</pre>"
            ],
            "text/plain": [
              "| 77           | 3.40899      | 42m 26s      |"
            ]
          },
          "metadata": {
            "tags": []
          }
        },
        {
          "output_type": "display_data",
          "data": {
            "text/html": [
              "<pre>| 78           | 3.34322      | 42m 59s      |</pre>"
            ],
            "text/plain": [
              "| 78           | 3.34322      | 42m 59s      |"
            ]
          },
          "metadata": {
            "tags": []
          }
        },
        {
          "output_type": "display_data",
          "data": {
            "text/html": [
              "<pre>| 79           | 3.26009      | 43m 33s      |</pre>"
            ],
            "text/plain": [
              "| 79           | 3.26009      | 43m 33s      |"
            ]
          },
          "metadata": {
            "tags": []
          }
        },
        {
          "output_type": "display_data",
          "data": {
            "text/html": [
              "<pre>| 80           | 3.19457      | 44m 2s       |</pre>"
            ],
            "text/plain": [
              "| 80           | 3.19457      | 44m 2s       |"
            ]
          },
          "metadata": {
            "tags": []
          }
        },
        {
          "output_type": "display_data",
          "data": {
            "text/html": [
              "<pre>| 81           | 3.07502      | 44m 36s      |</pre>"
            ],
            "text/plain": [
              "| 81           | 3.07502      | 44m 36s      |"
            ]
          },
          "metadata": {
            "tags": []
          }
        },
        {
          "output_type": "display_data",
          "data": {
            "text/html": [
              "<pre>| 82           | 3.05318      | 45m 8s       |</pre>"
            ],
            "text/plain": [
              "| 82           | 3.05318      | 45m 8s       |"
            ]
          },
          "metadata": {
            "tags": []
          }
        },
        {
          "output_type": "display_data",
          "data": {
            "text/html": [
              "<pre>| 83           | 3.00821      | 45m 39s      |</pre>"
            ],
            "text/plain": [
              "| 83           | 3.00821      | 45m 39s      |"
            ]
          },
          "metadata": {
            "tags": []
          }
        },
        {
          "output_type": "display_data",
          "data": {
            "text/html": [
              "<pre>| 84           | 2.98553      | 46m 12s      |</pre>"
            ],
            "text/plain": [
              "| 84           | 2.98553      | 46m 12s      |"
            ]
          },
          "metadata": {
            "tags": []
          }
        },
        {
          "output_type": "display_data",
          "data": {
            "text/html": [
              "<pre>| 85           | 2.89233      | 46m 44s      |</pre>"
            ],
            "text/plain": [
              "| 85           | 2.89233      | 46m 44s      |"
            ]
          },
          "metadata": {
            "tags": []
          }
        },
        {
          "output_type": "display_data",
          "data": {
            "text/html": [
              "<pre>| 86           | 2.84561      | 47m 15s      |</pre>"
            ],
            "text/plain": [
              "| 86           | 2.84561      | 47m 15s      |"
            ]
          },
          "metadata": {
            "tags": []
          }
        },
        {
          "output_type": "display_data",
          "data": {
            "text/html": [
              "<pre>| 87           | 2.77038      | 47m 48s      |</pre>"
            ],
            "text/plain": [
              "| 87           | 2.77038      | 47m 48s      |"
            ]
          },
          "metadata": {
            "tags": []
          }
        },
        {
          "output_type": "display_data",
          "data": {
            "text/html": [
              "<pre>| 88           | 2.739        | 48m 20s      |</pre>"
            ],
            "text/plain": [
              "| 88           | 2.739        | 48m 20s      |"
            ]
          },
          "metadata": {
            "tags": []
          }
        },
        {
          "output_type": "display_data",
          "data": {
            "text/html": [
              "<pre>| 89           | 2.70784      | 48m 54s      |</pre>"
            ],
            "text/plain": [
              "| 89           | 2.70784      | 48m 54s      |"
            ]
          },
          "metadata": {
            "tags": []
          }
        },
        {
          "output_type": "display_data",
          "data": {
            "text/html": [
              "<pre>| 90           | 2.70583      | 49m 26s      |</pre>"
            ],
            "text/plain": [
              "| 90           | 2.70583      | 49m 26s      |"
            ]
          },
          "metadata": {
            "tags": []
          }
        },
        {
          "output_type": "display_data",
          "data": {
            "text/html": [
              "<pre>| 91           | 2.66836      | 49m 58s      |</pre>"
            ],
            "text/plain": [
              "| 91           | 2.66836      | 49m 58s      |"
            ]
          },
          "metadata": {
            "tags": []
          }
        },
        {
          "output_type": "display_data",
          "data": {
            "text/html": [
              "<pre>| 92           | 2.61644      | 50m 29s      |</pre>"
            ],
            "text/plain": [
              "| 92           | 2.61644      | 50m 29s      |"
            ]
          },
          "metadata": {
            "tags": []
          }
        },
        {
          "output_type": "display_data",
          "data": {
            "text/html": [
              "<pre>| 93           | 2.57818      | 51m 2s       |</pre>"
            ],
            "text/plain": [
              "| 93           | 2.57818      | 51m 2s       |"
            ]
          },
          "metadata": {
            "tags": []
          }
        },
        {
          "output_type": "display_data",
          "data": {
            "text/html": [
              "<pre>| 94           | 2.53364      | 51m 34s      |</pre>"
            ],
            "text/plain": [
              "| 94           | 2.53364      | 51m 34s      |"
            ]
          },
          "metadata": {
            "tags": []
          }
        },
        {
          "output_type": "display_data",
          "data": {
            "text/html": [
              "<pre>| 95           | 2.49213      | 52m 6s       |</pre>"
            ],
            "text/plain": [
              "| 95           | 2.49213      | 52m 6s       |"
            ]
          },
          "metadata": {
            "tags": []
          }
        },
        {
          "output_type": "display_data",
          "data": {
            "text/html": [
              "<pre>| 96           | 2.47909      | 52m 39s      |</pre>"
            ],
            "text/plain": [
              "| 96           | 2.47909      | 52m 39s      |"
            ]
          },
          "metadata": {
            "tags": []
          }
        },
        {
          "output_type": "display_data",
          "data": {
            "text/html": [
              "<pre>| 97           | 2.47147      | 53m 12s      |</pre>"
            ],
            "text/plain": [
              "| 97           | 2.47147      | 53m 12s      |"
            ]
          },
          "metadata": {
            "tags": []
          }
        },
        {
          "output_type": "display_data",
          "data": {
            "text/html": [
              "<pre>| 98           | 2.47389      | 53m 44s      |</pre>"
            ],
            "text/plain": [
              "| 98           | 2.47389      | 53m 44s      |"
            ]
          },
          "metadata": {
            "tags": []
          }
        },
        {
          "output_type": "display_data",
          "data": {
            "text/html": [
              "<pre>| 99           | 2.42882      | 54m 15s      |</pre>"
            ],
            "text/plain": [
              "| 99           | 2.42882      | 54m 15s      |"
            ]
          },
          "metadata": {
            "tags": []
          }
        },
        {
          "output_type": "display_data",
          "data": {
            "text/html": [
              "<pre>| 100          | 2.39247      | 54m 49s      |</pre>"
            ],
            "text/plain": [
              "| 100          | 2.39247      | 54m 49s      |"
            ]
          },
          "metadata": {
            "tags": []
          }
        },
        {
          "output_type": "display_data",
          "data": {
            "text/html": [
              "<pre>| 101          | 2.44401      | 55m 21s      |</pre>"
            ],
            "text/plain": [
              "| 101          | 2.44401      | 55m 21s      |"
            ]
          },
          "metadata": {
            "tags": []
          }
        },
        {
          "output_type": "display_data",
          "data": {
            "text/html": [
              "<pre>| 102          | 2.43495      | 55m 53s      |</pre>"
            ],
            "text/plain": [
              "| 102          | 2.43495      | 55m 53s      |"
            ]
          },
          "metadata": {
            "tags": []
          }
        },
        {
          "output_type": "display_data",
          "data": {
            "text/html": [
              "<pre>| 103          | 2.39591      | 56m 25s      |</pre>"
            ],
            "text/plain": [
              "| 103          | 2.39591      | 56m 25s      |"
            ]
          },
          "metadata": {
            "tags": []
          }
        },
        {
          "output_type": "display_data",
          "data": {
            "text/html": [
              "<pre>| 104          | 2.34949      | 56m 58s      |</pre>"
            ],
            "text/plain": [
              "| 104          | 2.34949      | 56m 58s      |"
            ]
          },
          "metadata": {
            "tags": []
          }
        },
        {
          "output_type": "display_data",
          "data": {
            "text/html": [
              "<pre>| 105          | 2.34621      | 57m 31s      |</pre>"
            ],
            "text/plain": [
              "| 105          | 2.34621      | 57m 31s      |"
            ]
          },
          "metadata": {
            "tags": []
          }
        },
        {
          "output_type": "display_data",
          "data": {
            "text/html": [
              "<pre>| 106          | 2.30861      | 58m 4s       |</pre>"
            ],
            "text/plain": [
              "| 106          | 2.30861      | 58m 4s       |"
            ]
          },
          "metadata": {
            "tags": []
          }
        },
        {
          "output_type": "display_data",
          "data": {
            "text/html": [
              "<pre>| 107          | 2.26424      | 58m 35s      |</pre>"
            ],
            "text/plain": [
              "| 107          | 2.26424      | 58m 35s      |"
            ]
          },
          "metadata": {
            "tags": []
          }
        },
        {
          "output_type": "display_data",
          "data": {
            "text/html": [
              "<pre>| 108          | 2.27604      | 59m 7s       |</pre>"
            ],
            "text/plain": [
              "| 108          | 2.27604      | 59m 7s       |"
            ]
          },
          "metadata": {
            "tags": []
          }
        },
        {
          "output_type": "display_data",
          "data": {
            "text/html": [
              "<pre>| 109          | 2.24003      | 59m 39s      |</pre>"
            ],
            "text/plain": [
              "| 109          | 2.24003      | 59m 39s      |"
            ]
          },
          "metadata": {
            "tags": []
          }
        },
        {
          "output_type": "display_data",
          "data": {
            "text/html": [
              "<pre>| 110          | 2.17959      | 1h 0m        |</pre>"
            ],
            "text/plain": [
              "| 110          | 2.17959      | 1h 0m        |"
            ]
          },
          "metadata": {
            "tags": []
          }
        },
        {
          "output_type": "display_data",
          "data": {
            "text/html": [
              "<pre>| 111          | 2.13673      | 1h 0m        |</pre>"
            ],
            "text/plain": [
              "| 111          | 2.13673      | 1h 0m        |"
            ]
          },
          "metadata": {
            "tags": []
          }
        },
        {
          "output_type": "display_data",
          "data": {
            "text/html": [
              "<pre>| 112          | 2.1114       | 1h 1m        |</pre>"
            ],
            "text/plain": [
              "| 112          | 2.1114       | 1h 1m        |"
            ]
          },
          "metadata": {
            "tags": []
          }
        },
        {
          "output_type": "display_data",
          "data": {
            "text/html": [
              "<pre>| 113          | 2.09438      | 1h 1m        |</pre>"
            ],
            "text/plain": [
              "| 113          | 2.09438      | 1h 1m        |"
            ]
          },
          "metadata": {
            "tags": []
          }
        },
        {
          "output_type": "display_data",
          "data": {
            "text/html": [
              "<pre>| 114          | 2.11862      | 1h 2m        |</pre>"
            ],
            "text/plain": [
              "| 114          | 2.11862      | 1h 2m        |"
            ]
          },
          "metadata": {
            "tags": []
          }
        },
        {
          "output_type": "display_data",
          "data": {
            "text/html": [
              "<pre>| 115          | 2.09553      | 1h 2m        |</pre>"
            ],
            "text/plain": [
              "| 115          | 2.09553      | 1h 2m        |"
            ]
          },
          "metadata": {
            "tags": []
          }
        },
        {
          "output_type": "display_data",
          "data": {
            "text/html": [
              "<pre>| 116          | 2.07023      | 1h 3m        |</pre>"
            ],
            "text/plain": [
              "| 116          | 2.07023      | 1h 3m        |"
            ]
          },
          "metadata": {
            "tags": []
          }
        },
        {
          "output_type": "display_data",
          "data": {
            "text/html": [
              "<pre>| 117          | 2.06429      | 1h 3m        |</pre>"
            ],
            "text/plain": [
              "| 117          | 2.06429      | 1h 3m        |"
            ]
          },
          "metadata": {
            "tags": []
          }
        },
        {
          "output_type": "display_data",
          "data": {
            "text/html": [
              "<pre>| 118          | 2.06991      | 1h 4m        |</pre>"
            ],
            "text/plain": [
              "| 118          | 2.06991      | 1h 4m        |"
            ]
          },
          "metadata": {
            "tags": []
          }
        },
        {
          "output_type": "display_data",
          "data": {
            "text/html": [
              "<pre>| 119          | 2.04363      | 1h 4m        |</pre>"
            ],
            "text/plain": [
              "| 119          | 2.04363      | 1h 4m        |"
            ]
          },
          "metadata": {
            "tags": []
          }
        },
        {
          "output_type": "display_data",
          "data": {
            "text/html": [
              "<pre>| 120          | 2.04907      | 1h 5m        |</pre>"
            ],
            "text/plain": [
              "| 120          | 2.04907      | 1h 5m        |"
            ]
          },
          "metadata": {
            "tags": []
          }
        },
        {
          "output_type": "display_data",
          "data": {
            "text/html": [
              "<pre>| 121          | 2.03405      | 1h 6m        |</pre>"
            ],
            "text/plain": [
              "| 121          | 2.03405      | 1h 6m        |"
            ]
          },
          "metadata": {
            "tags": []
          }
        },
        {
          "output_type": "display_data",
          "data": {
            "text/html": [
              "<pre>| 122          | 1.98697      | 1h 6m        |</pre>"
            ],
            "text/plain": [
              "| 122          | 1.98697      | 1h 6m        |"
            ]
          },
          "metadata": {
            "tags": []
          }
        },
        {
          "output_type": "display_data",
          "data": {
            "text/html": [
              "<pre>| 123          | 2.0071       | 1h 7m        |</pre>"
            ],
            "text/plain": [
              "| 123          | 2.0071       | 1h 7m        |"
            ]
          },
          "metadata": {
            "tags": []
          }
        },
        {
          "output_type": "display_data",
          "data": {
            "text/html": [
              "<pre>| 124          | 2.00659      | 1h 7m        |</pre>"
            ],
            "text/plain": [
              "| 124          | 2.00659      | 1h 7m        |"
            ]
          },
          "metadata": {
            "tags": []
          }
        },
        {
          "output_type": "display_data",
          "data": {
            "text/html": [
              "<pre>| 125          | 1.95419      | 1h 8m        |</pre>"
            ],
            "text/plain": [
              "| 125          | 1.95419      | 1h 8m        |"
            ]
          },
          "metadata": {
            "tags": []
          }
        },
        {
          "output_type": "display_data",
          "data": {
            "text/html": [
              "<pre>| 126          | 1.93538      | 1h 8m        |</pre>"
            ],
            "text/plain": [
              "| 126          | 1.93538      | 1h 8m        |"
            ]
          },
          "metadata": {
            "tags": []
          }
        },
        {
          "output_type": "display_data",
          "data": {
            "text/html": [
              "<pre>| 127          | 1.92026      | 1h 9m        |</pre>"
            ],
            "text/plain": [
              "| 127          | 1.92026      | 1h 9m        |"
            ]
          },
          "metadata": {
            "tags": []
          }
        },
        {
          "output_type": "display_data",
          "data": {
            "text/html": [
              "<pre>| 128          | 1.92441      | 1h 9m        |</pre>"
            ],
            "text/plain": [
              "| 128          | 1.92441      | 1h 9m        |"
            ]
          },
          "metadata": {
            "tags": []
          }
        },
        {
          "output_type": "display_data",
          "data": {
            "text/html": [
              "<pre>| 129          | 1.9144       | 1h 10m       |</pre>"
            ],
            "text/plain": [
              "| 129          | 1.9144       | 1h 10m       |"
            ]
          },
          "metadata": {
            "tags": []
          }
        },
        {
          "output_type": "display_data",
          "data": {
            "text/html": [
              "<pre>| 130          | 1.91309      | 1h 10m       |</pre>"
            ],
            "text/plain": [
              "| 130          | 1.91309      | 1h 10m       |"
            ]
          },
          "metadata": {
            "tags": []
          }
        },
        {
          "output_type": "display_data",
          "data": {
            "text/html": [
              "<pre>| 131          | 1.93323      | 1h 11m       |</pre>"
            ],
            "text/plain": [
              "| 131          | 1.93323      | 1h 11m       |"
            ]
          },
          "metadata": {
            "tags": []
          }
        },
        {
          "output_type": "display_data",
          "data": {
            "text/html": [
              "<pre>| 132          | 1.88487      | 1h 12m       |</pre>"
            ],
            "text/plain": [
              "| 132          | 1.88487      | 1h 12m       |"
            ]
          },
          "metadata": {
            "tags": []
          }
        },
        {
          "output_type": "display_data",
          "data": {
            "text/html": [
              "<pre>| 133          | 1.8848       | 1h 12m       |</pre>"
            ],
            "text/plain": [
              "| 133          | 1.8848       | 1h 12m       |"
            ]
          },
          "metadata": {
            "tags": []
          }
        },
        {
          "output_type": "display_data",
          "data": {
            "text/html": [
              "<pre>| 134          | 1.84845      | 1h 13m       |</pre>"
            ],
            "text/plain": [
              "| 134          | 1.84845      | 1h 13m       |"
            ]
          },
          "metadata": {
            "tags": []
          }
        },
        {
          "output_type": "display_data",
          "data": {
            "text/html": [
              "<pre>| 135          | 1.82224      | 1h 13m       |</pre>"
            ],
            "text/plain": [
              "| 135          | 1.82224      | 1h 13m       |"
            ]
          },
          "metadata": {
            "tags": []
          }
        },
        {
          "output_type": "display_data",
          "data": {
            "text/html": [
              "<pre>| 136          | 1.87815      | 1h 14m       |</pre>"
            ],
            "text/plain": [
              "| 136          | 1.87815      | 1h 14m       |"
            ]
          },
          "metadata": {
            "tags": []
          }
        },
        {
          "output_type": "display_data",
          "data": {
            "text/html": [
              "<pre>| 137          | 1.83518      | 1h 14m       |</pre>"
            ],
            "text/plain": [
              "| 137          | 1.83518      | 1h 14m       |"
            ]
          },
          "metadata": {
            "tags": []
          }
        },
        {
          "output_type": "display_data",
          "data": {
            "text/html": [
              "<pre>| 138          | 1.83132      | 1h 15m       |</pre>"
            ],
            "text/plain": [
              "| 138          | 1.83132      | 1h 15m       |"
            ]
          },
          "metadata": {
            "tags": []
          }
        },
        {
          "output_type": "display_data",
          "data": {
            "text/html": [
              "<pre>| 139          | 1.83019      | 1h 15m       |</pre>"
            ],
            "text/plain": [
              "| 139          | 1.83019      | 1h 15m       |"
            ]
          },
          "metadata": {
            "tags": []
          }
        },
        {
          "output_type": "display_data",
          "data": {
            "text/html": [
              "<pre>| 140          | 1.817        | 1h 16m       |</pre>"
            ],
            "text/plain": [
              "| 140          | 1.817        | 1h 16m       |"
            ]
          },
          "metadata": {
            "tags": []
          }
        },
        {
          "output_type": "display_data",
          "data": {
            "text/html": [
              "<pre>| 141          | 1.81335      | 1h 16m       |</pre>"
            ],
            "text/plain": [
              "| 141          | 1.81335      | 1h 16m       |"
            ]
          },
          "metadata": {
            "tags": []
          }
        },
        {
          "output_type": "display_data",
          "data": {
            "text/html": [
              "<pre>| 142          | 1.79005      | 1h 17m       |</pre>"
            ],
            "text/plain": [
              "| 142          | 1.79005      | 1h 17m       |"
            ]
          },
          "metadata": {
            "tags": []
          }
        },
        {
          "output_type": "display_data",
          "data": {
            "text/html": [
              "<pre>| 143          | 1.79061      | 1h 17m       |</pre>"
            ],
            "text/plain": [
              "| 143          | 1.79061      | 1h 17m       |"
            ]
          },
          "metadata": {
            "tags": []
          }
        },
        {
          "output_type": "display_data",
          "data": {
            "text/html": [
              "<pre>| 144          | 1.79017      | 1h 18m       |</pre>"
            ],
            "text/plain": [
              "| 144          | 1.79017      | 1h 18m       |"
            ]
          },
          "metadata": {
            "tags": []
          }
        },
        {
          "output_type": "display_data",
          "data": {
            "text/html": [
              "<pre>| 145          | 1.78517      | 1h 19m       |</pre>"
            ],
            "text/plain": [
              "| 145          | 1.78517      | 1h 19m       |"
            ]
          },
          "metadata": {
            "tags": []
          }
        },
        {
          "output_type": "display_data",
          "data": {
            "text/html": [
              "<pre>| 146          | 1.75849      | 1h 19m       |</pre>"
            ],
            "text/plain": [
              "| 146          | 1.75849      | 1h 19m       |"
            ]
          },
          "metadata": {
            "tags": []
          }
        },
        {
          "output_type": "display_data",
          "data": {
            "text/html": [
              "<pre>| 147          | 1.76897      | 1h 20m       |</pre>"
            ],
            "text/plain": [
              "| 147          | 1.76897      | 1h 20m       |"
            ]
          },
          "metadata": {
            "tags": []
          }
        },
        {
          "output_type": "display_data",
          "data": {
            "text/html": [
              "<pre>| 148          | 1.75999      | 1h 20m       |</pre>"
            ],
            "text/plain": [
              "| 148          | 1.75999      | 1h 20m       |"
            ]
          },
          "metadata": {
            "tags": []
          }
        },
        {
          "output_type": "display_data",
          "data": {
            "text/html": [
              "<pre>| 149          | 1.73845      | 1h 21m       |</pre>"
            ],
            "text/plain": [
              "| 149          | 1.73845      | 1h 21m       |"
            ]
          },
          "metadata": {
            "tags": []
          }
        },
        {
          "output_type": "display_data",
          "data": {
            "text/html": [
              "<pre>| 150          | 1.7184       | 1h 21m       |</pre>"
            ],
            "text/plain": [
              "| 150          | 1.7184       | 1h 21m       |"
            ]
          },
          "metadata": {
            "tags": []
          }
        },
        {
          "output_type": "display_data",
          "data": {
            "text/html": [
              "<pre>| 151          | 1.71746      | 1h 22m       |</pre>"
            ],
            "text/plain": [
              "| 151          | 1.71746      | 1h 22m       |"
            ]
          },
          "metadata": {
            "tags": []
          }
        },
        {
          "output_type": "display_data",
          "data": {
            "text/html": [
              "<pre>| 152          | 1.70157      | 1h 22m       |</pre>"
            ],
            "text/plain": [
              "| 152          | 1.70157      | 1h 22m       |"
            ]
          },
          "metadata": {
            "tags": []
          }
        },
        {
          "output_type": "display_data",
          "data": {
            "text/html": [
              "<pre>| 153          | 1.66942      | 1h 23m       |</pre>"
            ],
            "text/plain": [
              "| 153          | 1.66942      | 1h 23m       |"
            ]
          },
          "metadata": {
            "tags": []
          }
        },
        {
          "output_type": "display_data",
          "data": {
            "text/html": [
              "<pre>| 154          | 1.65674      | 1h 23m       |</pre>"
            ],
            "text/plain": [
              "| 154          | 1.65674      | 1h 23m       |"
            ]
          },
          "metadata": {
            "tags": []
          }
        },
        {
          "output_type": "display_data",
          "data": {
            "text/html": [
              "<pre>| 155          | 1.6414       | 1h 24m       |</pre>"
            ],
            "text/plain": [
              "| 155          | 1.6414       | 1h 24m       |"
            ]
          },
          "metadata": {
            "tags": []
          }
        },
        {
          "output_type": "display_data",
          "data": {
            "text/html": [
              "<pre>| 156          | 1.63473      | 1h 24m       |</pre>"
            ],
            "text/plain": [
              "| 156          | 1.63473      | 1h 24m       |"
            ]
          },
          "metadata": {
            "tags": []
          }
        },
        {
          "output_type": "display_data",
          "data": {
            "text/html": [
              "<pre>| 157          | 1.64316      | 1h 25m       |</pre>"
            ],
            "text/plain": [
              "| 157          | 1.64316      | 1h 25m       |"
            ]
          },
          "metadata": {
            "tags": []
          }
        },
        {
          "output_type": "display_data",
          "data": {
            "text/html": [
              "<pre>| 158          | 1.61601      | 1h 25m       |</pre>"
            ],
            "text/plain": [
              "| 158          | 1.61601      | 1h 25m       |"
            ]
          },
          "metadata": {
            "tags": []
          }
        },
        {
          "output_type": "display_data",
          "data": {
            "text/html": [
              "<pre>| 159          | 1.56478      | 1h 26m       |</pre>"
            ],
            "text/plain": [
              "| 159          | 1.56478      | 1h 26m       |"
            ]
          },
          "metadata": {
            "tags": []
          }
        },
        {
          "output_type": "display_data",
          "data": {
            "text/html": [
              "<pre>| 160          | 1.58856      | 1h 27m       |</pre>"
            ],
            "text/plain": [
              "| 160          | 1.58856      | 1h 27m       |"
            ]
          },
          "metadata": {
            "tags": []
          }
        },
        {
          "output_type": "display_data",
          "data": {
            "text/html": [
              "<pre>| 161          | 1.58577      | 1h 27m       |</pre>"
            ],
            "text/plain": [
              "| 161          | 1.58577      | 1h 27m       |"
            ]
          },
          "metadata": {
            "tags": []
          }
        },
        {
          "output_type": "display_data",
          "data": {
            "text/html": [
              "<pre>| 162          | 1.5876       | 1h 28m       |</pre>"
            ],
            "text/plain": [
              "| 162          | 1.5876       | 1h 28m       |"
            ]
          },
          "metadata": {
            "tags": []
          }
        },
        {
          "output_type": "display_data",
          "data": {
            "text/html": [
              "<pre>| 163          | 1.60209      | 1h 28m       |</pre>"
            ],
            "text/plain": [
              "| 163          | 1.60209      | 1h 28m       |"
            ]
          },
          "metadata": {
            "tags": []
          }
        },
        {
          "output_type": "display_data",
          "data": {
            "text/html": [
              "<pre>| 164          | 1.62067      | 1h 29m       |</pre>"
            ],
            "text/plain": [
              "| 164          | 1.62067      | 1h 29m       |"
            ]
          },
          "metadata": {
            "tags": []
          }
        },
        {
          "output_type": "display_data",
          "data": {
            "text/html": [
              "<pre>| 165          | 1.62644      | 1h 29m       |</pre>"
            ],
            "text/plain": [
              "| 165          | 1.62644      | 1h 29m       |"
            ]
          },
          "metadata": {
            "tags": []
          }
        },
        {
          "output_type": "display_data",
          "data": {
            "text/html": [
              "<pre>| 166          | 1.62181      | 1h 30m       |</pre>"
            ],
            "text/plain": [
              "| 166          | 1.62181      | 1h 30m       |"
            ]
          },
          "metadata": {
            "tags": []
          }
        },
        {
          "output_type": "display_data",
          "data": {
            "text/html": [
              "<pre>| 167          | 1.60489      | 1h 30m       |</pre>"
            ],
            "text/plain": [
              "| 167          | 1.60489      | 1h 30m       |"
            ]
          },
          "metadata": {
            "tags": []
          }
        },
        {
          "output_type": "display_data",
          "data": {
            "text/html": [
              "<pre>| 168          | 1.5587       | 1h 31m       |</pre>"
            ],
            "text/plain": [
              "| 168          | 1.5587       | 1h 31m       |"
            ]
          },
          "metadata": {
            "tags": []
          }
        },
        {
          "output_type": "display_data",
          "data": {
            "text/html": [
              "<pre>| 169          | 1.58755      | 1h 31m       |</pre>"
            ],
            "text/plain": [
              "| 169          | 1.58755      | 1h 31m       |"
            ]
          },
          "metadata": {
            "tags": []
          }
        },
        {
          "output_type": "display_data",
          "data": {
            "text/html": [
              "<pre>| 170          | 1.59992      | 1h 32m       |</pre>"
            ],
            "text/plain": [
              "| 170          | 1.59992      | 1h 32m       |"
            ]
          },
          "metadata": {
            "tags": []
          }
        },
        {
          "output_type": "display_data",
          "data": {
            "text/html": [
              "<pre>| 171          | 1.56323      | 1h 33m       |</pre>"
            ],
            "text/plain": [
              "| 171          | 1.56323      | 1h 33m       |"
            ]
          },
          "metadata": {
            "tags": []
          }
        },
        {
          "output_type": "display_data",
          "data": {
            "text/html": [
              "<pre>| 172          | 1.54355      | 1h 33m       |</pre>"
            ],
            "text/plain": [
              "| 172          | 1.54355      | 1h 33m       |"
            ]
          },
          "metadata": {
            "tags": []
          }
        },
        {
          "output_type": "display_data",
          "data": {
            "text/html": [
              "<pre>| 173          | 1.61988      | 1h 34m       |</pre>"
            ],
            "text/plain": [
              "| 173          | 1.61988      | 1h 34m       |"
            ]
          },
          "metadata": {
            "tags": []
          }
        },
        {
          "output_type": "display_data",
          "data": {
            "text/html": [
              "<pre>| 174          | 1.63923      | 1h 34m       |</pre>"
            ],
            "text/plain": [
              "| 174          | 1.63923      | 1h 34m       |"
            ]
          },
          "metadata": {
            "tags": []
          }
        },
        {
          "output_type": "display_data",
          "data": {
            "text/html": [
              "<pre>| 175          | 1.62348      | 1h 35m       |</pre>"
            ],
            "text/plain": [
              "| 175          | 1.62348      | 1h 35m       |"
            ]
          },
          "metadata": {
            "tags": []
          }
        },
        {
          "output_type": "display_data",
          "data": {
            "text/html": [
              "<pre>| 176          | 1.66126      | 1h 35m       |</pre>"
            ],
            "text/plain": [
              "| 176          | 1.66126      | 1h 35m       |"
            ]
          },
          "metadata": {
            "tags": []
          }
        },
        {
          "output_type": "display_data",
          "data": {
            "text/html": [
              "<pre>| 177          | 1.68016      | 1h 36m       |</pre>"
            ],
            "text/plain": [
              "| 177          | 1.68016      | 1h 36m       |"
            ]
          },
          "metadata": {
            "tags": []
          }
        },
        {
          "output_type": "display_data",
          "data": {
            "text/html": [
              "<pre>| 178          | 1.67172      | 1h 36m       |</pre>"
            ],
            "text/plain": [
              "| 178          | 1.67172      | 1h 36m       |"
            ]
          },
          "metadata": {
            "tags": []
          }
        },
        {
          "output_type": "display_data",
          "data": {
            "text/html": [
              "<pre>| 179          | 1.6825       | 1h 37m       |</pre>"
            ],
            "text/plain": [
              "| 179          | 1.6825       | 1h 37m       |"
            ]
          },
          "metadata": {
            "tags": []
          }
        },
        {
          "output_type": "display_data",
          "data": {
            "text/html": [
              "<pre>| 180          | 1.67204      | 1h 37m       |</pre>"
            ],
            "text/plain": [
              "| 180          | 1.67204      | 1h 37m       |"
            ]
          },
          "metadata": {
            "tags": []
          }
        },
        {
          "output_type": "display_data",
          "data": {
            "text/html": [
              "<pre>| 181          | 1.6856       | 1h 38m       |</pre>"
            ],
            "text/plain": [
              "| 181          | 1.6856       | 1h 38m       |"
            ]
          },
          "metadata": {
            "tags": []
          }
        },
        {
          "output_type": "display_data",
          "data": {
            "text/html": [
              "<pre>| 182          | 1.66876      | 1h 38m       |</pre>"
            ],
            "text/plain": [
              "| 182          | 1.66876      | 1h 38m       |"
            ]
          },
          "metadata": {
            "tags": []
          }
        },
        {
          "output_type": "display_data",
          "data": {
            "text/html": [
              "<pre>| 183          | 1.65366      | 1h 39m       |</pre>"
            ],
            "text/plain": [
              "| 183          | 1.65366      | 1h 39m       |"
            ]
          },
          "metadata": {
            "tags": []
          }
        },
        {
          "output_type": "display_data",
          "data": {
            "text/html": [
              "<pre>| 184          | 1.65504      | 1h 40m       |</pre>"
            ],
            "text/plain": [
              "| 184          | 1.65504      | 1h 40m       |"
            ]
          },
          "metadata": {
            "tags": []
          }
        },
        {
          "output_type": "display_data",
          "data": {
            "text/html": [
              "<pre>| 185          | 1.64086      | 1h 40m       |</pre>"
            ],
            "text/plain": [
              "| 185          | 1.64086      | 1h 40m       |"
            ]
          },
          "metadata": {
            "tags": []
          }
        },
        {
          "output_type": "display_data",
          "data": {
            "text/html": [
              "<pre>| 186          | 1.63996      | 1h 41m       |</pre>"
            ],
            "text/plain": [
              "| 186          | 1.63996      | 1h 41m       |"
            ]
          },
          "metadata": {
            "tags": []
          }
        },
        {
          "output_type": "display_data",
          "data": {
            "text/html": [
              "<pre>| 187          | 1.61592      | 1h 41m       |</pre>"
            ],
            "text/plain": [
              "| 187          | 1.61592      | 1h 41m       |"
            ]
          },
          "metadata": {
            "tags": []
          }
        },
        {
          "output_type": "display_data",
          "data": {
            "text/html": [
              "<pre>| 188          | 1.60114      | 1h 42m       |</pre>"
            ],
            "text/plain": [
              "| 188          | 1.60114      | 1h 42m       |"
            ]
          },
          "metadata": {
            "tags": []
          }
        },
        {
          "output_type": "display_data",
          "data": {
            "text/html": [
              "<pre>| 189          | 1.56164      | 1h 42m       |</pre>"
            ],
            "text/plain": [
              "| 189          | 1.56164      | 1h 42m       |"
            ]
          },
          "metadata": {
            "tags": []
          }
        },
        {
          "output_type": "display_data",
          "data": {
            "text/html": [
              "<pre>| 190          | 1.5423       | 1h 43m       |</pre>"
            ],
            "text/plain": [
              "| 190          | 1.5423       | 1h 43m       |"
            ]
          },
          "metadata": {
            "tags": []
          }
        },
        {
          "output_type": "display_data",
          "data": {
            "text/html": [
              "<pre>| 191          | 1.51697      | 1h 43m       |</pre>"
            ],
            "text/plain": [
              "| 191          | 1.51697      | 1h 43m       |"
            ]
          },
          "metadata": {
            "tags": []
          }
        },
        {
          "output_type": "display_data",
          "data": {
            "text/html": [
              "<pre>| 192          | 1.5679       | 1h 44m       |</pre>"
            ],
            "text/plain": [
              "| 192          | 1.5679       | 1h 44m       |"
            ]
          },
          "metadata": {
            "tags": []
          }
        },
        {
          "output_type": "display_data",
          "data": {
            "text/html": [
              "<pre>| 193          | 1.5694       | 1h 44m       |</pre>"
            ],
            "text/plain": [
              "| 193          | 1.5694       | 1h 44m       |"
            ]
          },
          "metadata": {
            "tags": []
          }
        },
        {
          "output_type": "display_data",
          "data": {
            "text/html": [
              "<pre>| 194          | 1.61553      | 1h 45m       |</pre>"
            ],
            "text/plain": [
              "| 194          | 1.61553      | 1h 45m       |"
            ]
          },
          "metadata": {
            "tags": []
          }
        },
        {
          "output_type": "display_data",
          "data": {
            "text/html": [
              "<pre>| 195          | 1.6364       | 1h 45m       |</pre>"
            ],
            "text/plain": [
              "| 195          | 1.6364       | 1h 45m       |"
            ]
          },
          "metadata": {
            "tags": []
          }
        },
        {
          "output_type": "display_data",
          "data": {
            "text/html": [
              "<pre>| 196          | 1.633        | 1h 46m       |</pre>"
            ],
            "text/plain": [
              "| 196          | 1.633        | 1h 46m       |"
            ]
          },
          "metadata": {
            "tags": []
          }
        },
        {
          "output_type": "display_data",
          "data": {
            "text/html": [
              "<pre>| 197          | 1.63378      | 1h 46m       |</pre>"
            ],
            "text/plain": [
              "| 197          | 1.63378      | 1h 46m       |"
            ]
          },
          "metadata": {
            "tags": []
          }
        },
        {
          "output_type": "display_data",
          "data": {
            "text/html": [
              "<pre>| 198          | 1.60701      | 1h 47m       |</pre>"
            ],
            "text/plain": [
              "| 198          | 1.60701      | 1h 47m       |"
            ]
          },
          "metadata": {
            "tags": []
          }
        },
        {
          "output_type": "display_data",
          "data": {
            "text/html": [
              "<pre>| 199          | 1.57209      | 1h 48m       |</pre>"
            ],
            "text/plain": [
              "| 199          | 1.57209      | 1h 48m       |"
            ]
          },
          "metadata": {
            "tags": []
          }
        },
        {
          "output_type": "display_data",
          "data": {
            "text/html": [
              "<pre>| 200          | 1.58439      | 1h 48m       |</pre>"
            ],
            "text/plain": [
              "| 200          | 1.58439      | 1h 48m       |"
            ]
          },
          "metadata": {
            "tags": []
          }
        },
        {
          "output_type": "display_data",
          "data": {
            "text/html": [
              "<pre>| 201          | 1.57147      | 1h 49m       |</pre>"
            ],
            "text/plain": [
              "| 201          | 1.57147      | 1h 49m       |"
            ]
          },
          "metadata": {
            "tags": []
          }
        },
        {
          "output_type": "display_data",
          "data": {
            "text/html": [
              "<pre>| 202          | 1.56935      | 1h 49m       |</pre>"
            ],
            "text/plain": [
              "| 202          | 1.56935      | 1h 49m       |"
            ]
          },
          "metadata": {
            "tags": []
          }
        },
        {
          "output_type": "display_data",
          "data": {
            "text/html": [
              "<pre>| 203          | 1.5984       | 1h 50m       |</pre>"
            ],
            "text/plain": [
              "| 203          | 1.5984       | 1h 50m       |"
            ]
          },
          "metadata": {
            "tags": []
          }
        },
        {
          "output_type": "display_data",
          "data": {
            "text/html": [
              "<pre>| 204          | 1.635        | 1h 50m       |</pre>"
            ],
            "text/plain": [
              "| 204          | 1.635        | 1h 50m       |"
            ]
          },
          "metadata": {
            "tags": []
          }
        },
        {
          "output_type": "display_data",
          "data": {
            "text/html": [
              "<pre>| 205          | 1.60464      | 1h 51m       |</pre>"
            ],
            "text/plain": [
              "| 205          | 1.60464      | 1h 51m       |"
            ]
          },
          "metadata": {
            "tags": []
          }
        },
        {
          "output_type": "display_data",
          "data": {
            "text/html": [
              "<pre>| 206          | 1.61182      | 1h 51m       |</pre>"
            ],
            "text/plain": [
              "| 206          | 1.61182      | 1h 51m       |"
            ]
          },
          "metadata": {
            "tags": []
          }
        },
        {
          "output_type": "display_data",
          "data": {
            "text/html": [
              "<pre>| 207          | 1.59211      | 1h 52m       |</pre>"
            ],
            "text/plain": [
              "| 207          | 1.59211      | 1h 52m       |"
            ]
          },
          "metadata": {
            "tags": []
          }
        },
        {
          "output_type": "display_data",
          "data": {
            "text/html": [
              "<pre>| 208          | 1.6207       | 1h 52m       |</pre>"
            ],
            "text/plain": [
              "| 208          | 1.6207       | 1h 52m       |"
            ]
          },
          "metadata": {
            "tags": []
          }
        },
        {
          "output_type": "display_data",
          "data": {
            "text/html": [
              "<pre>| 209          | 1.59999      | 1h 53m       |</pre>"
            ],
            "text/plain": [
              "| 209          | 1.59999      | 1h 53m       |"
            ]
          },
          "metadata": {
            "tags": []
          }
        },
        {
          "output_type": "display_data",
          "data": {
            "text/html": [
              "<pre>| 210          | 1.60714      | 1h 53m       |</pre>"
            ],
            "text/plain": [
              "| 210          | 1.60714      | 1h 53m       |"
            ]
          },
          "metadata": {
            "tags": []
          }
        },
        {
          "output_type": "display_data",
          "data": {
            "text/html": [
              "<pre>| 211          | 1.6223       | 1h 54m       |</pre>"
            ],
            "text/plain": [
              "| 211          | 1.6223       | 1h 54m       |"
            ]
          },
          "metadata": {
            "tags": []
          }
        },
        {
          "output_type": "display_data",
          "data": {
            "text/html": [
              "<pre>| 212          | 1.63263      | 1h 55m       |</pre>"
            ],
            "text/plain": [
              "| 212          | 1.63263      | 1h 55m       |"
            ]
          },
          "metadata": {
            "tags": []
          }
        },
        {
          "output_type": "display_data",
          "data": {
            "text/html": [
              "<pre>| 213          | 1.57692      | 1h 55m       |</pre>"
            ],
            "text/plain": [
              "| 213          | 1.57692      | 1h 55m       |"
            ]
          },
          "metadata": {
            "tags": []
          }
        },
        {
          "output_type": "display_data",
          "data": {
            "text/html": [
              "<pre>| 214          | 1.61416      | 1h 56m       |</pre>"
            ],
            "text/plain": [
              "| 214          | 1.61416      | 1h 56m       |"
            ]
          },
          "metadata": {
            "tags": []
          }
        },
        {
          "output_type": "display_data",
          "data": {
            "text/html": [
              "<pre>| 215          | 1.6211       | 1h 56m       |</pre>"
            ],
            "text/plain": [
              "| 215          | 1.6211       | 1h 56m       |"
            ]
          },
          "metadata": {
            "tags": []
          }
        },
        {
          "output_type": "display_data",
          "data": {
            "text/html": [
              "<pre>| 216          | 1.63098      | 1h 57m       |</pre>"
            ],
            "text/plain": [
              "| 216          | 1.63098      | 1h 57m       |"
            ]
          },
          "metadata": {
            "tags": []
          }
        },
        {
          "output_type": "display_data",
          "data": {
            "text/html": [
              "<pre>| 217          | 1.60076      | 1h 57m       |</pre>"
            ],
            "text/plain": [
              "| 217          | 1.60076      | 1h 57m       |"
            ]
          },
          "metadata": {
            "tags": []
          }
        },
        {
          "output_type": "display_data",
          "data": {
            "text/html": [
              "<pre>| 218          | 1.56547      | 1h 58m       |</pre>"
            ],
            "text/plain": [
              "| 218          | 1.56547      | 1h 58m       |"
            ]
          },
          "metadata": {
            "tags": []
          }
        },
        {
          "output_type": "display_data",
          "data": {
            "text/html": [
              "<pre>| 219          | 1.57586      | 1h 58m       |</pre>"
            ],
            "text/plain": [
              "| 219          | 1.57586      | 1h 58m       |"
            ]
          },
          "metadata": {
            "tags": []
          }
        },
        {
          "output_type": "display_data",
          "data": {
            "text/html": [
              "<pre>| 220          | 1.57164      | 1h 59m       |</pre>"
            ],
            "text/plain": [
              "| 220          | 1.57164      | 1h 59m       |"
            ]
          },
          "metadata": {
            "tags": []
          }
        },
        {
          "output_type": "display_data",
          "data": {
            "text/html": [
              "<pre>| 221          | 1.56764      | 1h 59m       |</pre>"
            ],
            "text/plain": [
              "| 221          | 1.56764      | 1h 59m       |"
            ]
          },
          "metadata": {
            "tags": []
          }
        },
        {
          "output_type": "display_data",
          "data": {
            "text/html": [
              "<pre>| 222          | 1.52355      | 2h 0m        |</pre>"
            ],
            "text/plain": [
              "| 222          | 1.52355      | 2h 0m        |"
            ]
          },
          "metadata": {
            "tags": []
          }
        },
        {
          "output_type": "display_data",
          "data": {
            "text/html": [
              "<pre>| 223          | 1.51652      | 2h 0m        |</pre>"
            ],
            "text/plain": [
              "| 223          | 1.51652      | 2h 0m        |"
            ]
          },
          "metadata": {
            "tags": []
          }
        },
        {
          "output_type": "display_data",
          "data": {
            "text/html": [
              "<pre>| 224          | 1.45048      | 2h 1m        |</pre>"
            ],
            "text/plain": [
              "| 224          | 1.45048      | 2h 1m        |"
            ]
          },
          "metadata": {
            "tags": []
          }
        },
        {
          "output_type": "display_data",
          "data": {
            "text/html": [
              "<pre>| 225          | 1.48287      | 2h 2m        |</pre>"
            ],
            "text/plain": [
              "| 225          | 1.48287      | 2h 2m        |"
            ]
          },
          "metadata": {
            "tags": []
          }
        },
        {
          "output_type": "display_data",
          "data": {
            "text/html": [
              "<pre>| 226          | 1.45588      | 2h 2m        |</pre>"
            ],
            "text/plain": [
              "| 226          | 1.45588      | 2h 2m        |"
            ]
          },
          "metadata": {
            "tags": []
          }
        },
        {
          "output_type": "display_data",
          "data": {
            "text/html": [
              "<pre>| 227          | 1.46588      | 2h 3m        |</pre>"
            ],
            "text/plain": [
              "| 227          | 1.46588      | 2h 3m        |"
            ]
          },
          "metadata": {
            "tags": []
          }
        },
        {
          "output_type": "display_data",
          "data": {
            "text/html": [
              "<pre>| 228          | 1.46397      | 2h 3m        |</pre>"
            ],
            "text/plain": [
              "| 228          | 1.46397      | 2h 3m        |"
            ]
          },
          "metadata": {
            "tags": []
          }
        },
        {
          "output_type": "display_data",
          "data": {
            "text/html": [
              "<pre>| 229          | 1.46792      | 2h 4m        |</pre>"
            ],
            "text/plain": [
              "| 229          | 1.46792      | 2h 4m        |"
            ]
          },
          "metadata": {
            "tags": []
          }
        },
        {
          "output_type": "display_data",
          "data": {
            "text/html": [
              "<pre>| 230          | 1.46366      | 2h 4m        |</pre>"
            ],
            "text/plain": [
              "| 230          | 1.46366      | 2h 4m        |"
            ]
          },
          "metadata": {
            "tags": []
          }
        },
        {
          "output_type": "display_data",
          "data": {
            "text/html": [
              "<pre>| 231          | 1.46524      | 2h 5m        |</pre>"
            ],
            "text/plain": [
              "| 231          | 1.46524      | 2h 5m        |"
            ]
          },
          "metadata": {
            "tags": []
          }
        },
        {
          "output_type": "display_data",
          "data": {
            "text/html": [
              "<pre>| 232          | 1.46756      | 2h 5m        |</pre>"
            ],
            "text/plain": [
              "| 232          | 1.46756      | 2h 5m        |"
            ]
          },
          "metadata": {
            "tags": []
          }
        },
        {
          "output_type": "display_data",
          "data": {
            "text/html": [
              "<pre>| 233          | 1.46837      | 2h 6m        |</pre>"
            ],
            "text/plain": [
              "| 233          | 1.46837      | 2h 6m        |"
            ]
          },
          "metadata": {
            "tags": []
          }
        },
        {
          "output_type": "display_data",
          "data": {
            "text/html": [
              "<pre>| 234          | 1.46975      | 2h 6m        |</pre>"
            ],
            "text/plain": [
              "| 234          | 1.46975      | 2h 6m        |"
            ]
          },
          "metadata": {
            "tags": []
          }
        },
        {
          "output_type": "display_data",
          "data": {
            "text/html": [
              "<pre>| 235          | 1.47983      | 2h 7m        |</pre>"
            ],
            "text/plain": [
              "| 235          | 1.47983      | 2h 7m        |"
            ]
          },
          "metadata": {
            "tags": []
          }
        },
        {
          "output_type": "display_data",
          "data": {
            "text/html": [
              "<pre>| 236          | 1.49972      | 2h 7m        |</pre>"
            ],
            "text/plain": [
              "| 236          | 1.49972      | 2h 7m        |"
            ]
          },
          "metadata": {
            "tags": []
          }
        },
        {
          "output_type": "display_data",
          "data": {
            "text/html": [
              "<pre>| 237          | 1.4668       | 2h 8m        |</pre>"
            ],
            "text/plain": [
              "| 237          | 1.4668       | 2h 8m        |"
            ]
          },
          "metadata": {
            "tags": []
          }
        },
        {
          "output_type": "display_data",
          "data": {
            "text/html": [
              "<pre>| 238          | 1.48201      | 2h 9m        |</pre>"
            ],
            "text/plain": [
              "| 238          | 1.48201      | 2h 9m        |"
            ]
          },
          "metadata": {
            "tags": []
          }
        },
        {
          "output_type": "display_data",
          "data": {
            "text/html": [
              "<pre>| 239          | 1.48901      | 2h 9m        |</pre>"
            ],
            "text/plain": [
              "| 239          | 1.48901      | 2h 9m        |"
            ]
          },
          "metadata": {
            "tags": []
          }
        },
        {
          "output_type": "display_data",
          "data": {
            "text/html": [
              "<pre>| 240          | 1.48373      | 2h 10m       |</pre>"
            ],
            "text/plain": [
              "| 240          | 1.48373      | 2h 10m       |"
            ]
          },
          "metadata": {
            "tags": []
          }
        },
        {
          "output_type": "display_data",
          "data": {
            "text/html": [
              "<pre>| 241          | 1.48282      | 2h 10m       |</pre>"
            ],
            "text/plain": [
              "| 241          | 1.48282      | 2h 10m       |"
            ]
          },
          "metadata": {
            "tags": []
          }
        },
        {
          "output_type": "display_data",
          "data": {
            "text/html": [
              "<pre>| 242          | 1.46949      | 2h 11m       |</pre>"
            ],
            "text/plain": [
              "| 242          | 1.46949      | 2h 11m       |"
            ]
          },
          "metadata": {
            "tags": []
          }
        },
        {
          "output_type": "display_data",
          "data": {
            "text/html": [
              "<pre>| 243          | 1.47323      | 2h 11m       |</pre>"
            ],
            "text/plain": [
              "| 243          | 1.47323      | 2h 11m       |"
            ]
          },
          "metadata": {
            "tags": []
          }
        },
        {
          "output_type": "display_data",
          "data": {
            "text/html": [
              "<pre>| 244          | 1.45058      | 2h 12m       |</pre>"
            ],
            "text/plain": [
              "| 244          | 1.45058      | 2h 12m       |"
            ]
          },
          "metadata": {
            "tags": []
          }
        },
        {
          "output_type": "display_data",
          "data": {
            "text/html": [
              "<pre>| 245          | 1.45117      | 2h 12m       |</pre>"
            ],
            "text/plain": [
              "| 245          | 1.45117      | 2h 12m       |"
            ]
          },
          "metadata": {
            "tags": []
          }
        },
        {
          "output_type": "display_data",
          "data": {
            "text/html": [
              "<pre>| 246          | 1.43818      | 2h 13m       |</pre>"
            ],
            "text/plain": [
              "| 246          | 1.43818      | 2h 13m       |"
            ]
          },
          "metadata": {
            "tags": []
          }
        },
        {
          "output_type": "display_data",
          "data": {
            "text/html": [
              "<pre>| 247          | 1.4343       | 2h 13m       |</pre>"
            ],
            "text/plain": [
              "| 247          | 1.4343       | 2h 13m       |"
            ]
          },
          "metadata": {
            "tags": []
          }
        },
        {
          "output_type": "display_data",
          "data": {
            "text/html": [
              "<pre>| 248          | 1.41169      | 2h 14m       |</pre>"
            ],
            "text/plain": [
              "| 248          | 1.41169      | 2h 14m       |"
            ]
          },
          "metadata": {
            "tags": []
          }
        },
        {
          "output_type": "display_data",
          "data": {
            "text/html": [
              "<pre>| 249          | 1.40253      | 2h 14m       |</pre>"
            ],
            "text/plain": [
              "| 249          | 1.40253      | 2h 14m       |"
            ]
          },
          "metadata": {
            "tags": []
          }
        },
        {
          "output_type": "display_data",
          "data": {
            "text/html": [
              "<pre>| 250          | 1.38818      | 2h 15m       |</pre>"
            ],
            "text/plain": [
              "| 250          | 1.38818      | 2h 15m       |"
            ]
          },
          "metadata": {
            "tags": []
          }
        },
        {
          "output_type": "display_data",
          "data": {
            "text/html": [
              "<pre>| 251          | 1.42094      | 2h 16m       |</pre>"
            ],
            "text/plain": [
              "| 251          | 1.42094      | 2h 16m       |"
            ]
          },
          "metadata": {
            "tags": []
          }
        },
        {
          "output_type": "display_data",
          "data": {
            "text/html": [
              "<pre>| 252          | 1.39886      | 2h 16m       |</pre>"
            ],
            "text/plain": [
              "| 252          | 1.39886      | 2h 16m       |"
            ]
          },
          "metadata": {
            "tags": []
          }
        },
        {
          "output_type": "display_data",
          "data": {
            "text/html": [
              "<pre>| 253          | 1.41573      | 2h 17m       |</pre>"
            ],
            "text/plain": [
              "| 253          | 1.41573      | 2h 17m       |"
            ]
          },
          "metadata": {
            "tags": []
          }
        },
        {
          "output_type": "display_data",
          "data": {
            "text/html": [
              "<pre>| 254          | 1.42544      | 2h 17m       |</pre>"
            ],
            "text/plain": [
              "| 254          | 1.42544      | 2h 17m       |"
            ]
          },
          "metadata": {
            "tags": []
          }
        },
        {
          "output_type": "display_data",
          "data": {
            "text/html": [
              "<pre>| 255          | 1.3844       | 2h 18m       |</pre>"
            ],
            "text/plain": [
              "| 255          | 1.3844       | 2h 18m       |"
            ]
          },
          "metadata": {
            "tags": []
          }
        },
        {
          "output_type": "display_data",
          "data": {
            "text/html": [
              "<pre>| 256          | 1.36302      | 2h 18m       |</pre>"
            ],
            "text/plain": [
              "| 256          | 1.36302      | 2h 18m       |"
            ]
          },
          "metadata": {
            "tags": []
          }
        },
        {
          "output_type": "display_data",
          "data": {
            "text/html": [
              "<pre>| 257          | 1.39072      | 2h 19m       |</pre>"
            ],
            "text/plain": [
              "| 257          | 1.39072      | 2h 19m       |"
            ]
          },
          "metadata": {
            "tags": []
          }
        },
        {
          "output_type": "display_data",
          "data": {
            "text/html": [
              "<pre>| 258          | 1.38055      | 2h 19m       |</pre>"
            ],
            "text/plain": [
              "| 258          | 1.38055      | 2h 19m       |"
            ]
          },
          "metadata": {
            "tags": []
          }
        },
        {
          "output_type": "display_data",
          "data": {
            "text/html": [
              "<pre>| 259          | 1.39152      | 2h 20m       |</pre>"
            ],
            "text/plain": [
              "| 259          | 1.39152      | 2h 20m       |"
            ]
          },
          "metadata": {
            "tags": []
          }
        },
        {
          "output_type": "display_data",
          "data": {
            "text/html": [
              "<pre>| 260          | 1.38973      | 2h 20m       |</pre>"
            ],
            "text/plain": [
              "| 260          | 1.38973      | 2h 20m       |"
            ]
          },
          "metadata": {
            "tags": []
          }
        },
        {
          "output_type": "display_data",
          "data": {
            "text/html": [
              "<pre>| 261          | 1.44028      | 2h 21m       |</pre>"
            ],
            "text/plain": [
              "| 261          | 1.44028      | 2h 21m       |"
            ]
          },
          "metadata": {
            "tags": []
          }
        },
        {
          "output_type": "display_data",
          "data": {
            "text/html": [
              "<pre>| 262          | 1.42153      | 2h 21m       |</pre>"
            ],
            "text/plain": [
              "| 262          | 1.42153      | 2h 21m       |"
            ]
          },
          "metadata": {
            "tags": []
          }
        },
        {
          "output_type": "display_data",
          "data": {
            "text/html": [
              "<pre>| 263          | 1.39252      | 2h 22m       |</pre>"
            ],
            "text/plain": [
              "| 263          | 1.39252      | 2h 22m       |"
            ]
          },
          "metadata": {
            "tags": []
          }
        },
        {
          "output_type": "display_data",
          "data": {
            "text/html": [
              "<pre>| 264          | 1.38128      | 2h 22m       |</pre>"
            ],
            "text/plain": [
              "| 264          | 1.38128      | 2h 22m       |"
            ]
          },
          "metadata": {
            "tags": []
          }
        },
        {
          "output_type": "display_data",
          "data": {
            "text/html": [
              "<pre>| 265          | 1.3662       | 2h 23m       |</pre>"
            ],
            "text/plain": [
              "| 265          | 1.3662       | 2h 23m       |"
            ]
          },
          "metadata": {
            "tags": []
          }
        },
        {
          "output_type": "display_data",
          "data": {
            "text/html": [
              "<pre>| 266          | 1.37038      | 2h 24m       |</pre>"
            ],
            "text/plain": [
              "| 266          | 1.37038      | 2h 24m       |"
            ]
          },
          "metadata": {
            "tags": []
          }
        },
        {
          "output_type": "display_data",
          "data": {
            "text/html": [
              "<pre>| 267          | 1.36165      | 2h 24m       |</pre>"
            ],
            "text/plain": [
              "| 267          | 1.36165      | 2h 24m       |"
            ]
          },
          "metadata": {
            "tags": []
          }
        },
        {
          "output_type": "display_data",
          "data": {
            "text/html": [
              "<pre>| 268          | 1.33746      | 2h 25m       |</pre>"
            ],
            "text/plain": [
              "| 268          | 1.33746      | 2h 25m       |"
            ]
          },
          "metadata": {
            "tags": []
          }
        },
        {
          "output_type": "display_data",
          "data": {
            "text/html": [
              "<pre>| 269          | 1.37452      | 2h 25m       |</pre>"
            ],
            "text/plain": [
              "| 269          | 1.37452      | 2h 25m       |"
            ]
          },
          "metadata": {
            "tags": []
          }
        },
        {
          "output_type": "display_data",
          "data": {
            "text/html": [
              "<pre>| 270          | 1.40525      | 2h 26m       |</pre>"
            ],
            "text/plain": [
              "| 270          | 1.40525      | 2h 26m       |"
            ]
          },
          "metadata": {
            "tags": []
          }
        },
        {
          "output_type": "display_data",
          "data": {
            "text/html": [
              "<pre>| 271          | 1.42207      | 2h 26m       |</pre>"
            ],
            "text/plain": [
              "| 271          | 1.42207      | 2h 26m       |"
            ]
          },
          "metadata": {
            "tags": []
          }
        },
        {
          "output_type": "display_data",
          "data": {
            "text/html": [
              "<pre>| 272          | 1.37879      | 2h 27m       |</pre>"
            ],
            "text/plain": [
              "| 272          | 1.37879      | 2h 27m       |"
            ]
          },
          "metadata": {
            "tags": []
          }
        },
        {
          "output_type": "display_data",
          "data": {
            "text/html": [
              "<pre>| 273          | 1.43357      | 2h 27m       |</pre>"
            ],
            "text/plain": [
              "| 273          | 1.43357      | 2h 27m       |"
            ]
          },
          "metadata": {
            "tags": []
          }
        },
        {
          "output_type": "display_data",
          "data": {
            "text/html": [
              "<pre>| 274          | 1.39477      | 2h 28m       |</pre>"
            ],
            "text/plain": [
              "| 274          | 1.39477      | 2h 28m       |"
            ]
          },
          "metadata": {
            "tags": []
          }
        },
        {
          "output_type": "display_data",
          "data": {
            "text/html": [
              "<pre>| 275          | 1.37305      | 2h 28m       |</pre>"
            ],
            "text/plain": [
              "| 275          | 1.37305      | 2h 28m       |"
            ]
          },
          "metadata": {
            "tags": []
          }
        },
        {
          "output_type": "display_data",
          "data": {
            "text/html": [
              "<pre>| 276          | 1.35135      | 2h 29m       |</pre>"
            ],
            "text/plain": [
              "| 276          | 1.35135      | 2h 29m       |"
            ]
          },
          "metadata": {
            "tags": []
          }
        },
        {
          "output_type": "display_data",
          "data": {
            "text/html": [
              "<pre>| 277          | 1.36112      | 2h 30m       |</pre>"
            ],
            "text/plain": [
              "| 277          | 1.36112      | 2h 30m       |"
            ]
          },
          "metadata": {
            "tags": []
          }
        },
        {
          "output_type": "display_data",
          "data": {
            "text/html": [
              "<pre>| 278          | 1.34912      | 2h 30m       |</pre>"
            ],
            "text/plain": [
              "| 278          | 1.34912      | 2h 30m       |"
            ]
          },
          "metadata": {
            "tags": []
          }
        },
        {
          "output_type": "display_data",
          "data": {
            "text/html": [
              "<pre>| 279          | 1.32813      | 2h 31m       |</pre>"
            ],
            "text/plain": [
              "| 279          | 1.32813      | 2h 31m       |"
            ]
          },
          "metadata": {
            "tags": []
          }
        },
        {
          "output_type": "display_data",
          "data": {
            "text/html": [
              "<pre>| 280          | 1.30659      | 2h 31m       |</pre>"
            ],
            "text/plain": [
              "| 280          | 1.30659      | 2h 31m       |"
            ]
          },
          "metadata": {
            "tags": []
          }
        },
        {
          "output_type": "display_data",
          "data": {
            "text/html": [
              "<pre>| 281          | 1.31007      | 2h 32m       |</pre>"
            ],
            "text/plain": [
              "| 281          | 1.31007      | 2h 32m       |"
            ]
          },
          "metadata": {
            "tags": []
          }
        },
        {
          "output_type": "display_data",
          "data": {
            "text/html": [
              "<pre>| 282          | 1.3209       | 2h 32m       |</pre>"
            ],
            "text/plain": [
              "| 282          | 1.3209       | 2h 32m       |"
            ]
          },
          "metadata": {
            "tags": []
          }
        },
        {
          "output_type": "display_data",
          "data": {
            "text/html": [
              "<pre>| 283          | 1.28958      | 2h 33m       |</pre>"
            ],
            "text/plain": [
              "| 283          | 1.28958      | 2h 33m       |"
            ]
          },
          "metadata": {
            "tags": []
          }
        },
        {
          "output_type": "display_data",
          "data": {
            "text/html": [
              "<pre>| 284          | 1.28191      | 2h 33m       |</pre>"
            ],
            "text/plain": [
              "| 284          | 1.28191      | 2h 33m       |"
            ]
          },
          "metadata": {
            "tags": []
          }
        },
        {
          "output_type": "display_data",
          "data": {
            "text/html": [
              "<pre>| 285          | 1.26532      | 2h 34m       |</pre>"
            ],
            "text/plain": [
              "| 285          | 1.26532      | 2h 34m       |"
            ]
          },
          "metadata": {
            "tags": []
          }
        },
        {
          "output_type": "display_data",
          "data": {
            "text/html": [
              "<pre>| 286          | 1.23854      | 2h 34m       |</pre>"
            ],
            "text/plain": [
              "| 286          | 1.23854      | 2h 34m       |"
            ]
          },
          "metadata": {
            "tags": []
          }
        },
        {
          "output_type": "display_data",
          "data": {
            "text/html": [
              "<pre>| 287          | 1.22292      | 2h 35m       |</pre>"
            ],
            "text/plain": [
              "| 287          | 1.22292      | 2h 35m       |"
            ]
          },
          "metadata": {
            "tags": []
          }
        },
        {
          "output_type": "display_data",
          "data": {
            "text/html": [
              "<pre>| 288          | 1.23421      | 2h 35m       |</pre>"
            ],
            "text/plain": [
              "| 288          | 1.23421      | 2h 35m       |"
            ]
          },
          "metadata": {
            "tags": []
          }
        },
        {
          "output_type": "display_data",
          "data": {
            "text/html": [
              "<pre>| 289          | 1.25614      | 2h 36m       |</pre>"
            ],
            "text/plain": [
              "| 289          | 1.25614      | 2h 36m       |"
            ]
          },
          "metadata": {
            "tags": []
          }
        },
        {
          "output_type": "display_data",
          "data": {
            "text/html": [
              "<pre>| 290          | 1.26148      | 2h 36m       |</pre>"
            ],
            "text/plain": [
              "| 290          | 1.26148      | 2h 36m       |"
            ]
          },
          "metadata": {
            "tags": []
          }
        },
        {
          "output_type": "display_data",
          "data": {
            "text/html": [
              "<pre>| 291          | 1.27709      | 2h 37m       |</pre>"
            ],
            "text/plain": [
              "| 291          | 1.27709      | 2h 37m       |"
            ]
          },
          "metadata": {
            "tags": []
          }
        },
        {
          "output_type": "display_data",
          "data": {
            "text/html": [
              "<pre>| 292          | 1.26546      | 2h 37m       |</pre>"
            ],
            "text/plain": [
              "| 292          | 1.26546      | 2h 37m       |"
            ]
          },
          "metadata": {
            "tags": []
          }
        },
        {
          "output_type": "display_data",
          "data": {
            "text/html": [
              "<pre>| 293          | 1.23015      | 2h 38m       |</pre>"
            ],
            "text/plain": [
              "| 293          | 1.23015      | 2h 38m       |"
            ]
          },
          "metadata": {
            "tags": []
          }
        },
        {
          "output_type": "display_data",
          "data": {
            "text/html": [
              "<pre>| 294          | 1.25063      | 2h 38m       |</pre>"
            ],
            "text/plain": [
              "| 294          | 1.25063      | 2h 38m       |"
            ]
          },
          "metadata": {
            "tags": []
          }
        },
        {
          "output_type": "display_data",
          "data": {
            "text/html": [
              "<pre>| 295          | 1.28421      | 2h 39m       |</pre>"
            ],
            "text/plain": [
              "| 295          | 1.28421      | 2h 39m       |"
            ]
          },
          "metadata": {
            "tags": []
          }
        },
        {
          "output_type": "display_data",
          "data": {
            "text/html": [
              "<pre>| 296          | 1.30146      | 2h 40m       |</pre>"
            ],
            "text/plain": [
              "| 296          | 1.30146      | 2h 40m       |"
            ]
          },
          "metadata": {
            "tags": []
          }
        },
        {
          "output_type": "display_data",
          "data": {
            "text/html": [
              "<pre>| 297          | 1.31533      | 2h 40m       |</pre>"
            ],
            "text/plain": [
              "| 297          | 1.31533      | 2h 40m       |"
            ]
          },
          "metadata": {
            "tags": []
          }
        },
        {
          "output_type": "display_data",
          "data": {
            "text/html": [
              "<pre>| 298          | 1.31109      | 2h 41m       |</pre>"
            ],
            "text/plain": [
              "| 298          | 1.31109      | 2h 41m       |"
            ]
          },
          "metadata": {
            "tags": []
          }
        },
        {
          "output_type": "display_data",
          "data": {
            "text/html": [
              "<pre>| 299          | 1.33411      | 2h 41m       |</pre>"
            ],
            "text/plain": [
              "| 299          | 1.33411      | 2h 41m       |"
            ]
          },
          "metadata": {
            "tags": []
          }
        },
        {
          "output_type": "display_data",
          "data": {
            "text/html": [
              "<pre>| 300          | 1.34033      | 2h 42m       |</pre>"
            ],
            "text/plain": [
              "| 300          | 1.34033      | 2h 42m       |"
            ]
          },
          "metadata": {
            "tags": []
          }
        },
        {
          "output_type": "display_data",
          "data": {
            "text/html": [
              "<pre>| 301          | 1.31731      | 2h 42m       |</pre>"
            ],
            "text/plain": [
              "| 301          | 1.31731      | 2h 42m       |"
            ]
          },
          "metadata": {
            "tags": []
          }
        },
        {
          "output_type": "display_data",
          "data": {
            "text/html": [
              "<pre>| 302          | 1.29743      | 2h 43m       |</pre>"
            ],
            "text/plain": [
              "| 302          | 1.29743      | 2h 43m       |"
            ]
          },
          "metadata": {
            "tags": []
          }
        },
        {
          "output_type": "display_data",
          "data": {
            "text/html": [
              "<pre>| 303          | 1.3101       | 2h 43m       |</pre>"
            ],
            "text/plain": [
              "| 303          | 1.3101       | 2h 43m       |"
            ]
          },
          "metadata": {
            "tags": []
          }
        },
        {
          "output_type": "display_data",
          "data": {
            "text/html": [
              "<pre>| 304          | 1.30397      | 2h 44m       |</pre>"
            ],
            "text/plain": [
              "| 304          | 1.30397      | 2h 44m       |"
            ]
          },
          "metadata": {
            "tags": []
          }
        },
        {
          "output_type": "display_data",
          "data": {
            "text/html": [
              "<pre>| 305          | 1.30869      | 2h 44m       |</pre>"
            ],
            "text/plain": [
              "| 305          | 1.30869      | 2h 44m       |"
            ]
          },
          "metadata": {
            "tags": []
          }
        },
        {
          "output_type": "display_data",
          "data": {
            "text/html": [
              "<pre>| 306          | 1.28828      | 2h 45m       |</pre>"
            ],
            "text/plain": [
              "| 306          | 1.28828      | 2h 45m       |"
            ]
          },
          "metadata": {
            "tags": []
          }
        },
        {
          "output_type": "display_data",
          "data": {
            "text/html": [
              "<pre>| 307          | 1.29248      | 2h 45m       |</pre>"
            ],
            "text/plain": [
              "| 307          | 1.29248      | 2h 45m       |"
            ]
          },
          "metadata": {
            "tags": []
          }
        },
        {
          "output_type": "display_data",
          "data": {
            "text/html": [
              "<pre>| 308          | 1.23619      | 2h 46m       |</pre>"
            ],
            "text/plain": [
              "| 308          | 1.23619      | 2h 46m       |"
            ]
          },
          "metadata": {
            "tags": []
          }
        },
        {
          "output_type": "display_data",
          "data": {
            "text/html": [
              "<pre>| 309          | 1.24222      | 2h 46m       |</pre>"
            ],
            "text/plain": [
              "| 309          | 1.24222      | 2h 46m       |"
            ]
          },
          "metadata": {
            "tags": []
          }
        },
        {
          "output_type": "display_data",
          "data": {
            "text/html": [
              "<pre>| 310          | 1.23901      | 2h 47m       |</pre>"
            ],
            "text/plain": [
              "| 310          | 1.23901      | 2h 47m       |"
            ]
          },
          "metadata": {
            "tags": []
          }
        },
        {
          "output_type": "display_data",
          "data": {
            "text/html": [
              "<pre>| 311          | 1.21994      | 2h 47m       |</pre>"
            ],
            "text/plain": [
              "| 311          | 1.21994      | 2h 47m       |"
            ]
          },
          "metadata": {
            "tags": []
          }
        },
        {
          "output_type": "display_data",
          "data": {
            "text/html": [
              "<pre>| 312          | 1.25817      | 2h 48m       |</pre>"
            ],
            "text/plain": [
              "| 312          | 1.25817      | 2h 48m       |"
            ]
          },
          "metadata": {
            "tags": []
          }
        },
        {
          "output_type": "display_data",
          "data": {
            "text/html": [
              "<pre>| 313          | 1.27312      | 2h 49m       |</pre>"
            ],
            "text/plain": [
              "| 313          | 1.27312      | 2h 49m       |"
            ]
          },
          "metadata": {
            "tags": []
          }
        },
        {
          "output_type": "display_data",
          "data": {
            "text/html": [
              "<pre>| 314          | 1.24913      | 2h 49m       |</pre>"
            ],
            "text/plain": [
              "| 314          | 1.24913      | 2h 49m       |"
            ]
          },
          "metadata": {
            "tags": []
          }
        },
        {
          "output_type": "display_data",
          "data": {
            "text/html": [
              "<pre>| 315          | 1.24779      | 2h 50m       |</pre>"
            ],
            "text/plain": [
              "| 315          | 1.24779      | 2h 50m       |"
            ]
          },
          "metadata": {
            "tags": []
          }
        },
        {
          "output_type": "display_data",
          "data": {
            "text/html": [
              "<pre>| 316          | 1.21694      | 2h 50m       |</pre>"
            ],
            "text/plain": [
              "| 316          | 1.21694      | 2h 50m       |"
            ]
          },
          "metadata": {
            "tags": []
          }
        },
        {
          "output_type": "display_data",
          "data": {
            "text/html": [
              "<pre>| 317          | 1.18407      | 2h 51m       |</pre>"
            ],
            "text/plain": [
              "| 317          | 1.18407      | 2h 51m       |"
            ]
          },
          "metadata": {
            "tags": []
          }
        },
        {
          "output_type": "display_data",
          "data": {
            "text/html": [
              "<pre>| 318          | 1.17924      | 2h 51m       |</pre>"
            ],
            "text/plain": [
              "| 318          | 1.17924      | 2h 51m       |"
            ]
          },
          "metadata": {
            "tags": []
          }
        },
        {
          "output_type": "display_data",
          "data": {
            "text/html": [
              "<pre>| 319          | 1.19127      | 2h 52m       |</pre>"
            ],
            "text/plain": [
              "| 319          | 1.19127      | 2h 52m       |"
            ]
          },
          "metadata": {
            "tags": []
          }
        },
        {
          "output_type": "display_data",
          "data": {
            "text/html": [
              "<pre>| 320          | 1.22151      | 2h 52m       |</pre>"
            ],
            "text/plain": [
              "| 320          | 1.22151      | 2h 52m       |"
            ]
          },
          "metadata": {
            "tags": []
          }
        },
        {
          "output_type": "display_data",
          "data": {
            "text/html": [
              "<pre>| 321          | 1.21045      | 2h 53m       |</pre>"
            ],
            "text/plain": [
              "| 321          | 1.21045      | 2h 53m       |"
            ]
          },
          "metadata": {
            "tags": []
          }
        },
        {
          "output_type": "display_data",
          "data": {
            "text/html": [
              "<pre>| 322          | 1.17905      | 2h 53m       |</pre>"
            ],
            "text/plain": [
              "| 322          | 1.17905      | 2h 53m       |"
            ]
          },
          "metadata": {
            "tags": []
          }
        },
        {
          "output_type": "display_data",
          "data": {
            "text/html": [
              "<pre>| 323          | 1.15973      | 2h 54m       |</pre>"
            ],
            "text/plain": [
              "| 323          | 1.15973      | 2h 54m       |"
            ]
          },
          "metadata": {
            "tags": []
          }
        },
        {
          "output_type": "display_data",
          "data": {
            "text/html": [
              "<pre>| 324          | 1.15214      | 2h 54m       |</pre>"
            ],
            "text/plain": [
              "| 324          | 1.15214      | 2h 54m       |"
            ]
          },
          "metadata": {
            "tags": []
          }
        },
        {
          "output_type": "display_data",
          "data": {
            "text/html": [
              "<pre>| 325          | 1.1436       | 2h 55m       |</pre>"
            ],
            "text/plain": [
              "| 325          | 1.1436       | 2h 55m       |"
            ]
          },
          "metadata": {
            "tags": []
          }
        },
        {
          "output_type": "display_data",
          "data": {
            "text/html": [
              "<pre>| 326          | 1.13934      | 2h 55m       |</pre>"
            ],
            "text/plain": [
              "| 326          | 1.13934      | 2h 55m       |"
            ]
          },
          "metadata": {
            "tags": []
          }
        },
        {
          "output_type": "display_data",
          "data": {
            "text/html": [
              "<pre>| 327          | 1.12178      | 2h 56m       |</pre>"
            ],
            "text/plain": [
              "| 327          | 1.12178      | 2h 56m       |"
            ]
          },
          "metadata": {
            "tags": []
          }
        },
        {
          "output_type": "display_data",
          "data": {
            "text/html": [
              "<pre>| 328          | 1.13082      | 2h 57m       |</pre>"
            ],
            "text/plain": [
              "| 328          | 1.13082      | 2h 57m       |"
            ]
          },
          "metadata": {
            "tags": []
          }
        },
        {
          "output_type": "display_data",
          "data": {
            "text/html": [
              "<pre>| 329          | 1.1342       | 2h 57m       |</pre>"
            ],
            "text/plain": [
              "| 329          | 1.1342       | 2h 57m       |"
            ]
          },
          "metadata": {
            "tags": []
          }
        },
        {
          "output_type": "display_data",
          "data": {
            "text/html": [
              "<pre>| 330          | 1.1542       | 2h 58m       |</pre>"
            ],
            "text/plain": [
              "| 330          | 1.1542       | 2h 58m       |"
            ]
          },
          "metadata": {
            "tags": []
          }
        },
        {
          "output_type": "display_data",
          "data": {
            "text/html": [
              "<pre>| 331          | 1.14173      | 2h 58m       |</pre>"
            ],
            "text/plain": [
              "| 331          | 1.14173      | 2h 58m       |"
            ]
          },
          "metadata": {
            "tags": []
          }
        },
        {
          "output_type": "display_data",
          "data": {
            "text/html": [
              "<pre>| 332          | 1.13812      | 2h 59m       |</pre>"
            ],
            "text/plain": [
              "| 332          | 1.13812      | 2h 59m       |"
            ]
          },
          "metadata": {
            "tags": []
          }
        },
        {
          "output_type": "display_data",
          "data": {
            "text/html": [
              "<pre>| 333          | 1.15182      | 2h 59m       |</pre>"
            ],
            "text/plain": [
              "| 333          | 1.15182      | 2h 59m       |"
            ]
          },
          "metadata": {
            "tags": []
          }
        },
        {
          "output_type": "display_data",
          "data": {
            "text/html": [
              "<pre>| 334          | 1.14788      | 3h 0m        |</pre>"
            ],
            "text/plain": [
              "| 334          | 1.14788      | 3h 0m        |"
            ]
          },
          "metadata": {
            "tags": []
          }
        },
        {
          "output_type": "display_data",
          "data": {
            "text/html": [
              "<pre>| 335          | 1.1434       | 3h 0m        |</pre>"
            ],
            "text/plain": [
              "| 335          | 1.1434       | 3h 0m        |"
            ]
          },
          "metadata": {
            "tags": []
          }
        },
        {
          "output_type": "display_data",
          "data": {
            "text/html": [
              "<pre>| 336          | 1.11338      | 3h 1m        |</pre>"
            ],
            "text/plain": [
              "| 336          | 1.11338      | 3h 1m        |"
            ]
          },
          "metadata": {
            "tags": []
          }
        },
        {
          "output_type": "display_data",
          "data": {
            "text/html": [
              "<pre>| 337          | 1.12013      | 3h 1m        |</pre>"
            ],
            "text/plain": [
              "| 337          | 1.12013      | 3h 1m        |"
            ]
          },
          "metadata": {
            "tags": []
          }
        },
        {
          "output_type": "display_data",
          "data": {
            "text/html": [
              "<pre>| 338          | 1.11478      | 3h 2m        |</pre>"
            ],
            "text/plain": [
              "| 338          | 1.11478      | 3h 2m        |"
            ]
          },
          "metadata": {
            "tags": []
          }
        },
        {
          "output_type": "display_data",
          "data": {
            "text/html": [
              "<pre>| 339          | 1.13828      | 3h 3m        |</pre>"
            ],
            "text/plain": [
              "| 339          | 1.13828      | 3h 3m        |"
            ]
          },
          "metadata": {
            "tags": []
          }
        },
        {
          "output_type": "display_data",
          "data": {
            "text/html": [
              "<pre>| 340          | 1.17673      | 3h 3m        |</pre>"
            ],
            "text/plain": [
              "| 340          | 1.17673      | 3h 3m        |"
            ]
          },
          "metadata": {
            "tags": []
          }
        },
        {
          "output_type": "display_data",
          "data": {
            "text/html": [
              "<pre>| 341          | 1.15314      | 3h 4m        |</pre>"
            ],
            "text/plain": [
              "| 341          | 1.15314      | 3h 4m        |"
            ]
          },
          "metadata": {
            "tags": []
          }
        },
        {
          "output_type": "display_data",
          "data": {
            "text/html": [
              "<pre>| 342          | 1.13205      | 3h 4m        |</pre>"
            ],
            "text/plain": [
              "| 342          | 1.13205      | 3h 4m        |"
            ]
          },
          "metadata": {
            "tags": []
          }
        },
        {
          "output_type": "display_data",
          "data": {
            "text/html": [
              "<pre>| 343          | 1.14902      | 3h 5m        |</pre>"
            ],
            "text/plain": [
              "| 343          | 1.14902      | 3h 5m        |"
            ]
          },
          "metadata": {
            "tags": []
          }
        },
        {
          "output_type": "display_data",
          "data": {
            "text/html": [
              "<pre>| 344          | 1.16162      | 3h 5m        |</pre>"
            ],
            "text/plain": [
              "| 344          | 1.16162      | 3h 5m        |"
            ]
          },
          "metadata": {
            "tags": []
          }
        },
        {
          "output_type": "display_data",
          "data": {
            "text/html": [
              "<pre>| 345          | 1.14198      | 3h 6m        |</pre>"
            ],
            "text/plain": [
              "| 345          | 1.14198      | 3h 6m        |"
            ]
          },
          "metadata": {
            "tags": []
          }
        },
        {
          "output_type": "display_data",
          "data": {
            "text/html": [
              "<pre>| 346          | 1.13084      | 3h 6m        |</pre>"
            ],
            "text/plain": [
              "| 346          | 1.13084      | 3h 6m        |"
            ]
          },
          "metadata": {
            "tags": []
          }
        },
        {
          "output_type": "display_data",
          "data": {
            "text/html": [
              "<pre>| 347          | 1.11198      | 3h 7m        |</pre>"
            ],
            "text/plain": [
              "| 347          | 1.11198      | 3h 7m        |"
            ]
          },
          "metadata": {
            "tags": []
          }
        },
        {
          "output_type": "display_data",
          "data": {
            "text/html": [
              "<pre>| 348          | 1.07727      | 3h 7m        |</pre>"
            ],
            "text/plain": [
              "| 348          | 1.07727      | 3h 7m        |"
            ]
          },
          "metadata": {
            "tags": []
          }
        },
        {
          "output_type": "display_data",
          "data": {
            "text/html": [
              "<pre>| 349          | 1.07661      | 3h 8m        |</pre>"
            ],
            "text/plain": [
              "| 349          | 1.07661      | 3h 8m        |"
            ]
          },
          "metadata": {
            "tags": []
          }
        },
        {
          "output_type": "display_data",
          "data": {
            "text/html": [
              "<pre>| 350          | 1.06654      | 3h 9m        |</pre>"
            ],
            "text/plain": [
              "| 350          | 1.06654      | 3h 9m        |"
            ]
          },
          "metadata": {
            "tags": []
          }
        },
        {
          "output_type": "display_data",
          "data": {
            "text/html": [
              "<pre>| 351          | 1.10812      | 3h 9m        |</pre>"
            ],
            "text/plain": [
              "| 351          | 1.10812      | 3h 9m        |"
            ]
          },
          "metadata": {
            "tags": []
          }
        },
        {
          "output_type": "display_data",
          "data": {
            "text/html": [
              "<pre>| 352          | 1.13058      | 3h 10m       |</pre>"
            ],
            "text/plain": [
              "| 352          | 1.13058      | 3h 10m       |"
            ]
          },
          "metadata": {
            "tags": []
          }
        },
        {
          "output_type": "display_data",
          "data": {
            "text/html": [
              "<pre>| 353          | 1.12622      | 3h 10m       |</pre>"
            ],
            "text/plain": [
              "| 353          | 1.12622      | 3h 10m       |"
            ]
          },
          "metadata": {
            "tags": []
          }
        },
        {
          "output_type": "display_data",
          "data": {
            "text/html": [
              "<pre>| 354          | 1.13324      | 3h 11m       |</pre>"
            ],
            "text/plain": [
              "| 354          | 1.13324      | 3h 11m       |"
            ]
          },
          "metadata": {
            "tags": []
          }
        },
        {
          "output_type": "display_data",
          "data": {
            "text/html": [
              "<pre>| 355          | 1.13925      | 3h 11m       |</pre>"
            ],
            "text/plain": [
              "| 355          | 1.13925      | 3h 11m       |"
            ]
          },
          "metadata": {
            "tags": []
          }
        },
        {
          "output_type": "display_data",
          "data": {
            "text/html": [
              "<pre>| 356          | 1.12268      | 3h 12m       |</pre>"
            ],
            "text/plain": [
              "| 356          | 1.12268      | 3h 12m       |"
            ]
          },
          "metadata": {
            "tags": []
          }
        },
        {
          "output_type": "display_data",
          "data": {
            "text/html": [
              "<pre>| 357          | 1.10572      | 3h 12m       |</pre>"
            ],
            "text/plain": [
              "| 357          | 1.10572      | 3h 12m       |"
            ]
          },
          "metadata": {
            "tags": []
          }
        },
        {
          "output_type": "display_data",
          "data": {
            "text/html": [
              "<pre>| 358          | 1.12298      | 3h 13m       |</pre>"
            ],
            "text/plain": [
              "| 358          | 1.12298      | 3h 13m       |"
            ]
          },
          "metadata": {
            "tags": []
          }
        },
        {
          "output_type": "display_data",
          "data": {
            "text/html": [
              "<pre>| 359          | 1.10477      | 3h 13m       |</pre>"
            ],
            "text/plain": [
              "| 359          | 1.10477      | 3h 13m       |"
            ]
          },
          "metadata": {
            "tags": []
          }
        },
        {
          "output_type": "display_data",
          "data": {
            "text/html": [
              "<pre>| 360          | 1.08215      | 3h 14m       |</pre>"
            ],
            "text/plain": [
              "| 360          | 1.08215      | 3h 14m       |"
            ]
          },
          "metadata": {
            "tags": []
          }
        },
        {
          "output_type": "display_data",
          "data": {
            "text/html": [
              "<pre>| 361          | 1.08155      | 3h 14m       |</pre>"
            ],
            "text/plain": [
              "| 361          | 1.08155      | 3h 14m       |"
            ]
          },
          "metadata": {
            "tags": []
          }
        },
        {
          "output_type": "display_data",
          "data": {
            "text/html": [
              "<pre>| 362          | 1.10374      | 3h 15m       |</pre>"
            ],
            "text/plain": [
              "| 362          | 1.10374      | 3h 15m       |"
            ]
          },
          "metadata": {
            "tags": []
          }
        },
        {
          "output_type": "display_data",
          "data": {
            "text/html": [
              "<pre>| 363          | 1.11057      | 3h 16m       |</pre>"
            ],
            "text/plain": [
              "| 363          | 1.11057      | 3h 16m       |"
            ]
          },
          "metadata": {
            "tags": []
          }
        },
        {
          "output_type": "display_data",
          "data": {
            "text/html": [
              "<pre>| 364          | 1.12552      | 3h 16m       |</pre>"
            ],
            "text/plain": [
              "| 364          | 1.12552      | 3h 16m       |"
            ]
          },
          "metadata": {
            "tags": []
          }
        },
        {
          "output_type": "display_data",
          "data": {
            "text/html": [
              "<pre>| 365          | 1.19132      | 3h 17m       |</pre>"
            ],
            "text/plain": [
              "| 365          | 1.19132      | 3h 17m       |"
            ]
          },
          "metadata": {
            "tags": []
          }
        },
        {
          "output_type": "display_data",
          "data": {
            "text/html": [
              "<pre>| 366          | 1.20769      | 3h 17m       |</pre>"
            ],
            "text/plain": [
              "| 366          | 1.20769      | 3h 17m       |"
            ]
          },
          "metadata": {
            "tags": []
          }
        },
        {
          "output_type": "display_data",
          "data": {
            "text/html": [
              "<pre>| 367          | 1.2211       | 3h 18m       |</pre>"
            ],
            "text/plain": [
              "| 367          | 1.2211       | 3h 18m       |"
            ]
          },
          "metadata": {
            "tags": []
          }
        },
        {
          "output_type": "display_data",
          "data": {
            "text/html": [
              "<pre>| 368          | 1.22603      | 3h 18m       |</pre>"
            ],
            "text/plain": [
              "| 368          | 1.22603      | 3h 18m       |"
            ]
          },
          "metadata": {
            "tags": []
          }
        },
        {
          "output_type": "display_data",
          "data": {
            "text/html": [
              "<pre>| 369          | 1.23581      | 3h 19m       |</pre>"
            ],
            "text/plain": [
              "| 369          | 1.23581      | 3h 19m       |"
            ]
          },
          "metadata": {
            "tags": []
          }
        },
        {
          "output_type": "display_data",
          "data": {
            "text/html": [
              "<pre>| 370          | 1.24961      | 3h 19m       |</pre>"
            ],
            "text/plain": [
              "| 370          | 1.24961      | 3h 19m       |"
            ]
          },
          "metadata": {
            "tags": []
          }
        },
        {
          "output_type": "display_data",
          "data": {
            "text/html": [
              "<pre>| 371          | 1.2524       | 3h 20m       |</pre>"
            ],
            "text/plain": [
              "| 371          | 1.2524       | 3h 20m       |"
            ]
          },
          "metadata": {
            "tags": []
          }
        },
        {
          "output_type": "display_data",
          "data": {
            "text/html": [
              "<pre>| 372          | 1.254        | 3h 20m       |</pre>"
            ],
            "text/plain": [
              "| 372          | 1.254        | 3h 20m       |"
            ]
          },
          "metadata": {
            "tags": []
          }
        },
        {
          "output_type": "display_data",
          "data": {
            "text/html": [
              "<pre>| 373          | 1.26843      | 3h 21m       |</pre>"
            ],
            "text/plain": [
              "| 373          | 1.26843      | 3h 21m       |"
            ]
          },
          "metadata": {
            "tags": []
          }
        },
        {
          "output_type": "display_data",
          "data": {
            "text/html": [
              "<pre>| 374          | 1.24993      | 3h 21m       |</pre>"
            ],
            "text/plain": [
              "| 374          | 1.24993      | 3h 21m       |"
            ]
          },
          "metadata": {
            "tags": []
          }
        },
        {
          "output_type": "display_data",
          "data": {
            "text/html": [
              "<pre>| 375          | 1.24688      | 3h 22m       |</pre>"
            ],
            "text/plain": [
              "| 375          | 1.24688      | 3h 22m       |"
            ]
          },
          "metadata": {
            "tags": []
          }
        },
        {
          "output_type": "display_data",
          "data": {
            "text/html": [
              "<pre>| 376          | 1.23932      | 3h 22m       |</pre>"
            ],
            "text/plain": [
              "| 376          | 1.23932      | 3h 22m       |"
            ]
          },
          "metadata": {
            "tags": []
          }
        },
        {
          "output_type": "display_data",
          "data": {
            "text/html": [
              "<pre>| 377          | 1.2554       | 3h 23m       |</pre>"
            ],
            "text/plain": [
              "| 377          | 1.2554       | 3h 23m       |"
            ]
          },
          "metadata": {
            "tags": []
          }
        },
        {
          "output_type": "display_data",
          "data": {
            "text/html": [
              "<pre>| 378          | 1.25288      | 3h 24m       |</pre>"
            ],
            "text/plain": [
              "| 378          | 1.25288      | 3h 24m       |"
            ]
          },
          "metadata": {
            "tags": []
          }
        },
        {
          "output_type": "display_data",
          "data": {
            "text/html": [
              "<pre>| 379          | 1.23522      | 3h 24m       |</pre>"
            ],
            "text/plain": [
              "| 379          | 1.23522      | 3h 24m       |"
            ]
          },
          "metadata": {
            "tags": []
          }
        },
        {
          "output_type": "display_data",
          "data": {
            "text/html": [
              "<pre>| 380          | 1.22764      | 3h 25m       |</pre>"
            ],
            "text/plain": [
              "| 380          | 1.22764      | 3h 25m       |"
            ]
          },
          "metadata": {
            "tags": []
          }
        },
        {
          "output_type": "display_data",
          "data": {
            "text/html": [
              "<pre>| 381          | 1.24434      | 3h 25m       |</pre>"
            ],
            "text/plain": [
              "| 381          | 1.24434      | 3h 25m       |"
            ]
          },
          "metadata": {
            "tags": []
          }
        },
        {
          "output_type": "display_data",
          "data": {
            "text/html": [
              "<pre>| 382          | 1.25763      | 3h 26m       |</pre>"
            ],
            "text/plain": [
              "| 382          | 1.25763      | 3h 26m       |"
            ]
          },
          "metadata": {
            "tags": []
          }
        },
        {
          "output_type": "display_data",
          "data": {
            "text/html": [
              "<pre>| 383          | 1.24651      | 3h 26m       |</pre>"
            ],
            "text/plain": [
              "| 383          | 1.24651      | 3h 26m       |"
            ]
          },
          "metadata": {
            "tags": []
          }
        },
        {
          "output_type": "display_data",
          "data": {
            "text/html": [
              "<pre>| 384          | 1.21832      | 3h 27m       |</pre>"
            ],
            "text/plain": [
              "| 384          | 1.21832      | 3h 27m       |"
            ]
          },
          "metadata": {
            "tags": []
          }
        },
        {
          "output_type": "display_data",
          "data": {
            "text/html": [
              "<pre>| 385          | 1.22311      | 3h 27m       |</pre>"
            ],
            "text/plain": [
              "| 385          | 1.22311      | 3h 27m       |"
            ]
          },
          "metadata": {
            "tags": []
          }
        },
        {
          "output_type": "display_data",
          "data": {
            "text/html": [
              "<pre>| 386          | 1.21558      | 3h 28m       |</pre>"
            ],
            "text/plain": [
              "| 386          | 1.21558      | 3h 28m       |"
            ]
          },
          "metadata": {
            "tags": []
          }
        },
        {
          "output_type": "display_data",
          "data": {
            "text/html": [
              "<pre>| 387          | 1.20182      | 3h 28m       |</pre>"
            ],
            "text/plain": [
              "| 387          | 1.20182      | 3h 28m       |"
            ]
          },
          "metadata": {
            "tags": []
          }
        },
        {
          "output_type": "display_data",
          "data": {
            "text/html": [
              "<pre>| 388          | 1.1688       | 3h 29m       |</pre>"
            ],
            "text/plain": [
              "| 388          | 1.1688       | 3h 29m       |"
            ]
          },
          "metadata": {
            "tags": []
          }
        },
        {
          "output_type": "display_data",
          "data": {
            "text/html": [
              "<pre>| 389          | 1.14921      | 3h 29m       |</pre>"
            ],
            "text/plain": [
              "| 389          | 1.14921      | 3h 29m       |"
            ]
          },
          "metadata": {
            "tags": []
          }
        },
        {
          "output_type": "display_data",
          "data": {
            "text/html": [
              "<pre>| 390          | 1.15646      | 3h 30m       |</pre>"
            ],
            "text/plain": [
              "| 390          | 1.15646      | 3h 30m       |"
            ]
          },
          "metadata": {
            "tags": []
          }
        },
        {
          "output_type": "display_data",
          "data": {
            "text/html": [
              "<pre>| 391          | 1.16227      | 3h 30m       |</pre>"
            ],
            "text/plain": [
              "| 391          | 1.16227      | 3h 30m       |"
            ]
          },
          "metadata": {
            "tags": []
          }
        },
        {
          "output_type": "display_data",
          "data": {
            "text/html": [
              "<pre>| 392          | 1.15723      | 3h 31m       |</pre>"
            ],
            "text/plain": [
              "| 392          | 1.15723      | 3h 31m       |"
            ]
          },
          "metadata": {
            "tags": []
          }
        },
        {
          "output_type": "display_data",
          "data": {
            "text/html": [
              "<pre>| 393          | 1.12482      | 3h 31m       |</pre>"
            ],
            "text/plain": [
              "| 393          | 1.12482      | 3h 31m       |"
            ]
          },
          "metadata": {
            "tags": []
          }
        },
        {
          "output_type": "display_data",
          "data": {
            "text/html": [
              "<pre>| 394          | 1.14401      | 3h 32m       |</pre>"
            ],
            "text/plain": [
              "| 394          | 1.14401      | 3h 32m       |"
            ]
          },
          "metadata": {
            "tags": []
          }
        },
        {
          "output_type": "display_data",
          "data": {
            "text/html": [
              "<pre>| 395          | 1.17312      | 3h 33m       |</pre>"
            ],
            "text/plain": [
              "| 395          | 1.17312      | 3h 33m       |"
            ]
          },
          "metadata": {
            "tags": []
          }
        },
        {
          "output_type": "display_data",
          "data": {
            "text/html": [
              "<pre>| 396          | 1.17492      | 3h 33m       |</pre>"
            ],
            "text/plain": [
              "| 396          | 1.17492      | 3h 33m       |"
            ]
          },
          "metadata": {
            "tags": []
          }
        },
        {
          "output_type": "display_data",
          "data": {
            "text/html": [
              "<pre>| 397          | 1.19815      | 3h 34m       |</pre>"
            ],
            "text/plain": [
              "| 397          | 1.19815      | 3h 34m       |"
            ]
          },
          "metadata": {
            "tags": []
          }
        },
        {
          "output_type": "display_data",
          "data": {
            "text/html": [
              "<pre>| 398          | 1.19729      | 3h 34m       |</pre>"
            ],
            "text/plain": [
              "| 398          | 1.19729      | 3h 34m       |"
            ]
          },
          "metadata": {
            "tags": []
          }
        },
        {
          "output_type": "display_data",
          "data": {
            "text/html": [
              "<pre>| 399          | 1.17913      | 3h 35m       |</pre>"
            ],
            "text/plain": [
              "| 399          | 1.17913      | 3h 35m       |"
            ]
          },
          "metadata": {
            "tags": []
          }
        },
        {
          "output_type": "display_data",
          "data": {
            "text/html": [
              "<pre>| 400          | 1.1722       | 3h 35m       |</pre>"
            ],
            "text/plain": [
              "| 400          | 1.1722       | 3h 35m       |"
            ]
          },
          "metadata": {
            "tags": []
          }
        },
        {
          "output_type": "display_data",
          "data": {
            "text/html": [
              "<pre>| 401          | 1.15792      | 3h 36m       |</pre>"
            ],
            "text/plain": [
              "| 401          | 1.15792      | 3h 36m       |"
            ]
          },
          "metadata": {
            "tags": []
          }
        },
        {
          "output_type": "display_data",
          "data": {
            "text/html": [
              "<pre>| 402          | 1.15786      | 3h 36m       |</pre>"
            ],
            "text/plain": [
              "| 402          | 1.15786      | 3h 36m       |"
            ]
          },
          "metadata": {
            "tags": []
          }
        },
        {
          "output_type": "display_data",
          "data": {
            "text/html": [
              "<pre>| 403          | 1.23172      | 3h 37m       |</pre>"
            ],
            "text/plain": [
              "| 403          | 1.23172      | 3h 37m       |"
            ]
          },
          "metadata": {
            "tags": []
          }
        },
        {
          "output_type": "display_data",
          "data": {
            "text/html": [
              "<pre>| 404          | 1.19301      | 3h 37m       |</pre>"
            ],
            "text/plain": [
              "| 404          | 1.19301      | 3h 37m       |"
            ]
          },
          "metadata": {
            "tags": []
          }
        },
        {
          "output_type": "display_data",
          "data": {
            "text/html": [
              "<pre>| 405          | 1.1802       | 3h 38m       |</pre>"
            ],
            "text/plain": [
              "| 405          | 1.1802       | 3h 38m       |"
            ]
          },
          "metadata": {
            "tags": []
          }
        },
        {
          "output_type": "display_data",
          "data": {
            "text/html": [
              "<pre>| 406          | 1.19342      | 3h 38m       |</pre>"
            ],
            "text/plain": [
              "| 406          | 1.19342      | 3h 38m       |"
            ]
          },
          "metadata": {
            "tags": []
          }
        },
        {
          "output_type": "display_data",
          "data": {
            "text/html": [
              "<pre>| 407          | 1.19208      | 3h 39m       |</pre>"
            ],
            "text/plain": [
              "| 407          | 1.19208      | 3h 39m       |"
            ]
          },
          "metadata": {
            "tags": []
          }
        },
        {
          "output_type": "display_data",
          "data": {
            "text/html": [
              "<pre>| 408          | 1.16231      | 3h 40m       |</pre>"
            ],
            "text/plain": [
              "| 408          | 1.16231      | 3h 40m       |"
            ]
          },
          "metadata": {
            "tags": []
          }
        },
        {
          "output_type": "display_data",
          "data": {
            "text/html": [
              "<pre>| 409          | 1.15835      | 3h 40m       |</pre>"
            ],
            "text/plain": [
              "| 409          | 1.15835      | 3h 40m       |"
            ]
          },
          "metadata": {
            "tags": []
          }
        },
        {
          "output_type": "display_data",
          "data": {
            "text/html": [
              "<pre>| 410          | 1.16215      | 3h 41m       |</pre>"
            ],
            "text/plain": [
              "| 410          | 1.16215      | 3h 41m       |"
            ]
          },
          "metadata": {
            "tags": []
          }
        },
        {
          "output_type": "display_data",
          "data": {
            "text/html": [
              "<pre>| 411          | 1.16161      | 3h 41m       |</pre>"
            ],
            "text/plain": [
              "| 411          | 1.16161      | 3h 41m       |"
            ]
          },
          "metadata": {
            "tags": []
          }
        },
        {
          "output_type": "display_data",
          "data": {
            "text/html": [
              "<pre>| 412          | 1.15146      | 3h 42m       |</pre>"
            ],
            "text/plain": [
              "| 412          | 1.15146      | 3h 42m       |"
            ]
          },
          "metadata": {
            "tags": []
          }
        },
        {
          "output_type": "display_data",
          "data": {
            "text/html": [
              "<pre>| 413          | 1.16012      | 3h 42m       |</pre>"
            ],
            "text/plain": [
              "| 413          | 1.16012      | 3h 42m       |"
            ]
          },
          "metadata": {
            "tags": []
          }
        },
        {
          "output_type": "display_data",
          "data": {
            "text/html": [
              "<pre>| 414          | 1.14571      | 3h 43m       |</pre>"
            ],
            "text/plain": [
              "| 414          | 1.14571      | 3h 43m       |"
            ]
          },
          "metadata": {
            "tags": []
          }
        },
        {
          "output_type": "display_data",
          "data": {
            "text/html": [
              "<pre>| 415          | 1.13653      | 3h 43m       |</pre>"
            ],
            "text/plain": [
              "| 415          | 1.13653      | 3h 43m       |"
            ]
          },
          "metadata": {
            "tags": []
          }
        },
        {
          "output_type": "display_data",
          "data": {
            "text/html": [
              "<pre>| 416          | 1.11462      | 3h 44m       |</pre>"
            ],
            "text/plain": [
              "| 416          | 1.11462      | 3h 44m       |"
            ]
          },
          "metadata": {
            "tags": []
          }
        },
        {
          "output_type": "display_data",
          "data": {
            "text/html": [
              "<pre>| 417          | 1.09375      | 3h 44m       |</pre>"
            ],
            "text/plain": [
              "| 417          | 1.09375      | 3h 44m       |"
            ]
          },
          "metadata": {
            "tags": []
          }
        },
        {
          "output_type": "display_data",
          "data": {
            "text/html": [
              "<pre>| 418          | 1.09411      | 3h 45m       |</pre>"
            ],
            "text/plain": [
              "| 418          | 1.09411      | 3h 45m       |"
            ]
          },
          "metadata": {
            "tags": []
          }
        },
        {
          "output_type": "display_data",
          "data": {
            "text/html": [
              "<pre>| 419          | 1.12719      | 3h 45m       |</pre>"
            ],
            "text/plain": [
              "| 419          | 1.12719      | 3h 45m       |"
            ]
          },
          "metadata": {
            "tags": []
          }
        },
        {
          "output_type": "display_data",
          "data": {
            "text/html": [
              "<pre>| 420          | 1.1502       | 3h 46m       |</pre>"
            ],
            "text/plain": [
              "| 420          | 1.1502       | 3h 46m       |"
            ]
          },
          "metadata": {
            "tags": []
          }
        },
        {
          "output_type": "display_data",
          "data": {
            "text/html": [
              "<pre>| 421          | 1.17812      | 3h 46m       |</pre>"
            ],
            "text/plain": [
              "| 421          | 1.17812      | 3h 46m       |"
            ]
          },
          "metadata": {
            "tags": []
          }
        },
        {
          "output_type": "display_data",
          "data": {
            "text/html": [
              "<pre>| 422          | 1.17732      | 3h 47m       |</pre>"
            ],
            "text/plain": [
              "| 422          | 1.17732      | 3h 47m       |"
            ]
          },
          "metadata": {
            "tags": []
          }
        },
        {
          "output_type": "display_data",
          "data": {
            "text/html": [
              "<pre>| 423          | 1.17347      | 3h 48m       |</pre>"
            ],
            "text/plain": [
              "| 423          | 1.17347      | 3h 48m       |"
            ]
          },
          "metadata": {
            "tags": []
          }
        },
        {
          "output_type": "display_data",
          "data": {
            "text/html": [
              "<pre>| 424          | 1.17966      | 3h 48m       |</pre>"
            ],
            "text/plain": [
              "| 424          | 1.17966      | 3h 48m       |"
            ]
          },
          "metadata": {
            "tags": []
          }
        },
        {
          "output_type": "display_data",
          "data": {
            "text/html": [
              "<pre>| 425          | 1.14728      | 3h 49m       |</pre>"
            ],
            "text/plain": [
              "| 425          | 1.14728      | 3h 49m       |"
            ]
          },
          "metadata": {
            "tags": []
          }
        },
        {
          "output_type": "display_data",
          "data": {
            "text/html": [
              "<pre>| 426          | 1.13163      | 3h 49m       |</pre>"
            ],
            "text/plain": [
              "| 426          | 1.13163      | 3h 49m       |"
            ]
          },
          "metadata": {
            "tags": []
          }
        },
        {
          "output_type": "display_data",
          "data": {
            "text/html": [
              "<pre>| 427          | 1.14888      | 3h 50m       |</pre>"
            ],
            "text/plain": [
              "| 427          | 1.14888      | 3h 50m       |"
            ]
          },
          "metadata": {
            "tags": []
          }
        },
        {
          "output_type": "display_data",
          "data": {
            "text/html": [
              "<pre>| 428          | 1.14937      | 3h 50m       |</pre>"
            ],
            "text/plain": [
              "| 428          | 1.14937      | 3h 50m       |"
            ]
          },
          "metadata": {
            "tags": []
          }
        },
        {
          "output_type": "display_data",
          "data": {
            "text/html": [
              "<pre>| 429          | 1.14003      | 3h 51m       |</pre>"
            ],
            "text/plain": [
              "| 429          | 1.14003      | 3h 51m       |"
            ]
          },
          "metadata": {
            "tags": []
          }
        },
        {
          "output_type": "display_data",
          "data": {
            "text/html": [
              "<pre>| 430          | 1.1497       | 3h 51m       |</pre>"
            ],
            "text/plain": [
              "| 430          | 1.1497       | 3h 51m       |"
            ]
          },
          "metadata": {
            "tags": []
          }
        },
        {
          "output_type": "display_data",
          "data": {
            "text/html": [
              "<pre>| 431          | 1.1446       | 3h 52m       |</pre>"
            ],
            "text/plain": [
              "| 431          | 1.1446       | 3h 52m       |"
            ]
          },
          "metadata": {
            "tags": []
          }
        },
        {
          "output_type": "display_data",
          "data": {
            "text/html": [
              "<pre>| 432          | 1.1535       | 3h 52m       |</pre>"
            ],
            "text/plain": [
              "| 432          | 1.1535       | 3h 52m       |"
            ]
          },
          "metadata": {
            "tags": []
          }
        },
        {
          "output_type": "display_data",
          "data": {
            "text/html": [
              "<pre>| 433          | 1.1497       | 3h 53m       |</pre>"
            ],
            "text/plain": [
              "| 433          | 1.1497       | 3h 53m       |"
            ]
          },
          "metadata": {
            "tags": []
          }
        },
        {
          "output_type": "display_data",
          "data": {
            "text/html": [
              "<pre>| 434          | 1.17539      | 3h 53m       |</pre>"
            ],
            "text/plain": [
              "| 434          | 1.17539      | 3h 53m       |"
            ]
          },
          "metadata": {
            "tags": []
          }
        },
        {
          "output_type": "display_data",
          "data": {
            "text/html": [
              "<pre>| 435          | 1.19064      | 3h 54m       |</pre>"
            ],
            "text/plain": [
              "| 435          | 1.19064      | 3h 54m       |"
            ]
          },
          "metadata": {
            "tags": []
          }
        },
        {
          "output_type": "display_data",
          "data": {
            "text/html": [
              "<pre>| 436          | 1.18351      | 3h 55m       |</pre>"
            ],
            "text/plain": [
              "| 436          | 1.18351      | 3h 55m       |"
            ]
          },
          "metadata": {
            "tags": []
          }
        },
        {
          "output_type": "display_data",
          "data": {
            "text/html": [
              "<pre>| 437          | 1.1629       | 3h 55m       |</pre>"
            ],
            "text/plain": [
              "| 437          | 1.1629       | 3h 55m       |"
            ]
          },
          "metadata": {
            "tags": []
          }
        },
        {
          "output_type": "display_data",
          "data": {
            "text/html": [
              "<pre>| 438          | 1.16112      | 3h 56m       |</pre>"
            ],
            "text/plain": [
              "| 438          | 1.16112      | 3h 56m       |"
            ]
          },
          "metadata": {
            "tags": []
          }
        },
        {
          "output_type": "display_data",
          "data": {
            "text/html": [
              "<pre>| 439          | 1.13815      | 3h 56m       |</pre>"
            ],
            "text/plain": [
              "| 439          | 1.13815      | 3h 56m       |"
            ]
          },
          "metadata": {
            "tags": []
          }
        },
        {
          "output_type": "display_data",
          "data": {
            "text/html": [
              "<pre>| 440          | 1.15023      | 3h 57m       |</pre>"
            ],
            "text/plain": [
              "| 440          | 1.15023      | 3h 57m       |"
            ]
          },
          "metadata": {
            "tags": []
          }
        },
        {
          "output_type": "display_data",
          "data": {
            "text/html": [
              "<pre>| 441          | 1.11585      | 3h 57m       |</pre>"
            ],
            "text/plain": [
              "| 441          | 1.11585      | 3h 57m       |"
            ]
          },
          "metadata": {
            "tags": []
          }
        },
        {
          "output_type": "display_data",
          "data": {
            "text/html": [
              "<pre>| 442          | 1.15143      | 3h 58m       |</pre>"
            ],
            "text/plain": [
              "| 442          | 1.15143      | 3h 58m       |"
            ]
          },
          "metadata": {
            "tags": []
          }
        },
        {
          "output_type": "display_data",
          "data": {
            "text/html": [
              "<pre>| 443          | 1.1427       | 3h 58m       |</pre>"
            ],
            "text/plain": [
              "| 443          | 1.1427       | 3h 58m       |"
            ]
          },
          "metadata": {
            "tags": []
          }
        },
        {
          "output_type": "display_data",
          "data": {
            "text/html": [
              "<pre>| 444          | 1.14503      | 3h 59m       |</pre>"
            ],
            "text/plain": [
              "| 444          | 1.14503      | 3h 59m       |"
            ]
          },
          "metadata": {
            "tags": []
          }
        },
        {
          "output_type": "display_data",
          "data": {
            "text/html": [
              "<pre>| 445          | 1.10612      | 3h 59m       |</pre>"
            ],
            "text/plain": [
              "| 445          | 1.10612      | 3h 59m       |"
            ]
          },
          "metadata": {
            "tags": []
          }
        },
        {
          "output_type": "display_data",
          "data": {
            "text/html": [
              "<pre>| 446          | 1.08383      | 4h 0m        |</pre>"
            ],
            "text/plain": [
              "| 446          | 1.08383      | 4h 0m        |"
            ]
          },
          "metadata": {
            "tags": []
          }
        },
        {
          "output_type": "display_data",
          "data": {
            "text/html": [
              "<pre>| 447          | 1.1543       | 4h 0m        |</pre>"
            ],
            "text/plain": [
              "| 447          | 1.1543       | 4h 0m        |"
            ]
          },
          "metadata": {
            "tags": []
          }
        },
        {
          "output_type": "display_data",
          "data": {
            "text/html": [
              "<pre>| 448          | 1.1913       | 4h 1m        |</pre>"
            ],
            "text/plain": [
              "| 448          | 1.1913       | 4h 1m        |"
            ]
          },
          "metadata": {
            "tags": []
          }
        },
        {
          "output_type": "display_data",
          "data": {
            "text/html": [
              "<pre>| 449          | 1.15755      | 4h 2m        |</pre>"
            ],
            "text/plain": [
              "| 449          | 1.15755      | 4h 2m        |"
            ]
          },
          "metadata": {
            "tags": []
          }
        },
        {
          "output_type": "display_data",
          "data": {
            "text/html": [
              "<pre>| 450          | 1.1199       | 4h 2m        |</pre>"
            ],
            "text/plain": [
              "| 450          | 1.1199       | 4h 2m        |"
            ]
          },
          "metadata": {
            "tags": []
          }
        },
        {
          "output_type": "display_data",
          "data": {
            "text/html": [
              "<pre>| 451          | 1.12754      | 4h 3m        |</pre>"
            ],
            "text/plain": [
              "| 451          | 1.12754      | 4h 3m        |"
            ]
          },
          "metadata": {
            "tags": []
          }
        },
        {
          "output_type": "display_data",
          "data": {
            "text/html": [
              "<pre>| 452          | 1.1434       | 4h 3m        |</pre>"
            ],
            "text/plain": [
              "| 452          | 1.1434       | 4h 3m        |"
            ]
          },
          "metadata": {
            "tags": []
          }
        },
        {
          "output_type": "display_data",
          "data": {
            "text/html": [
              "<pre>| 453          | 1.13486      | 4h 4m        |</pre>"
            ],
            "text/plain": [
              "| 453          | 1.13486      | 4h 4m        |"
            ]
          },
          "metadata": {
            "tags": []
          }
        },
        {
          "output_type": "display_data",
          "data": {
            "text/html": [
              "<pre>| 454          | 1.1766       | 4h 4m        |</pre>"
            ],
            "text/plain": [
              "| 454          | 1.1766       | 4h 4m        |"
            ]
          },
          "metadata": {
            "tags": []
          }
        },
        {
          "output_type": "display_data",
          "data": {
            "text/html": [
              "<pre>| 455          | 1.16167      | 4h 5m        |</pre>"
            ],
            "text/plain": [
              "| 455          | 1.16167      | 4h 5m        |"
            ]
          },
          "metadata": {
            "tags": []
          }
        },
        {
          "output_type": "display_data",
          "data": {
            "text/html": [
              "<pre>| 456          | 1.19109      | 4h 5m        |</pre>"
            ],
            "text/plain": [
              "| 456          | 1.19109      | 4h 5m        |"
            ]
          },
          "metadata": {
            "tags": []
          }
        },
        {
          "output_type": "display_data",
          "data": {
            "text/html": [
              "<pre>| 457          | 1.16654      | 4h 6m        |</pre>"
            ],
            "text/plain": [
              "| 457          | 1.16654      | 4h 6m        |"
            ]
          },
          "metadata": {
            "tags": []
          }
        },
        {
          "output_type": "display_data",
          "data": {
            "text/html": [
              "<pre>| 458          | 1.14708      | 4h 7m        |</pre>"
            ],
            "text/plain": [
              "| 458          | 1.14708      | 4h 7m        |"
            ]
          },
          "metadata": {
            "tags": []
          }
        },
        {
          "output_type": "display_data",
          "data": {
            "text/html": [
              "<pre>| 459          | 1.11653      | 4h 7m        |</pre>"
            ],
            "text/plain": [
              "| 459          | 1.11653      | 4h 7m        |"
            ]
          },
          "metadata": {
            "tags": []
          }
        },
        {
          "output_type": "display_data",
          "data": {
            "text/html": [
              "<pre>| 460          | 1.11028      | 4h 8m        |</pre>"
            ],
            "text/plain": [
              "| 460          | 1.11028      | 4h 8m        |"
            ]
          },
          "metadata": {
            "tags": []
          }
        },
        {
          "output_type": "display_data",
          "data": {
            "text/html": [
              "<pre>| 461          | 1.11438      | 4h 8m        |</pre>"
            ],
            "text/plain": [
              "| 461          | 1.11438      | 4h 8m        |"
            ]
          },
          "metadata": {
            "tags": []
          }
        },
        {
          "output_type": "display_data",
          "data": {
            "text/html": [
              "<pre>| 462          | 1.11468      | 4h 9m        |</pre>"
            ],
            "text/plain": [
              "| 462          | 1.11468      | 4h 9m        |"
            ]
          },
          "metadata": {
            "tags": []
          }
        },
        {
          "output_type": "display_data",
          "data": {
            "text/html": [
              "<pre>| 463          | 1.13525      | 4h 9m        |</pre>"
            ],
            "text/plain": [
              "| 463          | 1.13525      | 4h 9m        |"
            ]
          },
          "metadata": {
            "tags": []
          }
        },
        {
          "output_type": "display_data",
          "data": {
            "text/html": [
              "<pre>| 464          | 1.11236      | 4h 10m       |</pre>"
            ],
            "text/plain": [
              "| 464          | 1.11236      | 4h 10m       |"
            ]
          },
          "metadata": {
            "tags": []
          }
        },
        {
          "output_type": "display_data",
          "data": {
            "text/html": [
              "<pre>| 465          | 1.10528      | 4h 10m       |</pre>"
            ],
            "text/plain": [
              "| 465          | 1.10528      | 4h 10m       |"
            ]
          },
          "metadata": {
            "tags": []
          }
        },
        {
          "output_type": "display_data",
          "data": {
            "text/html": [
              "<pre>| 466          | 1.07728      | 4h 11m       |</pre>"
            ],
            "text/plain": [
              "| 466          | 1.07728      | 4h 11m       |"
            ]
          },
          "metadata": {
            "tags": []
          }
        },
        {
          "output_type": "display_data",
          "data": {
            "text/html": [
              "<pre>| 467          | 1.07011      | 4h 11m       |</pre>"
            ],
            "text/plain": [
              "| 467          | 1.07011      | 4h 11m       |"
            ]
          },
          "metadata": {
            "tags": []
          }
        },
        {
          "output_type": "display_data",
          "data": {
            "text/html": [
              "<pre>| 468          | 1.05357      | 4h 12m       |</pre>"
            ],
            "text/plain": [
              "| 468          | 1.05357      | 4h 12m       |"
            ]
          },
          "metadata": {
            "tags": []
          }
        },
        {
          "output_type": "display_data",
          "data": {
            "text/html": [
              "<pre>| 469          | 1.06318      | 4h 12m       |</pre>"
            ],
            "text/plain": [
              "| 469          | 1.06318      | 4h 12m       |"
            ]
          },
          "metadata": {
            "tags": []
          }
        },
        {
          "output_type": "display_data",
          "data": {
            "text/html": [
              "<pre>| 470          | 1.03818      | 4h 13m       |</pre>"
            ],
            "text/plain": [
              "| 470          | 1.03818      | 4h 13m       |"
            ]
          },
          "metadata": {
            "tags": []
          }
        },
        {
          "output_type": "display_data",
          "data": {
            "text/html": [
              "<pre>| 471          | 1.04401      | 4h 14m       |</pre>"
            ],
            "text/plain": [
              "| 471          | 1.04401      | 4h 14m       |"
            ]
          },
          "metadata": {
            "tags": []
          }
        },
        {
          "output_type": "display_data",
          "data": {
            "text/html": [
              "<pre>| 472          | 1.01818      | 4h 14m       |</pre>"
            ],
            "text/plain": [
              "| 472          | 1.01818      | 4h 14m       |"
            ]
          },
          "metadata": {
            "tags": []
          }
        },
        {
          "output_type": "display_data",
          "data": {
            "text/html": [
              "<pre>| 473          | 1.00022      | 4h 15m       |</pre>"
            ],
            "text/plain": [
              "| 473          | 1.00022      | 4h 15m       |"
            ]
          },
          "metadata": {
            "tags": []
          }
        },
        {
          "output_type": "display_data",
          "data": {
            "text/html": [
              "<pre>| 474          | 0.997173     | 4h 15m       |</pre>"
            ],
            "text/plain": [
              "| 474          | 0.997173     | 4h 15m       |"
            ]
          },
          "metadata": {
            "tags": []
          }
        },
        {
          "output_type": "display_data",
          "data": {
            "text/html": [
              "<pre>| 475          | 1.01167      | 4h 16m       |</pre>"
            ],
            "text/plain": [
              "| 475          | 1.01167      | 4h 16m       |"
            ]
          },
          "metadata": {
            "tags": []
          }
        },
        {
          "output_type": "display_data",
          "data": {
            "text/html": [
              "<pre>| 476          | 1.01506      | 4h 16m       |</pre>"
            ],
            "text/plain": [
              "| 476          | 1.01506      | 4h 16m       |"
            ]
          },
          "metadata": {
            "tags": []
          }
        },
        {
          "output_type": "display_data",
          "data": {
            "text/html": [
              "<pre>| 477          | 0.997397     | 4h 17m       |</pre>"
            ],
            "text/plain": [
              "| 477          | 0.997397     | 4h 17m       |"
            ]
          },
          "metadata": {
            "tags": []
          }
        },
        {
          "output_type": "display_data",
          "data": {
            "text/html": [
              "<pre>| 478          | 0.993648     | 4h 17m       |</pre>"
            ],
            "text/plain": [
              "| 478          | 0.993648     | 4h 17m       |"
            ]
          },
          "metadata": {
            "tags": []
          }
        },
        {
          "output_type": "display_data",
          "data": {
            "text/html": [
              "<pre>| 479          | 0.997347     | 4h 18m       |</pre>"
            ],
            "text/plain": [
              "| 479          | 0.997347     | 4h 18m       |"
            ]
          },
          "metadata": {
            "tags": []
          }
        },
        {
          "output_type": "display_data",
          "data": {
            "text/html": [
              "<pre>| 480          | 1.03083      | 4h 18m       |</pre>"
            ],
            "text/plain": [
              "| 480          | 1.03083      | 4h 18m       |"
            ]
          },
          "metadata": {
            "tags": []
          }
        },
        {
          "output_type": "display_data",
          "data": {
            "text/html": [
              "<pre>| 481          | 0.998672     | 4h 19m       |</pre>"
            ],
            "text/plain": [
              "| 481          | 0.998672     | 4h 19m       |"
            ]
          },
          "metadata": {
            "tags": []
          }
        },
        {
          "output_type": "display_data",
          "data": {
            "text/html": [
              "<pre>| 482          | 1.00601      | 4h 19m       |</pre>"
            ],
            "text/plain": [
              "| 482          | 1.00601      | 4h 19m       |"
            ]
          },
          "metadata": {
            "tags": []
          }
        },
        {
          "output_type": "display_data",
          "data": {
            "text/html": [
              "<pre>| 483          | 0.998435     | 4h 20m       |</pre>"
            ],
            "text/plain": [
              "| 483          | 0.998435     | 4h 20m       |"
            ]
          },
          "metadata": {
            "tags": []
          }
        },
        {
          "output_type": "display_data",
          "data": {
            "text/html": [
              "<pre>| 484          | 0.994833     | 4h 20m       |</pre>"
            ],
            "text/plain": [
              "| 484          | 0.994833     | 4h 20m       |"
            ]
          },
          "metadata": {
            "tags": []
          }
        },
        {
          "output_type": "display_data",
          "data": {
            "text/html": [
              "<pre>| 485          | 0.994308     | 4h 21m       |</pre>"
            ],
            "text/plain": [
              "| 485          | 0.994308     | 4h 21m       |"
            ]
          },
          "metadata": {
            "tags": []
          }
        },
        {
          "output_type": "display_data",
          "data": {
            "text/html": [
              "<pre>| 486          | 0.991361     | 4h 22m       |</pre>"
            ],
            "text/plain": [
              "| 486          | 0.991361     | 4h 22m       |"
            ]
          },
          "metadata": {
            "tags": []
          }
        },
        {
          "output_type": "display_data",
          "data": {
            "text/html": [
              "<pre>| 487          | 1.00393      | 4h 22m       |</pre>"
            ],
            "text/plain": [
              "| 487          | 1.00393      | 4h 22m       |"
            ]
          },
          "metadata": {
            "tags": []
          }
        },
        {
          "output_type": "display_data",
          "data": {
            "text/html": [
              "<pre>| 488          | 0.997056     | 4h 23m       |</pre>"
            ],
            "text/plain": [
              "| 488          | 0.997056     | 4h 23m       |"
            ]
          },
          "metadata": {
            "tags": []
          }
        },
        {
          "output_type": "display_data",
          "data": {
            "text/html": [
              "<pre>| 489          | 1.01167      | 4h 23m       |</pre>"
            ],
            "text/plain": [
              "| 489          | 1.01167      | 4h 23m       |"
            ]
          },
          "metadata": {
            "tags": []
          }
        },
        {
          "output_type": "display_data",
          "data": {
            "text/html": [
              "<pre>| 490          | 1.0299       | 4h 24m       |</pre>"
            ],
            "text/plain": [
              "| 490          | 1.0299       | 4h 24m       |"
            ]
          },
          "metadata": {
            "tags": []
          }
        },
        {
          "output_type": "display_data",
          "data": {
            "text/html": [
              "<pre>| 491          | 1.01774      | 4h 24m       |</pre>"
            ],
            "text/plain": [
              "| 491          | 1.01774      | 4h 24m       |"
            ]
          },
          "metadata": {
            "tags": []
          }
        },
        {
          "output_type": "display_data",
          "data": {
            "text/html": [
              "<pre>| 492          | 1.02444      | 4h 25m       |</pre>"
            ],
            "text/plain": [
              "| 492          | 1.02444      | 4h 25m       |"
            ]
          },
          "metadata": {
            "tags": []
          }
        },
        {
          "output_type": "display_data",
          "data": {
            "text/html": [
              "<pre>| 493          | 1.04222      | 4h 25m       |</pre>"
            ],
            "text/plain": [
              "| 493          | 1.04222      | 4h 25m       |"
            ]
          },
          "metadata": {
            "tags": []
          }
        },
        {
          "output_type": "display_data",
          "data": {
            "text/html": [
              "<pre>| 494          | 1.06174      | 4h 26m       |</pre>"
            ],
            "text/plain": [
              "| 494          | 1.06174      | 4h 26m       |"
            ]
          },
          "metadata": {
            "tags": []
          }
        },
        {
          "output_type": "display_data",
          "data": {
            "text/html": [
              "<pre>| 495          | 1.05672      | 4h 26m       |</pre>"
            ],
            "text/plain": [
              "| 495          | 1.05672      | 4h 26m       |"
            ]
          },
          "metadata": {
            "tags": []
          }
        },
        {
          "output_type": "display_data",
          "data": {
            "text/html": [
              "<pre>| 496          | 1.06799      | 4h 27m       |</pre>"
            ],
            "text/plain": [
              "| 496          | 1.06799      | 4h 27m       |"
            ]
          },
          "metadata": {
            "tags": []
          }
        },
        {
          "output_type": "display_data",
          "data": {
            "text/html": [
              "<pre>| 497          | 1.0699       | 4h 28m       |</pre>"
            ],
            "text/plain": [
              "| 497          | 1.0699       | 4h 28m       |"
            ]
          },
          "metadata": {
            "tags": []
          }
        },
        {
          "output_type": "display_data",
          "data": {
            "text/html": [
              "<pre>| 498          | 1.06096      | 4h 28m       |</pre>"
            ],
            "text/plain": [
              "| 498          | 1.06096      | 4h 28m       |"
            ]
          },
          "metadata": {
            "tags": []
          }
        },
        {
          "output_type": "display_data",
          "data": {
            "text/html": [
              "<pre>| 499          | 1.03481      | 4h 29m       |</pre>"
            ],
            "text/plain": [
              "| 499          | 1.03481      | 4h 29m       |"
            ]
          },
          "metadata": {
            "tags": []
          }
        },
        {
          "output_type": "display_data",
          "data": {
            "text/html": [
              "<pre>| 500          | 1.02225      | 4h 29m       |</pre>"
            ],
            "text/plain": [
              "| 500          | 1.02225      | 4h 29m       |"
            ]
          },
          "metadata": {
            "tags": []
          }
        },
        {
          "output_type": "display_data",
          "data": {
            "text/html": [
              "<pre>| 501          | 1.02601      | 4h 30m       |</pre>"
            ],
            "text/plain": [
              "| 501          | 1.02601      | 4h 30m       |"
            ]
          },
          "metadata": {
            "tags": []
          }
        },
        {
          "output_type": "display_data",
          "data": {
            "text/html": [
              "<pre>| 502          | 1.01332      | 4h 30m       |</pre>"
            ],
            "text/plain": [
              "| 502          | 1.01332      | 4h 30m       |"
            ]
          },
          "metadata": {
            "tags": []
          }
        },
        {
          "output_type": "display_data",
          "data": {
            "text/html": [
              "<pre>| 503          | 1.03329      | 4h 31m       |</pre>"
            ],
            "text/plain": [
              "| 503          | 1.03329      | 4h 31m       |"
            ]
          },
          "metadata": {
            "tags": []
          }
        },
        {
          "output_type": "display_data",
          "data": {
            "text/html": [
              "<pre>| 504          | 1.02849      | 4h 31m       |</pre>"
            ],
            "text/plain": [
              "| 504          | 1.02849      | 4h 31m       |"
            ]
          },
          "metadata": {
            "tags": []
          }
        },
        {
          "output_type": "display_data",
          "data": {
            "text/html": [
              "<pre>| 505          | 1.04479      | 4h 32m       |</pre>"
            ],
            "text/plain": [
              "| 505          | 1.04479      | 4h 32m       |"
            ]
          },
          "metadata": {
            "tags": []
          }
        },
        {
          "output_type": "display_data",
          "data": {
            "text/html": [
              "<pre>| 506          | 1.02051      | 4h 33m       |</pre>"
            ],
            "text/plain": [
              "| 506          | 1.02051      | 4h 33m       |"
            ]
          },
          "metadata": {
            "tags": []
          }
        },
        {
          "output_type": "display_data",
          "data": {
            "text/html": [
              "<pre>| 507          | 1.01242      | 4h 33m       |</pre>"
            ],
            "text/plain": [
              "| 507          | 1.01242      | 4h 33m       |"
            ]
          },
          "metadata": {
            "tags": []
          }
        },
        {
          "output_type": "display_data",
          "data": {
            "text/html": [
              "<pre>| 508          | 0.985178     | 4h 34m       |</pre>"
            ],
            "text/plain": [
              "| 508          | 0.985178     | 4h 34m       |"
            ]
          },
          "metadata": {
            "tags": []
          }
        },
        {
          "output_type": "display_data",
          "data": {
            "text/html": [
              "<pre>| 509          | 0.987258     | 4h 34m       |</pre>"
            ],
            "text/plain": [
              "| 509          | 0.987258     | 4h 34m       |"
            ]
          },
          "metadata": {
            "tags": []
          }
        },
        {
          "output_type": "display_data",
          "data": {
            "text/html": [
              "<pre>| 510          | 0.975309     | 4h 35m       |</pre>"
            ],
            "text/plain": [
              "| 510          | 0.975309     | 4h 35m       |"
            ]
          },
          "metadata": {
            "tags": []
          }
        },
        {
          "output_type": "display_data",
          "data": {
            "text/html": [
              "<pre>| 511          | 0.966512     | 4h 35m       |</pre>"
            ],
            "text/plain": [
              "| 511          | 0.966512     | 4h 35m       |"
            ]
          },
          "metadata": {
            "tags": []
          }
        },
        {
          "output_type": "display_data",
          "data": {
            "text/html": [
              "<pre>| 512          | 0.954838     | 4h 36m       |</pre>"
            ],
            "text/plain": [
              "| 512          | 0.954838     | 4h 36m       |"
            ]
          },
          "metadata": {
            "tags": []
          }
        },
        {
          "output_type": "display_data",
          "data": {
            "text/html": [
              "<pre>| 513          | 0.968377     | 4h 36m       |</pre>"
            ],
            "text/plain": [
              "| 513          | 0.968377     | 4h 36m       |"
            ]
          },
          "metadata": {
            "tags": []
          }
        },
        {
          "output_type": "display_data",
          "data": {
            "text/html": [
              "<pre>| 514          | 0.942764     | 4h 37m       |</pre>"
            ],
            "text/plain": [
              "| 514          | 0.942764     | 4h 37m       |"
            ]
          },
          "metadata": {
            "tags": []
          }
        },
        {
          "output_type": "display_data",
          "data": {
            "text/html": [
              "<pre>| 515          | 0.950435     | 4h 38m       |</pre>"
            ],
            "text/plain": [
              "| 515          | 0.950435     | 4h 38m       |"
            ]
          },
          "metadata": {
            "tags": []
          }
        },
        {
          "output_type": "display_data",
          "data": {
            "text/html": [
              "<pre>| 516          | 0.941605     | 4h 38m       |</pre>"
            ],
            "text/plain": [
              "| 516          | 0.941605     | 4h 38m       |"
            ]
          },
          "metadata": {
            "tags": []
          }
        },
        {
          "output_type": "display_data",
          "data": {
            "text/html": [
              "<pre>| 517          | 0.965238     | 4h 39m       |</pre>"
            ],
            "text/plain": [
              "| 517          | 0.965238     | 4h 39m       |"
            ]
          },
          "metadata": {
            "tags": []
          }
        },
        {
          "output_type": "display_data",
          "data": {
            "text/html": [
              "<pre>| 518          | 0.948811     | 4h 39m       |</pre>"
            ],
            "text/plain": [
              "| 518          | 0.948811     | 4h 39m       |"
            ]
          },
          "metadata": {
            "tags": []
          }
        },
        {
          "output_type": "display_data",
          "data": {
            "text/html": [
              "<pre>| 519          | 0.960063     | 4h 40m       |</pre>"
            ],
            "text/plain": [
              "| 519          | 0.960063     | 4h 40m       |"
            ]
          },
          "metadata": {
            "tags": []
          }
        },
        {
          "output_type": "display_data",
          "data": {
            "text/html": [
              "<pre>| 520          | 0.964981     | 4h 40m       |</pre>"
            ],
            "text/plain": [
              "| 520          | 0.964981     | 4h 40m       |"
            ]
          },
          "metadata": {
            "tags": []
          }
        },
        {
          "output_type": "display_data",
          "data": {
            "text/html": [
              "<pre>| 521          | 0.964978     | 4h 41m       |</pre>"
            ],
            "text/plain": [
              "| 521          | 0.964978     | 4h 41m       |"
            ]
          },
          "metadata": {
            "tags": []
          }
        },
        {
          "output_type": "display_data",
          "data": {
            "text/html": [
              "<pre>| 522          | 0.958975     | 4h 41m       |</pre>"
            ],
            "text/plain": [
              "| 522          | 0.958975     | 4h 41m       |"
            ]
          },
          "metadata": {
            "tags": []
          }
        },
        {
          "output_type": "display_data",
          "data": {
            "text/html": [
              "<pre>| 523          | 0.962472     | 4h 42m       |</pre>"
            ],
            "text/plain": [
              "| 523          | 0.962472     | 4h 42m       |"
            ]
          },
          "metadata": {
            "tags": []
          }
        },
        {
          "output_type": "display_data",
          "data": {
            "text/html": [
              "<pre>| 524          | 0.943313     | 4h 43m       |</pre>"
            ],
            "text/plain": [
              "| 524          | 0.943313     | 4h 43m       |"
            ]
          },
          "metadata": {
            "tags": []
          }
        },
        {
          "output_type": "display_data",
          "data": {
            "text/html": [
              "<pre>| 525          | 0.925941     | 4h 43m       |</pre>"
            ],
            "text/plain": [
              "| 525          | 0.925941     | 4h 43m       |"
            ]
          },
          "metadata": {
            "tags": []
          }
        },
        {
          "output_type": "display_data",
          "data": {
            "text/html": [
              "<pre>| 526          | 0.942836     | 4h 44m       |</pre>"
            ],
            "text/plain": [
              "| 526          | 0.942836     | 4h 44m       |"
            ]
          },
          "metadata": {
            "tags": []
          }
        },
        {
          "output_type": "display_data",
          "data": {
            "text/html": [
              "<pre>| 527          | 0.956476     | 4h 44m       |</pre>"
            ],
            "text/plain": [
              "| 527          | 0.956476     | 4h 44m       |"
            ]
          },
          "metadata": {
            "tags": []
          }
        },
        {
          "output_type": "display_data",
          "data": {
            "text/html": [
              "<pre>| 528          | 0.933708     | 4h 45m       |</pre>"
            ],
            "text/plain": [
              "| 528          | 0.933708     | 4h 45m       |"
            ]
          },
          "metadata": {
            "tags": []
          }
        },
        {
          "output_type": "display_data",
          "data": {
            "text/html": [
              "<pre>| 529          | 0.960603     | 4h 45m       |</pre>"
            ],
            "text/plain": [
              "| 529          | 0.960603     | 4h 45m       |"
            ]
          },
          "metadata": {
            "tags": []
          }
        },
        {
          "output_type": "display_data",
          "data": {
            "text/html": [
              "<pre>| 530          | 0.987983     | 4h 46m       |</pre>"
            ],
            "text/plain": [
              "| 530          | 0.987983     | 4h 46m       |"
            ]
          },
          "metadata": {
            "tags": []
          }
        },
        {
          "output_type": "display_data",
          "data": {
            "text/html": [
              "<pre>| 531          | 0.978666     | 4h 46m       |</pre>"
            ],
            "text/plain": [
              "| 531          | 0.978666     | 4h 46m       |"
            ]
          },
          "metadata": {
            "tags": []
          }
        },
        {
          "output_type": "display_data",
          "data": {
            "text/html": [
              "<pre>| 532          | 0.954241     | 4h 47m       |</pre>"
            ],
            "text/plain": [
              "| 532          | 0.954241     | 4h 47m       |"
            ]
          },
          "metadata": {
            "tags": []
          }
        },
        {
          "output_type": "display_data",
          "data": {
            "text/html": [
              "<pre>| 533          | 0.961688     | 4h 48m       |</pre>"
            ],
            "text/plain": [
              "| 533          | 0.961688     | 4h 48m       |"
            ]
          },
          "metadata": {
            "tags": []
          }
        },
        {
          "output_type": "display_data",
          "data": {
            "text/html": [
              "<pre>| 534          | 0.930175     | 4h 48m       |</pre>"
            ],
            "text/plain": [
              "| 534          | 0.930175     | 4h 48m       |"
            ]
          },
          "metadata": {
            "tags": []
          }
        },
        {
          "output_type": "display_data",
          "data": {
            "text/html": [
              "<pre>| 535          | 0.944224     | 4h 49m       |</pre>"
            ],
            "text/plain": [
              "| 535          | 0.944224     | 4h 49m       |"
            ]
          },
          "metadata": {
            "tags": []
          }
        },
        {
          "output_type": "display_data",
          "data": {
            "text/html": [
              "<pre>| 536          | 0.934182     | 4h 49m       |</pre>"
            ],
            "text/plain": [
              "| 536          | 0.934182     | 4h 49m       |"
            ]
          },
          "metadata": {
            "tags": []
          }
        },
        {
          "output_type": "display_data",
          "data": {
            "text/html": [
              "<pre>| 537          | 0.909614     | 4h 50m       |</pre>"
            ],
            "text/plain": [
              "| 537          | 0.909614     | 4h 50m       |"
            ]
          },
          "metadata": {
            "tags": []
          }
        },
        {
          "output_type": "display_data",
          "data": {
            "text/html": [
              "<pre>| 538          | 0.91359      | 4h 50m       |</pre>"
            ],
            "text/plain": [
              "| 538          | 0.91359      | 4h 50m       |"
            ]
          },
          "metadata": {
            "tags": []
          }
        },
        {
          "output_type": "display_data",
          "data": {
            "text/html": [
              "<pre>| 539          | 0.931045     | 4h 51m       |</pre>"
            ],
            "text/plain": [
              "| 539          | 0.931045     | 4h 51m       |"
            ]
          },
          "metadata": {
            "tags": []
          }
        },
        {
          "output_type": "display_data",
          "data": {
            "text/html": [
              "<pre>| 540          | 0.93066      | 4h 51m       |</pre>"
            ],
            "text/plain": [
              "| 540          | 0.93066      | 4h 51m       |"
            ]
          },
          "metadata": {
            "tags": []
          }
        },
        {
          "output_type": "display_data",
          "data": {
            "text/html": [
              "<pre>| 541          | 0.904979     | 4h 52m       |</pre>"
            ],
            "text/plain": [
              "| 541          | 0.904979     | 4h 52m       |"
            ]
          },
          "metadata": {
            "tags": []
          }
        },
        {
          "output_type": "display_data",
          "data": {
            "text/html": [
              "<pre>| 542          | 0.912989     | 4h 52m       |</pre>"
            ],
            "text/plain": [
              "| 542          | 0.912989     | 4h 52m       |"
            ]
          },
          "metadata": {
            "tags": []
          }
        },
        {
          "output_type": "display_data",
          "data": {
            "text/html": [
              "<pre>| 543          | 0.890298     | 4h 53m       |</pre>"
            ],
            "text/plain": [
              "| 543          | 0.890298     | 4h 53m       |"
            ]
          },
          "metadata": {
            "tags": []
          }
        },
        {
          "output_type": "display_data",
          "data": {
            "text/html": [
              "<pre>| 544          | 0.911652     | 4h 54m       |</pre>"
            ],
            "text/plain": [
              "| 544          | 0.911652     | 4h 54m       |"
            ]
          },
          "metadata": {
            "tags": []
          }
        },
        {
          "output_type": "display_data",
          "data": {
            "text/html": [
              "<pre>| 545          | 0.881328     | 4h 54m       |</pre>"
            ],
            "text/plain": [
              "| 545          | 0.881328     | 4h 54m       |"
            ]
          },
          "metadata": {
            "tags": []
          }
        },
        {
          "output_type": "display_data",
          "data": {
            "text/html": [
              "<pre>| 546          | 0.905061     | 4h 55m       |</pre>"
            ],
            "text/plain": [
              "| 546          | 0.905061     | 4h 55m       |"
            ]
          },
          "metadata": {
            "tags": []
          }
        },
        {
          "output_type": "display_data",
          "data": {
            "text/html": [
              "<pre>| 547          | 0.919827     | 4h 55m       |</pre>"
            ],
            "text/plain": [
              "| 547          | 0.919827     | 4h 55m       |"
            ]
          },
          "metadata": {
            "tags": []
          }
        },
        {
          "output_type": "display_data",
          "data": {
            "text/html": [
              "<pre>| 548          | 0.946394     | 4h 56m       |</pre>"
            ],
            "text/plain": [
              "| 548          | 0.946394     | 4h 56m       |"
            ]
          },
          "metadata": {
            "tags": []
          }
        },
        {
          "output_type": "display_data",
          "data": {
            "text/html": [
              "<pre>| 549          | 0.94801      | 4h 56m       |</pre>"
            ],
            "text/plain": [
              "| 549          | 0.94801      | 4h 56m       |"
            ]
          },
          "metadata": {
            "tags": []
          }
        },
        {
          "output_type": "display_data",
          "data": {
            "text/html": [
              "<pre>| 550          | 0.963051     | 4h 57m       |</pre>"
            ],
            "text/plain": [
              "| 550          | 0.963051     | 4h 57m       |"
            ]
          },
          "metadata": {
            "tags": []
          }
        },
        {
          "output_type": "display_data",
          "data": {
            "text/html": [
              "<pre>| 551          | 0.991798     | 4h 57m       |</pre>"
            ],
            "text/plain": [
              "| 551          | 0.991798     | 4h 57m       |"
            ]
          },
          "metadata": {
            "tags": []
          }
        },
        {
          "output_type": "display_data",
          "data": {
            "text/html": [
              "<pre>| 552          | 0.97792      | 4h 58m       |</pre>"
            ],
            "text/plain": [
              "| 552          | 0.97792      | 4h 58m       |"
            ]
          },
          "metadata": {
            "tags": []
          }
        },
        {
          "output_type": "display_data",
          "data": {
            "text/html": [
              "<pre>| 553          | 0.992742     | 4h 58m       |</pre>"
            ],
            "text/plain": [
              "| 553          | 0.992742     | 4h 58m       |"
            ]
          },
          "metadata": {
            "tags": []
          }
        },
        {
          "output_type": "display_data",
          "data": {
            "text/html": [
              "<pre>| 554          | 0.951886     | 4h 59m       |</pre>"
            ],
            "text/plain": [
              "| 554          | 0.951886     | 4h 59m       |"
            ]
          },
          "metadata": {
            "tags": []
          }
        },
        {
          "output_type": "display_data",
          "data": {
            "text/html": [
              "<pre>| 555          | 0.977755     | 5h 0m        |</pre>"
            ],
            "text/plain": [
              "| 555          | 0.977755     | 5h 0m        |"
            ]
          },
          "metadata": {
            "tags": []
          }
        },
        {
          "output_type": "display_data",
          "data": {
            "text/html": [
              "<pre>| 556          | 0.958273     | 5h 0m        |</pre>"
            ],
            "text/plain": [
              "| 556          | 0.958273     | 5h 0m        |"
            ]
          },
          "metadata": {
            "tags": []
          }
        },
        {
          "output_type": "display_data",
          "data": {
            "text/html": [
              "<pre>| 557          | 0.962701     | 5h 1m        |</pre>"
            ],
            "text/plain": [
              "| 557          | 0.962701     | 5h 1m        |"
            ]
          },
          "metadata": {
            "tags": []
          }
        },
        {
          "output_type": "display_data",
          "data": {
            "text/html": [
              "<pre>| 558          | 0.96775      | 5h 1m        |</pre>"
            ],
            "text/plain": [
              "| 558          | 0.96775      | 5h 1m        |"
            ]
          },
          "metadata": {
            "tags": []
          }
        },
        {
          "output_type": "display_data",
          "data": {
            "text/html": [
              "<pre>| 559          | 0.936776     | 5h 2m        |</pre>"
            ],
            "text/plain": [
              "| 559          | 0.936776     | 5h 2m        |"
            ]
          },
          "metadata": {
            "tags": []
          }
        },
        {
          "output_type": "display_data",
          "data": {
            "text/html": [
              "<pre>| 560          | 0.935022     | 5h 2m        |</pre>"
            ],
            "text/plain": [
              "| 560          | 0.935022     | 5h 2m        |"
            ]
          },
          "metadata": {
            "tags": []
          }
        },
        {
          "output_type": "display_data",
          "data": {
            "text/html": [
              "<pre>| 561          | 0.944761     | 5h 3m        |</pre>"
            ],
            "text/plain": [
              "| 561          | 0.944761     | 5h 3m        |"
            ]
          },
          "metadata": {
            "tags": []
          }
        },
        {
          "output_type": "display_data",
          "data": {
            "text/html": [
              "<pre>| 562          | 0.991071     | 5h 3m        |</pre>"
            ],
            "text/plain": [
              "| 562          | 0.991071     | 5h 3m        |"
            ]
          },
          "metadata": {
            "tags": []
          }
        },
        {
          "output_type": "display_data",
          "data": {
            "text/html": [
              "<pre>| 563          | 1.00051      | 5h 4m        |</pre>"
            ],
            "text/plain": [
              "| 563          | 1.00051      | 5h 4m        |"
            ]
          },
          "metadata": {
            "tags": []
          }
        },
        {
          "output_type": "display_data",
          "data": {
            "text/html": [
              "<pre>| 564          | 1.0419       | 5h 5m        |</pre>"
            ],
            "text/plain": [
              "| 564          | 1.0419       | 5h 5m        |"
            ]
          },
          "metadata": {
            "tags": []
          }
        },
        {
          "output_type": "display_data",
          "data": {
            "text/html": [
              "<pre>| 565          | 1.00546      | 5h 5m        |</pre>"
            ],
            "text/plain": [
              "| 565          | 1.00546      | 5h 5m        |"
            ]
          },
          "metadata": {
            "tags": []
          }
        },
        {
          "output_type": "display_data",
          "data": {
            "text/html": [
              "<pre>| 566          | 1.0015       | 5h 6m        |</pre>"
            ],
            "text/plain": [
              "| 566          | 1.0015       | 5h 6m        |"
            ]
          },
          "metadata": {
            "tags": []
          }
        },
        {
          "output_type": "display_data",
          "data": {
            "text/html": [
              "<pre>| 567          | 1.01345      | 5h 6m        |</pre>"
            ],
            "text/plain": [
              "| 567          | 1.01345      | 5h 6m        |"
            ]
          },
          "metadata": {
            "tags": []
          }
        },
        {
          "output_type": "display_data",
          "data": {
            "text/html": [
              "<pre>| 568          | 1.00542      | 5h 7m        |</pre>"
            ],
            "text/plain": [
              "| 568          | 1.00542      | 5h 7m        |"
            ]
          },
          "metadata": {
            "tags": []
          }
        },
        {
          "output_type": "display_data",
          "data": {
            "text/html": [
              "<pre>| 569          | 0.965911     | 5h 7m        |</pre>"
            ],
            "text/plain": [
              "| 569          | 0.965911     | 5h 7m        |"
            ]
          },
          "metadata": {
            "tags": []
          }
        },
        {
          "output_type": "display_data",
          "data": {
            "text/html": [
              "<pre>| 570          | 0.952692     | 5h 8m        |</pre>"
            ],
            "text/plain": [
              "| 570          | 0.952692     | 5h 8m        |"
            ]
          },
          "metadata": {
            "tags": []
          }
        },
        {
          "output_type": "display_data",
          "data": {
            "text/html": [
              "<pre>| 571          | 0.959738     | 5h 8m        |</pre>"
            ],
            "text/plain": [
              "| 571          | 0.959738     | 5h 8m        |"
            ]
          },
          "metadata": {
            "tags": []
          }
        },
        {
          "output_type": "display_data",
          "data": {
            "text/html": [
              "<pre>| 572          | 0.970336     | 5h 9m        |</pre>"
            ],
            "text/plain": [
              "| 572          | 0.970336     | 5h 9m        |"
            ]
          },
          "metadata": {
            "tags": []
          }
        },
        {
          "output_type": "display_data",
          "data": {
            "text/html": [
              "<pre>| 573          | 0.932444     | 5h 9m        |</pre>"
            ],
            "text/plain": [
              "| 573          | 0.932444     | 5h 9m        |"
            ]
          },
          "metadata": {
            "tags": []
          }
        },
        {
          "output_type": "display_data",
          "data": {
            "text/html": [
              "<pre>| 574          | 0.915921     | 5h 10m       |</pre>"
            ],
            "text/plain": [
              "| 574          | 0.915921     | 5h 10m       |"
            ]
          },
          "metadata": {
            "tags": []
          }
        },
        {
          "output_type": "display_data",
          "data": {
            "text/html": [
              "<pre>| 575          | 0.916567     | 5h 11m       |</pre>"
            ],
            "text/plain": [
              "| 575          | 0.916567     | 5h 11m       |"
            ]
          },
          "metadata": {
            "tags": []
          }
        },
        {
          "output_type": "display_data",
          "data": {
            "text/html": [
              "<pre>| 576          | 0.913071     | 5h 11m       |</pre>"
            ],
            "text/plain": [
              "| 576          | 0.913071     | 5h 11m       |"
            ]
          },
          "metadata": {
            "tags": []
          }
        },
        {
          "output_type": "display_data",
          "data": {
            "text/html": [
              "<pre>| 577          | 0.906099     | 5h 12m       |</pre>"
            ],
            "text/plain": [
              "| 577          | 0.906099     | 5h 12m       |"
            ]
          },
          "metadata": {
            "tags": []
          }
        },
        {
          "output_type": "display_data",
          "data": {
            "text/html": [
              "<pre>| 578          | 0.88945      | 5h 12m       |</pre>"
            ],
            "text/plain": [
              "| 578          | 0.88945      | 5h 12m       |"
            ]
          },
          "metadata": {
            "tags": []
          }
        },
        {
          "output_type": "display_data",
          "data": {
            "text/html": [
              "<pre>| 579          | 0.892751     | 5h 13m       |</pre>"
            ],
            "text/plain": [
              "| 579          | 0.892751     | 5h 13m       |"
            ]
          },
          "metadata": {
            "tags": []
          }
        },
        {
          "output_type": "display_data",
          "data": {
            "text/html": [
              "<pre>| 580          | 0.875285     | 5h 13m       |</pre>"
            ],
            "text/plain": [
              "| 580          | 0.875285     | 5h 13m       |"
            ]
          },
          "metadata": {
            "tags": []
          }
        },
        {
          "output_type": "display_data",
          "data": {
            "text/html": [
              "<pre>| 581          | 0.854602     | 5h 14m       |</pre>"
            ],
            "text/plain": [
              "| 581          | 0.854602     | 5h 14m       |"
            ]
          },
          "metadata": {
            "tags": []
          }
        },
        {
          "output_type": "display_data",
          "data": {
            "text/html": [
              "<pre>| 582          | 0.876876     | 5h 14m       |</pre>"
            ],
            "text/plain": [
              "| 582          | 0.876876     | 5h 14m       |"
            ]
          },
          "metadata": {
            "tags": []
          }
        },
        {
          "output_type": "display_data",
          "data": {
            "text/html": [
              "<pre>| 583          | 0.858302     | 5h 15m       |</pre>"
            ],
            "text/plain": [
              "| 583          | 0.858302     | 5h 15m       |"
            ]
          },
          "metadata": {
            "tags": []
          }
        },
        {
          "output_type": "display_data",
          "data": {
            "text/html": [
              "<pre>| 584          | 0.892771     | 5h 16m       |</pre>"
            ],
            "text/plain": [
              "| 584          | 0.892771     | 5h 16m       |"
            ]
          },
          "metadata": {
            "tags": []
          }
        },
        {
          "output_type": "display_data",
          "data": {
            "text/html": [
              "<pre>| 585          | 0.881684     | 5h 16m       |</pre>"
            ],
            "text/plain": [
              "| 585          | 0.881684     | 5h 16m       |"
            ]
          },
          "metadata": {
            "tags": []
          }
        },
        {
          "output_type": "display_data",
          "data": {
            "text/html": [
              "<pre>| 586          | 0.903143     | 5h 17m       |</pre>"
            ],
            "text/plain": [
              "| 586          | 0.903143     | 5h 17m       |"
            ]
          },
          "metadata": {
            "tags": []
          }
        },
        {
          "output_type": "display_data",
          "data": {
            "text/html": [
              "<pre>| 587          | 0.879877     | 5h 17m       |</pre>"
            ],
            "text/plain": [
              "| 587          | 0.879877     | 5h 17m       |"
            ]
          },
          "metadata": {
            "tags": []
          }
        },
        {
          "output_type": "display_data",
          "data": {
            "text/html": [
              "<pre>| 588          | 0.851824     | 5h 18m       |</pre>"
            ],
            "text/plain": [
              "| 588          | 0.851824     | 5h 18m       |"
            ]
          },
          "metadata": {
            "tags": []
          }
        },
        {
          "output_type": "display_data",
          "data": {
            "text/html": [
              "<pre>| 589          | 0.852217     | 5h 18m       |</pre>"
            ],
            "text/plain": [
              "| 589          | 0.852217     | 5h 18m       |"
            ]
          },
          "metadata": {
            "tags": []
          }
        },
        {
          "output_type": "display_data",
          "data": {
            "text/html": [
              "<pre>| 590          | 0.843123     | 5h 19m       |</pre>"
            ],
            "text/plain": [
              "| 590          | 0.843123     | 5h 19m       |"
            ]
          },
          "metadata": {
            "tags": []
          }
        },
        {
          "output_type": "display_data",
          "data": {
            "text/html": [
              "<pre>| 591          | 0.863431     | 5h 19m       |</pre>"
            ],
            "text/plain": [
              "| 591          | 0.863431     | 5h 19m       |"
            ]
          },
          "metadata": {
            "tags": []
          }
        },
        {
          "output_type": "display_data",
          "data": {
            "text/html": [
              "<pre>| 592          | 0.867437     | 5h 20m       |</pre>"
            ],
            "text/plain": [
              "| 592          | 0.867437     | 5h 20m       |"
            ]
          },
          "metadata": {
            "tags": []
          }
        },
        {
          "output_type": "display_data",
          "data": {
            "text/html": [
              "<pre>| 593          | 0.856738     | 5h 21m       |</pre>"
            ],
            "text/plain": [
              "| 593          | 0.856738     | 5h 21m       |"
            ]
          },
          "metadata": {
            "tags": []
          }
        },
        {
          "output_type": "display_data",
          "data": {
            "text/html": [
              "<pre>| 594          | 0.85206      | 5h 21m       |</pre>"
            ],
            "text/plain": [
              "| 594          | 0.85206      | 5h 21m       |"
            ]
          },
          "metadata": {
            "tags": []
          }
        },
        {
          "output_type": "display_data",
          "data": {
            "text/html": [
              "<pre>| 595          | 0.881499     | 5h 22m       |</pre>"
            ],
            "text/plain": [
              "| 595          | 0.881499     | 5h 22m       |"
            ]
          },
          "metadata": {
            "tags": []
          }
        },
        {
          "output_type": "display_data",
          "data": {
            "text/html": [
              "<pre>| 596          | 0.876668     | 5h 22m       |</pre>"
            ],
            "text/plain": [
              "| 596          | 0.876668     | 5h 22m       |"
            ]
          },
          "metadata": {
            "tags": []
          }
        },
        {
          "output_type": "display_data",
          "data": {
            "text/html": [
              "<pre>| 597          | 0.878892     | 5h 23m       |</pre>"
            ],
            "text/plain": [
              "| 597          | 0.878892     | 5h 23m       |"
            ]
          },
          "metadata": {
            "tags": []
          }
        },
        {
          "output_type": "display_data",
          "data": {
            "text/html": [
              "<pre>| 598          | 0.868148     | 5h 23m       |</pre>"
            ],
            "text/plain": [
              "| 598          | 0.868148     | 5h 23m       |"
            ]
          },
          "metadata": {
            "tags": []
          }
        },
        {
          "output_type": "display_data",
          "data": {
            "text/html": [
              "<pre>| 599          | 0.878434     | 5h 24m       |</pre>"
            ],
            "text/plain": [
              "| 599          | 0.878434     | 5h 24m       |"
            ]
          },
          "metadata": {
            "tags": []
          }
        },
        {
          "output_type": "display_data",
          "data": {
            "text/html": [
              "<pre>| 600          | 0.875049     | 5h 24m       |</pre>"
            ],
            "text/plain": [
              "| 600          | 0.875049     | 5h 24m       |"
            ]
          },
          "metadata": {
            "tags": []
          }
        },
        {
          "output_type": "display_data",
          "data": {
            "text/html": [
              "<pre>| 601          | 0.866436     | 5h 25m       |</pre>"
            ],
            "text/plain": [
              "| 601          | 0.866436     | 5h 25m       |"
            ]
          },
          "metadata": {
            "tags": []
          }
        },
        {
          "output_type": "display_data",
          "data": {
            "text/html": [
              "<pre>| 602          | 0.875736     | 5h 25m       |</pre>"
            ],
            "text/plain": [
              "| 602          | 0.875736     | 5h 25m       |"
            ]
          },
          "metadata": {
            "tags": []
          }
        },
        {
          "output_type": "display_data",
          "data": {
            "text/html": [
              "<pre>| 603          | 0.89631      | 5h 26m       |</pre>"
            ],
            "text/plain": [
              "| 603          | 0.89631      | 5h 26m       |"
            ]
          },
          "metadata": {
            "tags": []
          }
        },
        {
          "output_type": "display_data",
          "data": {
            "text/html": [
              "<pre>| 604          | 0.905292     | 5h 27m       |</pre>"
            ],
            "text/plain": [
              "| 604          | 0.905292     | 5h 27m       |"
            ]
          },
          "metadata": {
            "tags": []
          }
        },
        {
          "output_type": "display_data",
          "data": {
            "text/html": [
              "<pre>| 605          | 0.916283     | 5h 27m       |</pre>"
            ],
            "text/plain": [
              "| 605          | 0.916283     | 5h 27m       |"
            ]
          },
          "metadata": {
            "tags": []
          }
        },
        {
          "output_type": "display_data",
          "data": {
            "text/html": [
              "<pre>| 606          | 0.911209     | 5h 28m       |</pre>"
            ],
            "text/plain": [
              "| 606          | 0.911209     | 5h 28m       |"
            ]
          },
          "metadata": {
            "tags": []
          }
        },
        {
          "output_type": "display_data",
          "data": {
            "text/html": [
              "<pre>| 607          | 0.906293     | 5h 28m       |</pre>"
            ],
            "text/plain": [
              "| 607          | 0.906293     | 5h 28m       |"
            ]
          },
          "metadata": {
            "tags": []
          }
        },
        {
          "output_type": "display_data",
          "data": {
            "text/html": [
              "<pre>| 608          | 0.909405     | 5h 29m       |</pre>"
            ],
            "text/plain": [
              "| 608          | 0.909405     | 5h 29m       |"
            ]
          },
          "metadata": {
            "tags": []
          }
        },
        {
          "output_type": "display_data",
          "data": {
            "text/html": [
              "<pre>| 609          | 0.90749      | 5h 29m       |</pre>"
            ],
            "text/plain": [
              "| 609          | 0.90749      | 5h 29m       |"
            ]
          },
          "metadata": {
            "tags": []
          }
        },
        {
          "output_type": "display_data",
          "data": {
            "text/html": [
              "<pre>| 610          | 0.91502      | 5h 30m       |</pre>"
            ],
            "text/plain": [
              "| 610          | 0.91502      | 5h 30m       |"
            ]
          },
          "metadata": {
            "tags": []
          }
        },
        {
          "output_type": "display_data",
          "data": {
            "text/html": [
              "<pre>| 611          | 0.903081     | 5h 30m       |</pre>"
            ],
            "text/plain": [
              "| 611          | 0.903081     | 5h 30m       |"
            ]
          },
          "metadata": {
            "tags": []
          }
        },
        {
          "output_type": "display_data",
          "data": {
            "text/html": [
              "<pre>| 612          | 0.886263     | 5h 31m       |</pre>"
            ],
            "text/plain": [
              "| 612          | 0.886263     | 5h 31m       |"
            ]
          },
          "metadata": {
            "tags": []
          }
        },
        {
          "output_type": "display_data",
          "data": {
            "text/html": [
              "<pre>| 613          | 0.880965     | 5h 32m       |</pre>"
            ],
            "text/plain": [
              "| 613          | 0.880965     | 5h 32m       |"
            ]
          },
          "metadata": {
            "tags": []
          }
        },
        {
          "output_type": "display_data",
          "data": {
            "text/html": [
              "<pre>| 614          | 0.893061     | 5h 32m       |</pre>"
            ],
            "text/plain": [
              "| 614          | 0.893061     | 5h 32m       |"
            ]
          },
          "metadata": {
            "tags": []
          }
        },
        {
          "output_type": "display_data",
          "data": {
            "text/html": [
              "<pre>| 615          | 0.87212      | 5h 33m       |</pre>"
            ],
            "text/plain": [
              "| 615          | 0.87212      | 5h 33m       |"
            ]
          },
          "metadata": {
            "tags": []
          }
        },
        {
          "output_type": "display_data",
          "data": {
            "text/html": [
              "<pre>| 616          | 0.847773     | 5h 33m       |</pre>"
            ],
            "text/plain": [
              "| 616          | 0.847773     | 5h 33m       |"
            ]
          },
          "metadata": {
            "tags": []
          }
        },
        {
          "output_type": "display_data",
          "data": {
            "text/html": [
              "<pre>| 617          | 0.846748     | 5h 34m       |</pre>"
            ],
            "text/plain": [
              "| 617          | 0.846748     | 5h 34m       |"
            ]
          },
          "metadata": {
            "tags": []
          }
        },
        {
          "output_type": "display_data",
          "data": {
            "text/html": [
              "<pre>| 618          | 0.847757     | 5h 34m       |</pre>"
            ],
            "text/plain": [
              "| 618          | 0.847757     | 5h 34m       |"
            ]
          },
          "metadata": {
            "tags": []
          }
        },
        {
          "output_type": "display_data",
          "data": {
            "text/html": [
              "<pre>| 619          | 0.838713     | 5h 35m       |</pre>"
            ],
            "text/plain": [
              "| 619          | 0.838713     | 5h 35m       |"
            ]
          },
          "metadata": {
            "tags": []
          }
        },
        {
          "output_type": "display_data",
          "data": {
            "text/html": [
              "<pre>| 620          | 0.843074     | 5h 35m       |</pre>"
            ],
            "text/plain": [
              "| 620          | 0.843074     | 5h 35m       |"
            ]
          },
          "metadata": {
            "tags": []
          }
        },
        {
          "output_type": "display_data",
          "data": {
            "text/html": [
              "<pre>| 621          | 0.835813     | 5h 36m       |</pre>"
            ],
            "text/plain": [
              "| 621          | 0.835813     | 5h 36m       |"
            ]
          },
          "metadata": {
            "tags": []
          }
        },
        {
          "output_type": "display_data",
          "data": {
            "text/html": [
              "<pre>| 622          | 0.836917     | 5h 36m       |</pre>"
            ],
            "text/plain": [
              "| 622          | 0.836917     | 5h 36m       |"
            ]
          },
          "metadata": {
            "tags": []
          }
        },
        {
          "output_type": "display_data",
          "data": {
            "text/html": [
              "<pre>| 623          | 0.862359     | 5h 37m       |</pre>"
            ],
            "text/plain": [
              "| 623          | 0.862359     | 5h 37m       |"
            ]
          },
          "metadata": {
            "tags": []
          }
        },
        {
          "output_type": "display_data",
          "data": {
            "text/html": [
              "<pre>| 624          | 0.849113     | 5h 38m       |</pre>"
            ],
            "text/plain": [
              "| 624          | 0.849113     | 5h 38m       |"
            ]
          },
          "metadata": {
            "tags": []
          }
        },
        {
          "output_type": "display_data",
          "data": {
            "text/html": [
              "<pre>| 625          | 0.85524      | 5h 38m       |</pre>"
            ],
            "text/plain": [
              "| 625          | 0.85524      | 5h 38m       |"
            ]
          },
          "metadata": {
            "tags": []
          }
        },
        {
          "output_type": "display_data",
          "data": {
            "text/html": [
              "<pre>| 626          | 0.842828     | 5h 39m       |</pre>"
            ],
            "text/plain": [
              "| 626          | 0.842828     | 5h 39m       |"
            ]
          },
          "metadata": {
            "tags": []
          }
        },
        {
          "output_type": "display_data",
          "data": {
            "text/html": [
              "<pre>| 627          | 0.846581     | 5h 39m       |</pre>"
            ],
            "text/plain": [
              "| 627          | 0.846581     | 5h 39m       |"
            ]
          },
          "metadata": {
            "tags": []
          }
        },
        {
          "output_type": "display_data",
          "data": {
            "text/html": [
              "<pre>| 628          | 0.839482     | 5h 40m       |</pre>"
            ],
            "text/plain": [
              "| 628          | 0.839482     | 5h 40m       |"
            ]
          },
          "metadata": {
            "tags": []
          }
        },
        {
          "output_type": "display_data",
          "data": {
            "text/html": [
              "<pre>| 629          | 0.824834     | 5h 40m       |</pre>"
            ],
            "text/plain": [
              "| 629          | 0.824834     | 5h 40m       |"
            ]
          },
          "metadata": {
            "tags": []
          }
        },
        {
          "output_type": "display_data",
          "data": {
            "text/html": [
              "<pre>| 630          | 0.845002     | 5h 41m       |</pre>"
            ],
            "text/plain": [
              "| 630          | 0.845002     | 5h 41m       |"
            ]
          },
          "metadata": {
            "tags": []
          }
        },
        {
          "output_type": "display_data",
          "data": {
            "text/html": [
              "<pre>| 631          | 0.868775     | 5h 41m       |</pre>"
            ],
            "text/plain": [
              "| 631          | 0.868775     | 5h 41m       |"
            ]
          },
          "metadata": {
            "tags": []
          }
        },
        {
          "output_type": "display_data",
          "data": {
            "text/html": [
              "<pre>| 632          | 0.86797      | 5h 42m       |</pre>"
            ],
            "text/plain": [
              "| 632          | 0.86797      | 5h 42m       |"
            ]
          },
          "metadata": {
            "tags": []
          }
        },
        {
          "output_type": "display_data",
          "data": {
            "text/html": [
              "<pre>| 633          | 0.84155      | 5h 43m       |</pre>"
            ],
            "text/plain": [
              "| 633          | 0.84155      | 5h 43m       |"
            ]
          },
          "metadata": {
            "tags": []
          }
        },
        {
          "output_type": "display_data",
          "data": {
            "text/html": [
              "<pre>| 634          | 0.804397     | 5h 43m       |</pre>"
            ],
            "text/plain": [
              "| 634          | 0.804397     | 5h 43m       |"
            ]
          },
          "metadata": {
            "tags": []
          }
        },
        {
          "output_type": "display_data",
          "data": {
            "text/html": [
              "<pre>| 635          | 0.82294      | 5h 44m       |</pre>"
            ],
            "text/plain": [
              "| 635          | 0.82294      | 5h 44m       |"
            ]
          },
          "metadata": {
            "tags": []
          }
        },
        {
          "output_type": "display_data",
          "data": {
            "text/html": [
              "<pre>| 636          | 0.820417     | 5h 44m       |</pre>"
            ],
            "text/plain": [
              "| 636          | 0.820417     | 5h 44m       |"
            ]
          },
          "metadata": {
            "tags": []
          }
        },
        {
          "output_type": "display_data",
          "data": {
            "text/html": [
              "<pre>| 637          | 0.848383     | 5h 45m       |</pre>"
            ],
            "text/plain": [
              "| 637          | 0.848383     | 5h 45m       |"
            ]
          },
          "metadata": {
            "tags": []
          }
        },
        {
          "output_type": "display_data",
          "data": {
            "text/html": [
              "<pre>| 638          | 0.830352     | 5h 45m       |</pre>"
            ],
            "text/plain": [
              "| 638          | 0.830352     | 5h 45m       |"
            ]
          },
          "metadata": {
            "tags": []
          }
        },
        {
          "output_type": "display_data",
          "data": {
            "text/html": [
              "<pre>| 639          | 0.822971     | 5h 46m       |</pre>"
            ],
            "text/plain": [
              "| 639          | 0.822971     | 5h 46m       |"
            ]
          },
          "metadata": {
            "tags": []
          }
        },
        {
          "output_type": "display_data",
          "data": {
            "text/html": [
              "<pre>| 640          | 0.805906     | 5h 46m       |</pre>"
            ],
            "text/plain": [
              "| 640          | 0.805906     | 5h 46m       |"
            ]
          },
          "metadata": {
            "tags": []
          }
        },
        {
          "output_type": "display_data",
          "data": {
            "text/html": [
              "<pre>| 641          | 0.801106     | 5h 47m       |</pre>"
            ],
            "text/plain": [
              "| 641          | 0.801106     | 5h 47m       |"
            ]
          },
          "metadata": {
            "tags": []
          }
        },
        {
          "output_type": "display_data",
          "data": {
            "text/html": [
              "<pre>| 642          | 0.791759     | 5h 48m       |</pre>"
            ],
            "text/plain": [
              "| 642          | 0.791759     | 5h 48m       |"
            ]
          },
          "metadata": {
            "tags": []
          }
        },
        {
          "output_type": "display_data",
          "data": {
            "text/html": [
              "<pre>| 643          | 0.812863     | 5h 48m       |</pre>"
            ],
            "text/plain": [
              "| 643          | 0.812863     | 5h 48m       |"
            ]
          },
          "metadata": {
            "tags": []
          }
        },
        {
          "output_type": "display_data",
          "data": {
            "text/html": [
              "<pre>| 644          | 0.837918     | 5h 49m       |</pre>"
            ],
            "text/plain": [
              "| 644          | 0.837918     | 5h 49m       |"
            ]
          },
          "metadata": {
            "tags": []
          }
        },
        {
          "output_type": "display_data",
          "data": {
            "text/html": [
              "<pre>| 645          | 0.81857      | 5h 49m       |</pre>"
            ],
            "text/plain": [
              "| 645          | 0.81857      | 5h 49m       |"
            ]
          },
          "metadata": {
            "tags": []
          }
        },
        {
          "output_type": "display_data",
          "data": {
            "text/html": [
              "<pre>| 646          | 0.803523     | 5h 50m       |</pre>"
            ],
            "text/plain": [
              "| 646          | 0.803523     | 5h 50m       |"
            ]
          },
          "metadata": {
            "tags": []
          }
        },
        {
          "output_type": "display_data",
          "data": {
            "text/html": [
              "<pre>| 647          | 0.843305     | 5h 50m       |</pre>"
            ],
            "text/plain": [
              "| 647          | 0.843305     | 5h 50m       |"
            ]
          },
          "metadata": {
            "tags": []
          }
        },
        {
          "output_type": "display_data",
          "data": {
            "text/html": [
              "<pre>| 648          | 0.85594      | 5h 51m       |</pre>"
            ],
            "text/plain": [
              "| 648          | 0.85594      | 5h 51m       |"
            ]
          },
          "metadata": {
            "tags": []
          }
        },
        {
          "output_type": "display_data",
          "data": {
            "text/html": [
              "<pre>| 649          | 0.848501     | 5h 51m       |</pre>"
            ],
            "text/plain": [
              "| 649          | 0.848501     | 5h 51m       |"
            ]
          },
          "metadata": {
            "tags": []
          }
        },
        {
          "output_type": "display_data",
          "data": {
            "text/html": [
              "<pre>| 650          | 0.878647     | 5h 52m       |</pre>"
            ],
            "text/plain": [
              "| 650          | 0.878647     | 5h 52m       |"
            ]
          },
          "metadata": {
            "tags": []
          }
        },
        {
          "output_type": "display_data",
          "data": {
            "text/html": [
              "<pre>| 651          | 0.860981     | 5h 52m       |</pre>"
            ],
            "text/plain": [
              "| 651          | 0.860981     | 5h 52m       |"
            ]
          },
          "metadata": {
            "tags": []
          }
        },
        {
          "output_type": "display_data",
          "data": {
            "text/html": [
              "<pre>| 652          | 0.864082     | 5h 53m       |</pre>"
            ],
            "text/plain": [
              "| 652          | 0.864082     | 5h 53m       |"
            ]
          },
          "metadata": {
            "tags": []
          }
        },
        {
          "output_type": "display_data",
          "data": {
            "text/html": [
              "<pre>| 653          | 0.892935     | 5h 54m       |</pre>"
            ],
            "text/plain": [
              "| 653          | 0.892935     | 5h 54m       |"
            ]
          },
          "metadata": {
            "tags": []
          }
        },
        {
          "output_type": "display_data",
          "data": {
            "text/html": [
              "<pre>| 654          | 0.914276     | 5h 54m       |</pre>"
            ],
            "text/plain": [
              "| 654          | 0.914276     | 5h 54m       |"
            ]
          },
          "metadata": {
            "tags": []
          }
        },
        {
          "output_type": "display_data",
          "data": {
            "text/html": [
              "<pre>| 655          | 0.927725     | 5h 55m       |</pre>"
            ],
            "text/plain": [
              "| 655          | 0.927725     | 5h 55m       |"
            ]
          },
          "metadata": {
            "tags": []
          }
        },
        {
          "output_type": "display_data",
          "data": {
            "text/html": [
              "<pre>| 656          | 0.906037     | 5h 55m       |</pre>"
            ],
            "text/plain": [
              "| 656          | 0.906037     | 5h 55m       |"
            ]
          },
          "metadata": {
            "tags": []
          }
        },
        {
          "output_type": "display_data",
          "data": {
            "text/html": [
              "<pre>| 657          | 0.906489     | 5h 56m       |</pre>"
            ],
            "text/plain": [
              "| 657          | 0.906489     | 5h 56m       |"
            ]
          },
          "metadata": {
            "tags": []
          }
        },
        {
          "output_type": "display_data",
          "data": {
            "text/html": [
              "<pre>| 658          | 0.886231     | 5h 56m       |</pre>"
            ],
            "text/plain": [
              "| 658          | 0.886231     | 5h 56m       |"
            ]
          },
          "metadata": {
            "tags": []
          }
        },
        {
          "output_type": "display_data",
          "data": {
            "text/html": [
              "<pre>| 659          | 0.906898     | 5h 57m       |</pre>"
            ],
            "text/plain": [
              "| 659          | 0.906898     | 5h 57m       |"
            ]
          },
          "metadata": {
            "tags": []
          }
        },
        {
          "output_type": "display_data",
          "data": {
            "text/html": [
              "<pre>| 660          | 0.872462     | 5h 57m       |</pre>"
            ],
            "text/plain": [
              "| 660          | 0.872462     | 5h 57m       |"
            ]
          },
          "metadata": {
            "tags": []
          }
        },
        {
          "output_type": "display_data",
          "data": {
            "text/html": [
              "<pre>| 661          | 0.877696     | 5h 58m       |</pre>"
            ],
            "text/plain": [
              "| 661          | 0.877696     | 5h 58m       |"
            ]
          },
          "metadata": {
            "tags": []
          }
        },
        {
          "output_type": "display_data",
          "data": {
            "text/html": [
              "<pre>| 662          | 0.900313     | 5h 59m       |</pre>"
            ],
            "text/plain": [
              "| 662          | 0.900313     | 5h 59m       |"
            ]
          },
          "metadata": {
            "tags": []
          }
        },
        {
          "output_type": "display_data",
          "data": {
            "text/html": [
              "<pre>| 663          | 0.881713     | 5h 59m       |</pre>"
            ],
            "text/plain": [
              "| 663          | 0.881713     | 5h 59m       |"
            ]
          },
          "metadata": {
            "tags": []
          }
        },
        {
          "output_type": "display_data",
          "data": {
            "text/html": [
              "<pre>| 664          | 0.87975      | 6h 0m        |</pre>"
            ],
            "text/plain": [
              "| 664          | 0.87975      | 6h 0m        |"
            ]
          },
          "metadata": {
            "tags": []
          }
        },
        {
          "output_type": "display_data",
          "data": {
            "text/html": [
              "<pre>| 665          | 0.885699     | 6h 0m        |</pre>"
            ],
            "text/plain": [
              "| 665          | 0.885699     | 6h 0m        |"
            ]
          },
          "metadata": {
            "tags": []
          }
        },
        {
          "output_type": "display_data",
          "data": {
            "text/html": [
              "<pre>| 666          | 0.89708      | 6h 1m        |</pre>"
            ],
            "text/plain": [
              "| 666          | 0.89708      | 6h 1m        |"
            ]
          },
          "metadata": {
            "tags": []
          }
        },
        {
          "output_type": "display_data",
          "data": {
            "text/html": [
              "<pre>| 667          | 0.861788     | 6h 1m        |</pre>"
            ],
            "text/plain": [
              "| 667          | 0.861788     | 6h 1m        |"
            ]
          },
          "metadata": {
            "tags": []
          }
        },
        {
          "output_type": "display_data",
          "data": {
            "text/html": [
              "<pre>| 668          | 0.851013     | 6h 2m        |</pre>"
            ],
            "text/plain": [
              "| 668          | 0.851013     | 6h 2m        |"
            ]
          },
          "metadata": {
            "tags": []
          }
        },
        {
          "output_type": "display_data",
          "data": {
            "text/html": [
              "<pre>| 669          | 0.847659     | 6h 2m        |</pre>"
            ],
            "text/plain": [
              "| 669          | 0.847659     | 6h 2m        |"
            ]
          },
          "metadata": {
            "tags": []
          }
        },
        {
          "output_type": "display_data",
          "data": {
            "text/html": [
              "<pre>| 670          | 0.854996     | 6h 3m        |</pre>"
            ],
            "text/plain": [
              "| 670          | 0.854996     | 6h 3m        |"
            ]
          },
          "metadata": {
            "tags": []
          }
        },
        {
          "output_type": "display_data",
          "data": {
            "text/html": [
              "<pre>| 671          | 0.852557     | 6h 4m        |</pre>"
            ],
            "text/plain": [
              "| 671          | 0.852557     | 6h 4m        |"
            ]
          },
          "metadata": {
            "tags": []
          }
        },
        {
          "output_type": "display_data",
          "data": {
            "text/html": [
              "<pre>| 672          | 0.84643      | 6h 4m        |</pre>"
            ],
            "text/plain": [
              "| 672          | 0.84643      | 6h 4m        |"
            ]
          },
          "metadata": {
            "tags": []
          }
        },
        {
          "output_type": "display_data",
          "data": {
            "text/html": [
              "<pre>| 673          | 0.830868     | 6h 5m        |</pre>"
            ],
            "text/plain": [
              "| 673          | 0.830868     | 6h 5m        |"
            ]
          },
          "metadata": {
            "tags": []
          }
        },
        {
          "output_type": "display_data",
          "data": {
            "text/html": [
              "<pre>| 674          | 0.845179     | 6h 5m        |</pre>"
            ],
            "text/plain": [
              "| 674          | 0.845179     | 6h 5m        |"
            ]
          },
          "metadata": {
            "tags": []
          }
        },
        {
          "output_type": "display_data",
          "data": {
            "text/html": [
              "<pre>| 675          | 0.856597     | 6h 6m        |</pre>"
            ],
            "text/plain": [
              "| 675          | 0.856597     | 6h 6m        |"
            ]
          },
          "metadata": {
            "tags": []
          }
        },
        {
          "output_type": "display_data",
          "data": {
            "text/html": [
              "<pre>| 676          | 0.827204     | 6h 6m        |</pre>"
            ],
            "text/plain": [
              "| 676          | 0.827204     | 6h 6m        |"
            ]
          },
          "metadata": {
            "tags": []
          }
        },
        {
          "output_type": "display_data",
          "data": {
            "text/html": [
              "<pre>| 677          | 0.809703     | 6h 7m        |</pre>"
            ],
            "text/plain": [
              "| 677          | 0.809703     | 6h 7m        |"
            ]
          },
          "metadata": {
            "tags": []
          }
        },
        {
          "output_type": "display_data",
          "data": {
            "text/html": [
              "<pre>| 678          | 0.84196      | 6h 7m        |</pre>"
            ],
            "text/plain": [
              "| 678          | 0.84196      | 6h 7m        |"
            ]
          },
          "metadata": {
            "tags": []
          }
        },
        {
          "output_type": "display_data",
          "data": {
            "text/html": [
              "<pre>| 679          | 0.839077     | 6h 8m        |</pre>"
            ],
            "text/plain": [
              "| 679          | 0.839077     | 6h 8m        |"
            ]
          },
          "metadata": {
            "tags": []
          }
        },
        {
          "output_type": "display_data",
          "data": {
            "text/html": [
              "<pre>| 680          | 0.863725     | 6h 9m        |</pre>"
            ],
            "text/plain": [
              "| 680          | 0.863725     | 6h 9m        |"
            ]
          },
          "metadata": {
            "tags": []
          }
        },
        {
          "output_type": "display_data",
          "data": {
            "text/html": [
              "<pre>| 681          | 0.849426     | 6h 9m        |</pre>"
            ],
            "text/plain": [
              "| 681          | 0.849426     | 6h 9m        |"
            ]
          },
          "metadata": {
            "tags": []
          }
        },
        {
          "output_type": "display_data",
          "data": {
            "text/html": [
              "<pre>| 682          | 0.836529     | 6h 10m       |</pre>"
            ],
            "text/plain": [
              "| 682          | 0.836529     | 6h 10m       |"
            ]
          },
          "metadata": {
            "tags": []
          }
        },
        {
          "output_type": "display_data",
          "data": {
            "text/html": [
              "<pre>| 683          | 0.831178     | 6h 10m       |</pre>"
            ],
            "text/plain": [
              "| 683          | 0.831178     | 6h 10m       |"
            ]
          },
          "metadata": {
            "tags": []
          }
        },
        {
          "output_type": "display_data",
          "data": {
            "text/html": [
              "<pre>| 684          | 0.831473     | 6h 11m       |</pre>"
            ],
            "text/plain": [
              "| 684          | 0.831473     | 6h 11m       |"
            ]
          },
          "metadata": {
            "tags": []
          }
        },
        {
          "output_type": "display_data",
          "data": {
            "text/html": [
              "<pre>| 685          | 0.868192     | 6h 11m       |</pre>"
            ],
            "text/plain": [
              "| 685          | 0.868192     | 6h 11m       |"
            ]
          },
          "metadata": {
            "tags": []
          }
        },
        {
          "output_type": "display_data",
          "data": {
            "text/html": [
              "<pre>| 686          | 0.859858     | 6h 12m       |</pre>"
            ],
            "text/plain": [
              "| 686          | 0.859858     | 6h 12m       |"
            ]
          },
          "metadata": {
            "tags": []
          }
        },
        {
          "output_type": "display_data",
          "data": {
            "text/html": [
              "<pre>| 687          | 0.894841     | 6h 12m       |</pre>"
            ],
            "text/plain": [
              "| 687          | 0.894841     | 6h 12m       |"
            ]
          },
          "metadata": {
            "tags": []
          }
        },
        {
          "output_type": "display_data",
          "data": {
            "text/html": [
              "<pre>| 688          | 0.903462     | 6h 13m       |</pre>"
            ],
            "text/plain": [
              "| 688          | 0.903462     | 6h 13m       |"
            ]
          },
          "metadata": {
            "tags": []
          }
        },
        {
          "output_type": "display_data",
          "data": {
            "text/html": [
              "<pre>| 689          | 0.883875     | 6h 14m       |</pre>"
            ],
            "text/plain": [
              "| 689          | 0.883875     | 6h 14m       |"
            ]
          },
          "metadata": {
            "tags": []
          }
        },
        {
          "output_type": "display_data",
          "data": {
            "text/html": [
              "<pre>| 690          | 0.85678      | 6h 14m       |</pre>"
            ],
            "text/plain": [
              "| 690          | 0.85678      | 6h 14m       |"
            ]
          },
          "metadata": {
            "tags": []
          }
        },
        {
          "output_type": "display_data",
          "data": {
            "text/html": [
              "<pre>| 691          | 0.840066     | 6h 15m       |</pre>"
            ],
            "text/plain": [
              "| 691          | 0.840066     | 6h 15m       |"
            ]
          },
          "metadata": {
            "tags": []
          }
        },
        {
          "output_type": "display_data",
          "data": {
            "text/html": [
              "<pre>| 692          | 0.84818      | 6h 15m       |</pre>"
            ],
            "text/plain": [
              "| 692          | 0.84818      | 6h 15m       |"
            ]
          },
          "metadata": {
            "tags": []
          }
        },
        {
          "output_type": "display_data",
          "data": {
            "text/html": [
              "<pre>| 693          | 0.838234     | 6h 16m       |</pre>"
            ],
            "text/plain": [
              "| 693          | 0.838234     | 6h 16m       |"
            ]
          },
          "metadata": {
            "tags": []
          }
        },
        {
          "output_type": "display_data",
          "data": {
            "text/html": [
              "<pre>| 694          | 0.826741     | 6h 16m       |</pre>"
            ],
            "text/plain": [
              "| 694          | 0.826741     | 6h 16m       |"
            ]
          },
          "metadata": {
            "tags": []
          }
        },
        {
          "output_type": "display_data",
          "data": {
            "text/html": [
              "<pre>| 695          | 0.836397     | 6h 17m       |</pre>"
            ],
            "text/plain": [
              "| 695          | 0.836397     | 6h 17m       |"
            ]
          },
          "metadata": {
            "tags": []
          }
        },
        {
          "output_type": "display_data",
          "data": {
            "text/html": [
              "<pre>| 696          | 0.87207      | 6h 17m       |</pre>"
            ],
            "text/plain": [
              "| 696          | 0.87207      | 6h 17m       |"
            ]
          },
          "metadata": {
            "tags": []
          }
        },
        {
          "output_type": "display_data",
          "data": {
            "text/html": [
              "<pre>| 697          | 0.850737     | 6h 18m       |</pre>"
            ],
            "text/plain": [
              "| 697          | 0.850737     | 6h 18m       |"
            ]
          },
          "metadata": {
            "tags": []
          }
        },
        {
          "output_type": "display_data",
          "data": {
            "text/html": [
              "<pre>| 698          | 0.841597     | 6h 18m       |</pre>"
            ],
            "text/plain": [
              "| 698          | 0.841597     | 6h 18m       |"
            ]
          },
          "metadata": {
            "tags": []
          }
        },
        {
          "output_type": "display_data",
          "data": {
            "text/html": [
              "<pre>| 699          | 0.83776      | 6h 19m       |</pre>"
            ],
            "text/plain": [
              "| 699          | 0.83776      | 6h 19m       |"
            ]
          },
          "metadata": {
            "tags": []
          }
        },
        {
          "output_type": "display_data",
          "data": {
            "text/html": [
              "<pre>| 700          | 0.829272     | 6h 20m       |</pre>"
            ],
            "text/plain": [
              "| 700          | 0.829272     | 6h 20m       |"
            ]
          },
          "metadata": {
            "tags": []
          }
        },
        {
          "output_type": "display_data",
          "data": {
            "text/html": [
              "<pre>| 701          | 0.873733     | 6h 20m       |</pre>"
            ],
            "text/plain": [
              "| 701          | 0.873733     | 6h 20m       |"
            ]
          },
          "metadata": {
            "tags": []
          }
        },
        {
          "output_type": "display_data",
          "data": {
            "text/html": [
              "<pre>| 702          | 0.853622     | 6h 21m       |</pre>"
            ],
            "text/plain": [
              "| 702          | 0.853622     | 6h 21m       |"
            ]
          },
          "metadata": {
            "tags": []
          }
        },
        {
          "output_type": "display_data",
          "data": {
            "text/html": [
              "<pre>| 703          | 0.846776     | 6h 21m       |</pre>"
            ],
            "text/plain": [
              "| 703          | 0.846776     | 6h 21m       |"
            ]
          },
          "metadata": {
            "tags": []
          }
        },
        {
          "output_type": "display_data",
          "data": {
            "text/html": [
              "<pre>| 704          | 0.872212     | 6h 22m       |</pre>"
            ],
            "text/plain": [
              "| 704          | 0.872212     | 6h 22m       |"
            ]
          },
          "metadata": {
            "tags": []
          }
        },
        {
          "output_type": "display_data",
          "data": {
            "text/html": [
              "<pre>| 705          | 0.853504     | 6h 22m       |</pre>"
            ],
            "text/plain": [
              "| 705          | 0.853504     | 6h 22m       |"
            ]
          },
          "metadata": {
            "tags": []
          }
        },
        {
          "output_type": "display_data",
          "data": {
            "text/html": [
              "<pre>| 706          | 0.835383     | 6h 23m       |</pre>"
            ],
            "text/plain": [
              "| 706          | 0.835383     | 6h 23m       |"
            ]
          },
          "metadata": {
            "tags": []
          }
        },
        {
          "output_type": "display_data",
          "data": {
            "text/html": [
              "<pre>| 707          | 0.817122     | 6h 23m       |</pre>"
            ],
            "text/plain": [
              "| 707          | 0.817122     | 6h 23m       |"
            ]
          },
          "metadata": {
            "tags": []
          }
        },
        {
          "output_type": "display_data",
          "data": {
            "text/html": [
              "<pre>| 708          | 0.826419     | 6h 24m       |</pre>"
            ],
            "text/plain": [
              "| 708          | 0.826419     | 6h 24m       |"
            ]
          },
          "metadata": {
            "tags": []
          }
        },
        {
          "output_type": "display_data",
          "data": {
            "text/html": [
              "<pre>| 709          | 0.810511     | 6h 25m       |</pre>"
            ],
            "text/plain": [
              "| 709          | 0.810511     | 6h 25m       |"
            ]
          },
          "metadata": {
            "tags": []
          }
        },
        {
          "output_type": "display_data",
          "data": {
            "text/html": [
              "<pre>| 710          | 0.797839     | 6h 25m       |</pre>"
            ],
            "text/plain": [
              "| 710          | 0.797839     | 6h 25m       |"
            ]
          },
          "metadata": {
            "tags": []
          }
        },
        {
          "output_type": "display_data",
          "data": {
            "text/html": [
              "<pre>| 711          | 0.806521     | 6h 26m       |</pre>"
            ],
            "text/plain": [
              "| 711          | 0.806521     | 6h 26m       |"
            ]
          },
          "metadata": {
            "tags": []
          }
        },
        {
          "output_type": "display_data",
          "data": {
            "text/html": [
              "<pre>| 712          | 0.80384      | 6h 26m       |</pre>"
            ],
            "text/plain": [
              "| 712          | 0.80384      | 6h 26m       |"
            ]
          },
          "metadata": {
            "tags": []
          }
        },
        {
          "output_type": "display_data",
          "data": {
            "text/html": [
              "<pre>| 713          | 0.817418     | 6h 27m       |</pre>"
            ],
            "text/plain": [
              "| 713          | 0.817418     | 6h 27m       |"
            ]
          },
          "metadata": {
            "tags": []
          }
        },
        {
          "output_type": "display_data",
          "data": {
            "text/html": [
              "<pre>| 714          | 0.858998     | 6h 27m       |</pre>"
            ],
            "text/plain": [
              "| 714          | 0.858998     | 6h 27m       |"
            ]
          },
          "metadata": {
            "tags": []
          }
        },
        {
          "output_type": "display_data",
          "data": {
            "text/html": [
              "<pre>| 715          | 0.855634     | 6h 28m       |</pre>"
            ],
            "text/plain": [
              "| 715          | 0.855634     | 6h 28m       |"
            ]
          },
          "metadata": {
            "tags": []
          }
        },
        {
          "output_type": "display_data",
          "data": {
            "text/html": [
              "<pre>| 716          | 0.856798     | 6h 28m       |</pre>"
            ],
            "text/plain": [
              "| 716          | 0.856798     | 6h 28m       |"
            ]
          },
          "metadata": {
            "tags": []
          }
        },
        {
          "output_type": "display_data",
          "data": {
            "text/html": [
              "<pre>| 717          | 0.841738     | 6h 29m       |</pre>"
            ],
            "text/plain": [
              "| 717          | 0.841738     | 6h 29m       |"
            ]
          },
          "metadata": {
            "tags": []
          }
        },
        {
          "output_type": "display_data",
          "data": {
            "text/html": [
              "<pre>| 718          | 0.808692     | 6h 29m       |</pre>"
            ],
            "text/plain": [
              "| 718          | 0.808692     | 6h 29m       |"
            ]
          },
          "metadata": {
            "tags": []
          }
        },
        {
          "output_type": "display_data",
          "data": {
            "text/html": [
              "<pre>| 719          | 0.804943     | 6h 30m       |</pre>"
            ],
            "text/plain": [
              "| 719          | 0.804943     | 6h 30m       |"
            ]
          },
          "metadata": {
            "tags": []
          }
        },
        {
          "output_type": "display_data",
          "data": {
            "text/html": [
              "<pre>| 720          | 0.795703     | 6h 31m       |</pre>"
            ],
            "text/plain": [
              "| 720          | 0.795703     | 6h 31m       |"
            ]
          },
          "metadata": {
            "tags": []
          }
        },
        {
          "output_type": "display_data",
          "data": {
            "text/html": [
              "<pre>| 721          | 0.814653     | 6h 31m       |</pre>"
            ],
            "text/plain": [
              "| 721          | 0.814653     | 6h 31m       |"
            ]
          },
          "metadata": {
            "tags": []
          }
        },
        {
          "output_type": "display_data",
          "data": {
            "text/html": [
              "<pre>| 722          | 0.828467     | 6h 32m       |</pre>"
            ],
            "text/plain": [
              "| 722          | 0.828467     | 6h 32m       |"
            ]
          },
          "metadata": {
            "tags": []
          }
        },
        {
          "output_type": "display_data",
          "data": {
            "text/html": [
              "<pre>| 723          | 0.855769     | 6h 32m       |</pre>"
            ],
            "text/plain": [
              "| 723          | 0.855769     | 6h 32m       |"
            ]
          },
          "metadata": {
            "tags": []
          }
        },
        {
          "output_type": "display_data",
          "data": {
            "text/html": [
              "<pre>| 724          | 0.832798     | 6h 33m       |</pre>"
            ],
            "text/plain": [
              "| 724          | 0.832798     | 6h 33m       |"
            ]
          },
          "metadata": {
            "tags": []
          }
        },
        {
          "output_type": "display_data",
          "data": {
            "text/html": [
              "<pre>| 725          | 0.850601     | 6h 33m       |</pre>"
            ],
            "text/plain": [
              "| 725          | 0.850601     | 6h 33m       |"
            ]
          },
          "metadata": {
            "tags": []
          }
        },
        {
          "output_type": "display_data",
          "data": {
            "text/html": [
              "<pre>| 726          | 0.841233     | 6h 34m       |</pre>"
            ],
            "text/plain": [
              "| 726          | 0.841233     | 6h 34m       |"
            ]
          },
          "metadata": {
            "tags": []
          }
        },
        {
          "output_type": "display_data",
          "data": {
            "text/html": [
              "<pre>| 727          | 0.840362     | 6h 34m       |</pre>"
            ],
            "text/plain": [
              "| 727          | 0.840362     | 6h 34m       |"
            ]
          },
          "metadata": {
            "tags": []
          }
        },
        {
          "output_type": "display_data",
          "data": {
            "text/html": [
              "<pre>| 728          | 0.842023     | 6h 35m       |</pre>"
            ],
            "text/plain": [
              "| 728          | 0.842023     | 6h 35m       |"
            ]
          },
          "metadata": {
            "tags": []
          }
        },
        {
          "output_type": "display_data",
          "data": {
            "text/html": [
              "<pre>| 729          | 0.824881     | 6h 35m       |</pre>"
            ],
            "text/plain": [
              "| 729          | 0.824881     | 6h 35m       |"
            ]
          },
          "metadata": {
            "tags": []
          }
        },
        {
          "output_type": "display_data",
          "data": {
            "text/html": [
              "<pre>| 730          | 0.826979     | 6h 36m       |</pre>"
            ],
            "text/plain": [
              "| 730          | 0.826979     | 6h 36m       |"
            ]
          },
          "metadata": {
            "tags": []
          }
        },
        {
          "output_type": "display_data",
          "data": {
            "text/html": [
              "<pre>| 731          | 0.800198     | 6h 37m       |</pre>"
            ],
            "text/plain": [
              "| 731          | 0.800198     | 6h 37m       |"
            ]
          },
          "metadata": {
            "tags": []
          }
        },
        {
          "output_type": "display_data",
          "data": {
            "text/html": [
              "<pre>| 732          | 0.798332     | 6h 37m       |</pre>"
            ],
            "text/plain": [
              "| 732          | 0.798332     | 6h 37m       |"
            ]
          },
          "metadata": {
            "tags": []
          }
        },
        {
          "output_type": "display_data",
          "data": {
            "text/html": [
              "<pre>| 733          | 0.7977       | 6h 38m       |</pre>"
            ],
            "text/plain": [
              "| 733          | 0.7977       | 6h 38m       |"
            ]
          },
          "metadata": {
            "tags": []
          }
        },
        {
          "output_type": "display_data",
          "data": {
            "text/html": [
              "<pre>| 734          | 0.804801     | 6h 38m       |</pre>"
            ],
            "text/plain": [
              "| 734          | 0.804801     | 6h 38m       |"
            ]
          },
          "metadata": {
            "tags": []
          }
        },
        {
          "output_type": "display_data",
          "data": {
            "text/html": [
              "<pre>| 735          | 0.82045      | 6h 39m       |</pre>"
            ],
            "text/plain": [
              "| 735          | 0.82045      | 6h 39m       |"
            ]
          },
          "metadata": {
            "tags": []
          }
        },
        {
          "output_type": "display_data",
          "data": {
            "text/html": [
              "<pre>| 736          | 0.803732     | 6h 39m       |</pre>"
            ],
            "text/plain": [
              "| 736          | 0.803732     | 6h 39m       |"
            ]
          },
          "metadata": {
            "tags": []
          }
        },
        {
          "output_type": "display_data",
          "data": {
            "text/html": [
              "<pre>| 737          | 0.807094     | 6h 40m       |</pre>"
            ],
            "text/plain": [
              "| 737          | 0.807094     | 6h 40m       |"
            ]
          },
          "metadata": {
            "tags": []
          }
        },
        {
          "output_type": "display_data",
          "data": {
            "text/html": [
              "<pre>| 738          | 0.809697     | 6h 40m       |</pre>"
            ],
            "text/plain": [
              "| 738          | 0.809697     | 6h 40m       |"
            ]
          },
          "metadata": {
            "tags": []
          }
        },
        {
          "output_type": "display_data",
          "data": {
            "text/html": [
              "<pre>| 739          | 0.815457     | 6h 41m       |</pre>"
            ],
            "text/plain": [
              "| 739          | 0.815457     | 6h 41m       |"
            ]
          },
          "metadata": {
            "tags": []
          }
        },
        {
          "output_type": "display_data",
          "data": {
            "text/html": [
              "<pre>| 740          | 0.847337     | 6h 41m       |</pre>"
            ],
            "text/plain": [
              "| 740          | 0.847337     | 6h 41m       |"
            ]
          },
          "metadata": {
            "tags": []
          }
        },
        {
          "output_type": "display_data",
          "data": {
            "text/html": [
              "<pre>| 741          | 0.838816     | 6h 42m       |</pre>"
            ],
            "text/plain": [
              "| 741          | 0.838816     | 6h 42m       |"
            ]
          },
          "metadata": {
            "tags": []
          }
        },
        {
          "output_type": "display_data",
          "data": {
            "text/html": [
              "<pre>| 742          | 0.850431     | 6h 43m       |</pre>"
            ],
            "text/plain": [
              "| 742          | 0.850431     | 6h 43m       |"
            ]
          },
          "metadata": {
            "tags": []
          }
        },
        {
          "output_type": "display_data",
          "data": {
            "text/html": [
              "<pre>| 743          | 0.832537     | 6h 43m       |</pre>"
            ],
            "text/plain": [
              "| 743          | 0.832537     | 6h 43m       |"
            ]
          },
          "metadata": {
            "tags": []
          }
        },
        {
          "output_type": "display_data",
          "data": {
            "text/html": [
              "<pre>| 744          | 0.825249     | 6h 44m       |</pre>"
            ],
            "text/plain": [
              "| 744          | 0.825249     | 6h 44m       |"
            ]
          },
          "metadata": {
            "tags": []
          }
        },
        {
          "output_type": "display_data",
          "data": {
            "text/html": [
              "<pre>| 745          | 0.819948     | 6h 44m       |</pre>"
            ],
            "text/plain": [
              "| 745          | 0.819948     | 6h 44m       |"
            ]
          },
          "metadata": {
            "tags": []
          }
        },
        {
          "output_type": "display_data",
          "data": {
            "text/html": [
              "<pre>| 746          | 0.813159     | 6h 45m       |</pre>"
            ],
            "text/plain": [
              "| 746          | 0.813159     | 6h 45m       |"
            ]
          },
          "metadata": {
            "tags": []
          }
        },
        {
          "output_type": "display_data",
          "data": {
            "text/html": [
              "<pre>| 747          | 0.80078      | 6h 45m       |</pre>"
            ],
            "text/plain": [
              "| 747          | 0.80078      | 6h 45m       |"
            ]
          },
          "metadata": {
            "tags": []
          }
        },
        {
          "output_type": "display_data",
          "data": {
            "text/html": [
              "<pre>| 748          | 0.79821      | 6h 46m       |</pre>"
            ],
            "text/plain": [
              "| 748          | 0.79821      | 6h 46m       |"
            ]
          },
          "metadata": {
            "tags": []
          }
        },
        {
          "output_type": "display_data",
          "data": {
            "text/html": [
              "<pre>| 749          | 0.798304     | 6h 46m       |</pre>"
            ],
            "text/plain": [
              "| 749          | 0.798304     | 6h 46m       |"
            ]
          },
          "metadata": {
            "tags": []
          }
        },
        {
          "output_type": "display_data",
          "data": {
            "text/html": [
              "<pre>| 750          | 0.79852      | 6h 47m       |</pre>"
            ],
            "text/plain": [
              "| 750          | 0.79852      | 6h 47m       |"
            ]
          },
          "metadata": {
            "tags": []
          }
        },
        {
          "output_type": "display_data",
          "data": {
            "text/html": [
              "<pre>| 751          | 0.783849     | 6h 47m       |</pre>"
            ],
            "text/plain": [
              "| 751          | 0.783849     | 6h 47m       |"
            ]
          },
          "metadata": {
            "tags": []
          }
        },
        {
          "output_type": "display_data",
          "data": {
            "text/html": [
              "<pre>| 752          | 0.802308     | 6h 48m       |</pre>"
            ],
            "text/plain": [
              "| 752          | 0.802308     | 6h 48m       |"
            ]
          },
          "metadata": {
            "tags": []
          }
        },
        {
          "output_type": "display_data",
          "data": {
            "text/html": [
              "<pre>| 753          | 0.785899     | 6h 48m       |</pre>"
            ],
            "text/plain": [
              "| 753          | 0.785899     | 6h 48m       |"
            ]
          },
          "metadata": {
            "tags": []
          }
        },
        {
          "output_type": "display_data",
          "data": {
            "text/html": [
              "<pre>| 754          | 0.797385     | 6h 49m       |</pre>"
            ],
            "text/plain": [
              "| 754          | 0.797385     | 6h 49m       |"
            ]
          },
          "metadata": {
            "tags": []
          }
        },
        {
          "output_type": "display_data",
          "data": {
            "text/html": [
              "<pre>| 755          | 0.809016     | 6h 49m       |</pre>"
            ],
            "text/plain": [
              "| 755          | 0.809016     | 6h 49m       |"
            ]
          },
          "metadata": {
            "tags": []
          }
        },
        {
          "output_type": "display_data",
          "data": {
            "text/html": [
              "<pre>| 756          | 0.798844     | 6h 50m       |</pre>"
            ],
            "text/plain": [
              "| 756          | 0.798844     | 6h 50m       |"
            ]
          },
          "metadata": {
            "tags": []
          }
        },
        {
          "output_type": "display_data",
          "data": {
            "text/html": [
              "<pre>| 757          | 0.813821     | 6h 51m       |</pre>"
            ],
            "text/plain": [
              "| 757          | 0.813821     | 6h 51m       |"
            ]
          },
          "metadata": {
            "tags": []
          }
        },
        {
          "output_type": "display_data",
          "data": {
            "text/html": [
              "<pre>| 758          | 0.816982     | 6h 51m       |</pre>"
            ],
            "text/plain": [
              "| 758          | 0.816982     | 6h 51m       |"
            ]
          },
          "metadata": {
            "tags": []
          }
        },
        {
          "output_type": "display_data",
          "data": {
            "text/html": [
              "<pre>| 759          | 0.828228     | 6h 52m       |</pre>"
            ],
            "text/plain": [
              "| 759          | 0.828228     | 6h 52m       |"
            ]
          },
          "metadata": {
            "tags": []
          }
        },
        {
          "output_type": "display_data",
          "data": {
            "text/html": [
              "<pre>| 760          | 0.826782     | 6h 52m       |</pre>"
            ],
            "text/plain": [
              "| 760          | 0.826782     | 6h 52m       |"
            ]
          },
          "metadata": {
            "tags": []
          }
        },
        {
          "output_type": "display_data",
          "data": {
            "text/html": [
              "<pre>| 761          | 0.80918      | 6h 53m       |</pre>"
            ],
            "text/plain": [
              "| 761          | 0.80918      | 6h 53m       |"
            ]
          },
          "metadata": {
            "tags": []
          }
        },
        {
          "output_type": "display_data",
          "data": {
            "text/html": [
              "<pre>| 762          | 0.811256     | 6h 53m       |</pre>"
            ],
            "text/plain": [
              "| 762          | 0.811256     | 6h 53m       |"
            ]
          },
          "metadata": {
            "tags": []
          }
        },
        {
          "output_type": "display_data",
          "data": {
            "text/html": [
              "<pre>| 763          | 0.825081     | 6h 54m       |</pre>"
            ],
            "text/plain": [
              "| 763          | 0.825081     | 6h 54m       |"
            ]
          },
          "metadata": {
            "tags": []
          }
        },
        {
          "output_type": "display_data",
          "data": {
            "text/html": [
              "<pre>| 764          | 0.832337     | 6h 54m       |</pre>"
            ],
            "text/plain": [
              "| 764          | 0.832337     | 6h 54m       |"
            ]
          },
          "metadata": {
            "tags": []
          }
        },
        {
          "output_type": "display_data",
          "data": {
            "text/html": [
              "<pre>| 765          | 0.807481     | 6h 55m       |</pre>"
            ],
            "text/plain": [
              "| 765          | 0.807481     | 6h 55m       |"
            ]
          },
          "metadata": {
            "tags": []
          }
        },
        {
          "output_type": "display_data",
          "data": {
            "text/html": [
              "<pre>| 766          | 0.814141     | 6h 55m       |</pre>"
            ],
            "text/plain": [
              "| 766          | 0.814141     | 6h 55m       |"
            ]
          },
          "metadata": {
            "tags": []
          }
        },
        {
          "output_type": "display_data",
          "data": {
            "text/html": [
              "<pre>| 767          | 0.794137     | 6h 56m       |</pre>"
            ],
            "text/plain": [
              "| 767          | 0.794137     | 6h 56m       |"
            ]
          },
          "metadata": {
            "tags": []
          }
        },
        {
          "output_type": "display_data",
          "data": {
            "text/html": [
              "<pre>| 768          | 0.808446     | 6h 57m       |</pre>"
            ],
            "text/plain": [
              "| 768          | 0.808446     | 6h 57m       |"
            ]
          },
          "metadata": {
            "tags": []
          }
        },
        {
          "output_type": "display_data",
          "data": {
            "text/html": [
              "<pre>| 769          | 0.802704     | 6h 57m       |</pre>"
            ],
            "text/plain": [
              "| 769          | 0.802704     | 6h 57m       |"
            ]
          },
          "metadata": {
            "tags": []
          }
        },
        {
          "output_type": "display_data",
          "data": {
            "text/html": [
              "<pre>| 770          | 0.802636     | 6h 58m       |</pre>"
            ],
            "text/plain": [
              "| 770          | 0.802636     | 6h 58m       |"
            ]
          },
          "metadata": {
            "tags": []
          }
        },
        {
          "output_type": "display_data",
          "data": {
            "text/html": [
              "<pre>| 771          | 0.797938     | 6h 58m       |</pre>"
            ],
            "text/plain": [
              "| 771          | 0.797938     | 6h 58m       |"
            ]
          },
          "metadata": {
            "tags": []
          }
        },
        {
          "output_type": "display_data",
          "data": {
            "text/html": [
              "<pre>| 772          | 0.787985     | 6h 59m       |</pre>"
            ],
            "text/plain": [
              "| 772          | 0.787985     | 6h 59m       |"
            ]
          },
          "metadata": {
            "tags": []
          }
        },
        {
          "output_type": "display_data",
          "data": {
            "text/html": [
              "<pre>| 773          | 0.806832     | 6h 59m       |</pre>"
            ],
            "text/plain": [
              "| 773          | 0.806832     | 6h 59m       |"
            ]
          },
          "metadata": {
            "tags": []
          }
        },
        {
          "output_type": "display_data",
          "data": {
            "text/html": [
              "<pre>| 774          | 0.799795     | 7h 0m        |</pre>"
            ],
            "text/plain": [
              "| 774          | 0.799795     | 7h 0m        |"
            ]
          },
          "metadata": {
            "tags": []
          }
        },
        {
          "output_type": "display_data",
          "data": {
            "text/html": [
              "<pre>| 775          | 0.800523     | 7h 0m        |</pre>"
            ],
            "text/plain": [
              "| 775          | 0.800523     | 7h 0m        |"
            ]
          },
          "metadata": {
            "tags": []
          }
        },
        {
          "output_type": "display_data",
          "data": {
            "text/html": [
              "<pre>| 776          | 0.80557      | 7h 1m        |</pre>"
            ],
            "text/plain": [
              "| 776          | 0.80557      | 7h 1m        |"
            ]
          },
          "metadata": {
            "tags": []
          }
        },
        {
          "output_type": "display_data",
          "data": {
            "text/html": [
              "<pre>| 777          | 0.809512     | 7h 1m        |</pre>"
            ],
            "text/plain": [
              "| 777          | 0.809512     | 7h 1m        |"
            ]
          },
          "metadata": {
            "tags": []
          }
        },
        {
          "output_type": "display_data",
          "data": {
            "text/html": [
              "<pre>| 778          | 0.786748     | 7h 2m        |</pre>"
            ],
            "text/plain": [
              "| 778          | 0.786748     | 7h 2m        |"
            ]
          },
          "metadata": {
            "tags": []
          }
        },
        {
          "output_type": "display_data",
          "data": {
            "text/html": [
              "<pre>| 779          | 0.8414       | 7h 3m        |</pre>"
            ],
            "text/plain": [
              "| 779          | 0.8414       | 7h 3m        |"
            ]
          },
          "metadata": {
            "tags": []
          }
        },
        {
          "output_type": "display_data",
          "data": {
            "text/html": [
              "<pre>| 780          | 0.842842     | 7h 3m        |</pre>"
            ],
            "text/plain": [
              "| 780          | 0.842842     | 7h 3m        |"
            ]
          },
          "metadata": {
            "tags": []
          }
        },
        {
          "output_type": "display_data",
          "data": {
            "text/html": [
              "<pre>| 781          | 0.824895     | 7h 4m        |</pre>"
            ],
            "text/plain": [
              "| 781          | 0.824895     | 7h 4m        |"
            ]
          },
          "metadata": {
            "tags": []
          }
        },
        {
          "output_type": "display_data",
          "data": {
            "text/html": [
              "<pre>| 782          | 0.821158     | 7h 4m        |</pre>"
            ],
            "text/plain": [
              "| 782          | 0.821158     | 7h 4m        |"
            ]
          },
          "metadata": {
            "tags": []
          }
        },
        {
          "output_type": "display_data",
          "data": {
            "text/html": [
              "<pre>| 783          | 0.831376     | 7h 5m        |</pre>"
            ],
            "text/plain": [
              "| 783          | 0.831376     | 7h 5m        |"
            ]
          },
          "metadata": {
            "tags": []
          }
        },
        {
          "output_type": "display_data",
          "data": {
            "text/html": [
              "<pre>| 784          | 0.84776      | 7h 5m        |</pre>"
            ],
            "text/plain": [
              "| 784          | 0.84776      | 7h 5m        |"
            ]
          },
          "metadata": {
            "tags": []
          }
        },
        {
          "output_type": "display_data",
          "data": {
            "text/html": [
              "<pre>| 785          | 0.848275     | 7h 6m        |</pre>"
            ],
            "text/plain": [
              "| 785          | 0.848275     | 7h 6m        |"
            ]
          },
          "metadata": {
            "tags": []
          }
        },
        {
          "output_type": "display_data",
          "data": {
            "text/html": [
              "<pre>| 786          | 0.85189      | 7h 6m        |</pre>"
            ],
            "text/plain": [
              "| 786          | 0.85189      | 7h 6m        |"
            ]
          },
          "metadata": {
            "tags": []
          }
        },
        {
          "output_type": "display_data",
          "data": {
            "text/html": [
              "<pre>| 787          | 0.874253     | 7h 7m        |</pre>"
            ],
            "text/plain": [
              "| 787          | 0.874253     | 7h 7m        |"
            ]
          },
          "metadata": {
            "tags": []
          }
        },
        {
          "output_type": "display_data",
          "data": {
            "text/html": [
              "<pre>| 788          | 0.867482     | 7h 8m        |</pre>"
            ],
            "text/plain": [
              "| 788          | 0.867482     | 7h 8m        |"
            ]
          },
          "metadata": {
            "tags": []
          }
        },
        {
          "output_type": "display_data",
          "data": {
            "text/html": [
              "<pre>| 789          | 0.905518     | 7h 8m        |</pre>"
            ],
            "text/plain": [
              "| 789          | 0.905518     | 7h 8m        |"
            ]
          },
          "metadata": {
            "tags": []
          }
        },
        {
          "output_type": "display_data",
          "data": {
            "text/html": [
              "<pre>| 790          | 0.893025     | 7h 9m        |</pre>"
            ],
            "text/plain": [
              "| 790          | 0.893025     | 7h 9m        |"
            ]
          },
          "metadata": {
            "tags": []
          }
        },
        {
          "output_type": "display_data",
          "data": {
            "text/html": [
              "<pre>| 791          | 0.88522      | 7h 9m        |</pre>"
            ],
            "text/plain": [
              "| 791          | 0.88522      | 7h 9m        |"
            ]
          },
          "metadata": {
            "tags": []
          }
        },
        {
          "output_type": "display_data",
          "data": {
            "text/html": [
              "<pre>| 792          | 0.875569     | 7h 10m       |</pre>"
            ],
            "text/plain": [
              "| 792          | 0.875569     | 7h 10m       |"
            ]
          },
          "metadata": {
            "tags": []
          }
        },
        {
          "output_type": "display_data",
          "data": {
            "text/html": [
              "<pre>| 793          | 0.868274     | 7h 10m       |</pre>"
            ],
            "text/plain": [
              "| 793          | 0.868274     | 7h 10m       |"
            ]
          },
          "metadata": {
            "tags": []
          }
        },
        {
          "output_type": "display_data",
          "data": {
            "text/html": [
              "<pre>| 794          | 0.871802     | 7h 11m       |</pre>"
            ],
            "text/plain": [
              "| 794          | 0.871802     | 7h 11m       |"
            ]
          },
          "metadata": {
            "tags": []
          }
        },
        {
          "output_type": "display_data",
          "data": {
            "text/html": [
              "<pre>| 795          | 0.857132     | 7h 11m       |</pre>"
            ],
            "text/plain": [
              "| 795          | 0.857132     | 7h 11m       |"
            ]
          },
          "metadata": {
            "tags": []
          }
        },
        {
          "output_type": "display_data",
          "data": {
            "text/html": [
              "<pre>| 796          | 0.858061     | 7h 12m       |</pre>"
            ],
            "text/plain": [
              "| 796          | 0.858061     | 7h 12m       |"
            ]
          },
          "metadata": {
            "tags": []
          }
        },
        {
          "output_type": "display_data",
          "data": {
            "text/html": [
              "<pre>| 797          | 0.842692     | 7h 12m       |</pre>"
            ],
            "text/plain": [
              "| 797          | 0.842692     | 7h 12m       |"
            ]
          },
          "metadata": {
            "tags": []
          }
        },
        {
          "output_type": "display_data",
          "data": {
            "text/html": [
              "<pre>| 798          | 0.841312     | 7h 13m       |</pre>"
            ],
            "text/plain": [
              "| 798          | 0.841312     | 7h 13m       |"
            ]
          },
          "metadata": {
            "tags": []
          }
        },
        {
          "output_type": "display_data",
          "data": {
            "text/html": [
              "<pre>| 799          | 0.827312     | 7h 14m       |</pre>"
            ],
            "text/plain": [
              "| 799          | 0.827312     | 7h 14m       |"
            ]
          },
          "metadata": {
            "tags": []
          }
        },
        {
          "output_type": "display_data",
          "data": {
            "text/html": [
              "<pre>| 800          | 0.826642     | 7h 14m       |</pre>"
            ],
            "text/plain": [
              "| 800          | 0.826642     | 7h 14m       |"
            ]
          },
          "metadata": {
            "tags": []
          }
        },
        {
          "output_type": "display_data",
          "data": {
            "text/html": [
              "<pre>| 801          | 0.828044     | 7h 15m       |</pre>"
            ],
            "text/plain": [
              "| 801          | 0.828044     | 7h 15m       |"
            ]
          },
          "metadata": {
            "tags": []
          }
        },
        {
          "output_type": "display_data",
          "data": {
            "text/html": [
              "<pre>| 802          | 0.822845     | 7h 15m       |</pre>"
            ],
            "text/plain": [
              "| 802          | 0.822845     | 7h 15m       |"
            ]
          },
          "metadata": {
            "tags": []
          }
        },
        {
          "output_type": "display_data",
          "data": {
            "text/html": [
              "<pre>| 803          | 0.847705     | 7h 16m       |</pre>"
            ],
            "text/plain": [
              "| 803          | 0.847705     | 7h 16m       |"
            ]
          },
          "metadata": {
            "tags": []
          }
        },
        {
          "output_type": "display_data",
          "data": {
            "text/html": [
              "<pre>| 804          | 0.825482     | 7h 16m       |</pre>"
            ],
            "text/plain": [
              "| 804          | 0.825482     | 7h 16m       |"
            ]
          },
          "metadata": {
            "tags": []
          }
        },
        {
          "output_type": "display_data",
          "data": {
            "text/html": [
              "<pre>| 805          | 0.844803     | 7h 17m       |</pre>"
            ],
            "text/plain": [
              "| 805          | 0.844803     | 7h 17m       |"
            ]
          },
          "metadata": {
            "tags": []
          }
        },
        {
          "output_type": "display_data",
          "data": {
            "text/html": [
              "<pre>| 806          | 0.835629     | 7h 17m       |</pre>"
            ],
            "text/plain": [
              "| 806          | 0.835629     | 7h 17m       |"
            ]
          },
          "metadata": {
            "tags": []
          }
        },
        {
          "output_type": "display_data",
          "data": {
            "text/html": [
              "<pre>| 807          | 0.871376     | 7h 18m       |</pre>"
            ],
            "text/plain": [
              "| 807          | 0.871376     | 7h 18m       |"
            ]
          },
          "metadata": {
            "tags": []
          }
        },
        {
          "output_type": "display_data",
          "data": {
            "text/html": [
              "<pre>| 808          | 0.845808     | 7h 19m       |</pre>"
            ],
            "text/plain": [
              "| 808          | 0.845808     | 7h 19m       |"
            ]
          },
          "metadata": {
            "tags": []
          }
        },
        {
          "output_type": "display_data",
          "data": {
            "text/html": [
              "<pre>| 809          | 0.872949     | 7h 19m       |</pre>"
            ],
            "text/plain": [
              "| 809          | 0.872949     | 7h 19m       |"
            ]
          },
          "metadata": {
            "tags": []
          }
        },
        {
          "output_type": "display_data",
          "data": {
            "text/html": [
              "<pre>| 810          | 0.869853     | 7h 20m       |</pre>"
            ],
            "text/plain": [
              "| 810          | 0.869853     | 7h 20m       |"
            ]
          },
          "metadata": {
            "tags": []
          }
        },
        {
          "output_type": "display_data",
          "data": {
            "text/html": [
              "<pre>| 811          | 0.885838     | 7h 20m       |</pre>"
            ],
            "text/plain": [
              "| 811          | 0.885838     | 7h 20m       |"
            ]
          },
          "metadata": {
            "tags": []
          }
        },
        {
          "output_type": "display_data",
          "data": {
            "text/html": [
              "<pre>| 812          | 0.856385     | 7h 21m       |</pre>"
            ],
            "text/plain": [
              "| 812          | 0.856385     | 7h 21m       |"
            ]
          },
          "metadata": {
            "tags": []
          }
        },
        {
          "output_type": "display_data",
          "data": {
            "text/html": [
              "<pre>| 813          | 0.865455     | 7h 21m       |</pre>"
            ],
            "text/plain": [
              "| 813          | 0.865455     | 7h 21m       |"
            ]
          },
          "metadata": {
            "tags": []
          }
        },
        {
          "output_type": "display_data",
          "data": {
            "text/html": [
              "<pre>| 814          | 0.891094     | 7h 22m       |</pre>"
            ],
            "text/plain": [
              "| 814          | 0.891094     | 7h 22m       |"
            ]
          },
          "metadata": {
            "tags": []
          }
        },
        {
          "output_type": "display_data",
          "data": {
            "text/html": [
              "<pre>| 815          | 0.880269     | 7h 22m       |</pre>"
            ],
            "text/plain": [
              "| 815          | 0.880269     | 7h 22m       |"
            ]
          },
          "metadata": {
            "tags": []
          }
        },
        {
          "output_type": "display_data",
          "data": {
            "text/html": [
              "<pre>| 816          | 0.878927     | 7h 23m       |</pre>"
            ],
            "text/plain": [
              "| 816          | 0.878927     | 7h 23m       |"
            ]
          },
          "metadata": {
            "tags": []
          }
        },
        {
          "output_type": "display_data",
          "data": {
            "text/html": [
              "<pre>| 817          | 0.889344     | 7h 23m       |</pre>"
            ],
            "text/plain": [
              "| 817          | 0.889344     | 7h 23m       |"
            ]
          },
          "metadata": {
            "tags": []
          }
        },
        {
          "output_type": "display_data",
          "data": {
            "text/html": [
              "<pre>| 818          | 0.913562     | 7h 24m       |</pre>"
            ],
            "text/plain": [
              "| 818          | 0.913562     | 7h 24m       |"
            ]
          },
          "metadata": {
            "tags": []
          }
        },
        {
          "output_type": "display_data",
          "data": {
            "text/html": [
              "<pre>| 819          | 0.925063     | 7h 24m       |</pre>"
            ],
            "text/plain": [
              "| 819          | 0.925063     | 7h 24m       |"
            ]
          },
          "metadata": {
            "tags": []
          }
        },
        {
          "output_type": "display_data",
          "data": {
            "text/html": [
              "<pre>| 820          | 0.942845     | 7h 25m       |</pre>"
            ],
            "text/plain": [
              "| 820          | 0.942845     | 7h 25m       |"
            ]
          },
          "metadata": {
            "tags": []
          }
        },
        {
          "output_type": "display_data",
          "data": {
            "text/html": [
              "<pre>| 821          | 0.902043     | 7h 26m       |</pre>"
            ],
            "text/plain": [
              "| 821          | 0.902043     | 7h 26m       |"
            ]
          },
          "metadata": {
            "tags": []
          }
        },
        {
          "output_type": "display_data",
          "data": {
            "text/html": [
              "<pre>| 822          | 0.889921     | 7h 26m       |</pre>"
            ],
            "text/plain": [
              "| 822          | 0.889921     | 7h 26m       |"
            ]
          },
          "metadata": {
            "tags": []
          }
        },
        {
          "output_type": "display_data",
          "data": {
            "text/html": [
              "<pre>| 823          | 0.853162     | 7h 27m       |</pre>"
            ],
            "text/plain": [
              "| 823          | 0.853162     | 7h 27m       |"
            ]
          },
          "metadata": {
            "tags": []
          }
        },
        {
          "output_type": "display_data",
          "data": {
            "text/html": [
              "<pre>| 824          | 0.829684     | 7h 27m       |</pre>"
            ],
            "text/plain": [
              "| 824          | 0.829684     | 7h 27m       |"
            ]
          },
          "metadata": {
            "tags": []
          }
        },
        {
          "output_type": "display_data",
          "data": {
            "text/html": [
              "<pre>| 825          | 0.827252     | 7h 28m       |</pre>"
            ],
            "text/plain": [
              "| 825          | 0.827252     | 7h 28m       |"
            ]
          },
          "metadata": {
            "tags": []
          }
        },
        {
          "output_type": "display_data",
          "data": {
            "text/html": [
              "<pre>| 826          | 0.836698     | 7h 28m       |</pre>"
            ],
            "text/plain": [
              "| 826          | 0.836698     | 7h 28m       |"
            ]
          },
          "metadata": {
            "tags": []
          }
        },
        {
          "output_type": "display_data",
          "data": {
            "text/html": [
              "<pre>| 827          | 0.86902      | 7h 29m       |</pre>"
            ],
            "text/plain": [
              "| 827          | 0.86902      | 7h 29m       |"
            ]
          },
          "metadata": {
            "tags": []
          }
        },
        {
          "output_type": "display_data",
          "data": {
            "text/html": [
              "<pre>| 828          | 0.878398     | 7h 29m       |</pre>"
            ],
            "text/plain": [
              "| 828          | 0.878398     | 7h 29m       |"
            ]
          },
          "metadata": {
            "tags": []
          }
        },
        {
          "output_type": "display_data",
          "data": {
            "text/html": [
              "<pre>| 829          | 0.84374      | 7h 30m       |</pre>"
            ],
            "text/plain": [
              "| 829          | 0.84374      | 7h 30m       |"
            ]
          },
          "metadata": {
            "tags": []
          }
        },
        {
          "output_type": "display_data",
          "data": {
            "text/html": [
              "<pre>| 830          | 0.837424     | 7h 30m       |</pre>"
            ],
            "text/plain": [
              "| 830          | 0.837424     | 7h 30m       |"
            ]
          },
          "metadata": {
            "tags": []
          }
        },
        {
          "output_type": "display_data",
          "data": {
            "text/html": [
              "<pre>| 831          | 0.814221     | 7h 31m       |</pre>"
            ],
            "text/plain": [
              "| 831          | 0.814221     | 7h 31m       |"
            ]
          },
          "metadata": {
            "tags": []
          }
        },
        {
          "output_type": "display_data",
          "data": {
            "text/html": [
              "<pre>| 832          | 0.801052     | 7h 31m       |</pre>"
            ],
            "text/plain": [
              "| 832          | 0.801052     | 7h 31m       |"
            ]
          },
          "metadata": {
            "tags": []
          }
        },
        {
          "output_type": "display_data",
          "data": {
            "text/html": [
              "<pre>| 833          | 0.822112     | 7h 32m       |</pre>"
            ],
            "text/plain": [
              "| 833          | 0.822112     | 7h 32m       |"
            ]
          },
          "metadata": {
            "tags": []
          }
        },
        {
          "output_type": "display_data",
          "data": {
            "text/html": [
              "<pre>| 834          | 0.826288     | 7h 32m       |</pre>"
            ],
            "text/plain": [
              "| 834          | 0.826288     | 7h 32m       |"
            ]
          },
          "metadata": {
            "tags": []
          }
        },
        {
          "output_type": "display_data",
          "data": {
            "text/html": [
              "<pre>| 835          | 0.862132     | 7h 33m       |</pre>"
            ],
            "text/plain": [
              "| 835          | 0.862132     | 7h 33m       |"
            ]
          },
          "metadata": {
            "tags": []
          }
        },
        {
          "output_type": "display_data",
          "data": {
            "text/html": [
              "<pre>| 836          | 0.817798     | 7h 34m       |</pre>"
            ],
            "text/plain": [
              "| 836          | 0.817798     | 7h 34m       |"
            ]
          },
          "metadata": {
            "tags": []
          }
        },
        {
          "output_type": "display_data",
          "data": {
            "text/html": [
              "<pre>| 837          | 0.808858     | 7h 34m       |</pre>"
            ],
            "text/plain": [
              "| 837          | 0.808858     | 7h 34m       |"
            ]
          },
          "metadata": {
            "tags": []
          }
        },
        {
          "output_type": "display_data",
          "data": {
            "text/html": [
              "<pre>| 838          | 0.810591     | 7h 35m       |</pre>"
            ],
            "text/plain": [
              "| 838          | 0.810591     | 7h 35m       |"
            ]
          },
          "metadata": {
            "tags": []
          }
        },
        {
          "output_type": "display_data",
          "data": {
            "text/html": [
              "<pre>| 839          | 0.817792     | 7h 35m       |</pre>"
            ],
            "text/plain": [
              "| 839          | 0.817792     | 7h 35m       |"
            ]
          },
          "metadata": {
            "tags": []
          }
        },
        {
          "output_type": "display_data",
          "data": {
            "text/html": [
              "<pre>| 840          | 0.791338     | 7h 36m       |</pre>"
            ],
            "text/plain": [
              "| 840          | 0.791338     | 7h 36m       |"
            ]
          },
          "metadata": {
            "tags": []
          }
        },
        {
          "output_type": "display_data",
          "data": {
            "text/html": [
              "<pre>| 841          | 0.828609     | 7h 36m       |</pre>"
            ],
            "text/plain": [
              "| 841          | 0.828609     | 7h 36m       |"
            ]
          },
          "metadata": {
            "tags": []
          }
        },
        {
          "output_type": "display_data",
          "data": {
            "text/html": [
              "<pre>| 842          | 0.838387     | 7h 37m       |</pre>"
            ],
            "text/plain": [
              "| 842          | 0.838387     | 7h 37m       |"
            ]
          },
          "metadata": {
            "tags": []
          }
        },
        {
          "output_type": "display_data",
          "data": {
            "text/html": [
              "<pre>| 843          | 0.824024     | 7h 37m       |</pre>"
            ],
            "text/plain": [
              "| 843          | 0.824024     | 7h 37m       |"
            ]
          },
          "metadata": {
            "tags": []
          }
        },
        {
          "output_type": "display_data",
          "data": {
            "text/html": [
              "<pre>| 844          | 0.832429     | 7h 38m       |</pre>"
            ],
            "text/plain": [
              "| 844          | 0.832429     | 7h 38m       |"
            ]
          },
          "metadata": {
            "tags": []
          }
        },
        {
          "output_type": "display_data",
          "data": {
            "text/html": [
              "<pre>| 845          | 0.815154     | 7h 38m       |</pre>"
            ],
            "text/plain": [
              "| 845          | 0.815154     | 7h 38m       |"
            ]
          },
          "metadata": {
            "tags": []
          }
        },
        {
          "output_type": "display_data",
          "data": {
            "text/html": [
              "<pre>| 846          | 0.806133     | 7h 39m       |</pre>"
            ],
            "text/plain": [
              "| 846          | 0.806133     | 7h 39m       |"
            ]
          },
          "metadata": {
            "tags": []
          }
        },
        {
          "output_type": "display_data",
          "data": {
            "text/html": [
              "<pre>| 847          | 0.788847     | 7h 39m       |</pre>"
            ],
            "text/plain": [
              "| 847          | 0.788847     | 7h 39m       |"
            ]
          },
          "metadata": {
            "tags": []
          }
        },
        {
          "output_type": "display_data",
          "data": {
            "text/html": [
              "<pre>| 848          | 0.763197     | 7h 40m       |</pre>"
            ],
            "text/plain": [
              "| 848          | 0.763197     | 7h 40m       |"
            ]
          },
          "metadata": {
            "tags": []
          }
        },
        {
          "output_type": "display_data",
          "data": {
            "text/html": [
              "<pre>| 849          | 0.764737     | 7h 41m       |</pre>"
            ],
            "text/plain": [
              "| 849          | 0.764737     | 7h 41m       |"
            ]
          },
          "metadata": {
            "tags": []
          }
        },
        {
          "output_type": "display_data",
          "data": {
            "text/html": [
              "<pre>| 850          | 0.762132     | 7h 41m       |</pre>"
            ],
            "text/plain": [
              "| 850          | 0.762132     | 7h 41m       |"
            ]
          },
          "metadata": {
            "tags": []
          }
        },
        {
          "output_type": "display_data",
          "data": {
            "text/html": [
              "<pre>| 851          | 0.75461      | 7h 42m       |</pre>"
            ],
            "text/plain": [
              "| 851          | 0.75461      | 7h 42m       |"
            ]
          },
          "metadata": {
            "tags": []
          }
        },
        {
          "output_type": "display_data",
          "data": {
            "text/html": [
              "<pre>| 852          | 0.757793     | 7h 42m       |</pre>"
            ],
            "text/plain": [
              "| 852          | 0.757793     | 7h 42m       |"
            ]
          },
          "metadata": {
            "tags": []
          }
        },
        {
          "output_type": "display_data",
          "data": {
            "text/html": [
              "<pre>| 853          | 0.766559     | 7h 43m       |</pre>"
            ],
            "text/plain": [
              "| 853          | 0.766559     | 7h 43m       |"
            ]
          },
          "metadata": {
            "tags": []
          }
        },
        {
          "output_type": "display_data",
          "data": {
            "text/html": [
              "<pre>| 854          | 0.78454      | 7h 43m       |</pre>"
            ],
            "text/plain": [
              "| 854          | 0.78454      | 7h 43m       |"
            ]
          },
          "metadata": {
            "tags": []
          }
        },
        {
          "output_type": "display_data",
          "data": {
            "text/html": [
              "<pre>| 855          | 0.779312     | 7h 44m       |</pre>"
            ],
            "text/plain": [
              "| 855          | 0.779312     | 7h 44m       |"
            ]
          },
          "metadata": {
            "tags": []
          }
        },
        {
          "output_type": "display_data",
          "data": {
            "text/html": [
              "<pre>| 856          | 0.799651     | 7h 44m       |</pre>"
            ],
            "text/plain": [
              "| 856          | 0.799651     | 7h 44m       |"
            ]
          },
          "metadata": {
            "tags": []
          }
        },
        {
          "output_type": "display_data",
          "data": {
            "text/html": [
              "<pre>| 857          | 0.810974     | 7h 45m       |</pre>"
            ],
            "text/plain": [
              "| 857          | 0.810974     | 7h 45m       |"
            ]
          },
          "metadata": {
            "tags": []
          }
        },
        {
          "output_type": "display_data",
          "data": {
            "text/html": [
              "<pre>| 858          | 0.792184     | 7h 45m       |</pre>"
            ],
            "text/plain": [
              "| 858          | 0.792184     | 7h 45m       |"
            ]
          },
          "metadata": {
            "tags": []
          }
        },
        {
          "output_type": "display_data",
          "data": {
            "text/html": [
              "<pre>| 859          | 0.808159     | 7h 46m       |</pre>"
            ],
            "text/plain": [
              "| 859          | 0.808159     | 7h 46m       |"
            ]
          },
          "metadata": {
            "tags": []
          }
        },
        {
          "output_type": "display_data",
          "data": {
            "text/html": [
              "<pre>| 860          | 0.895873     | 7h 46m       |</pre>"
            ],
            "text/plain": [
              "| 860          | 0.895873     | 7h 46m       |"
            ]
          },
          "metadata": {
            "tags": []
          }
        },
        {
          "output_type": "display_data",
          "data": {
            "text/html": [
              "<pre>| 861          | 0.879039     | 7h 47m       |</pre>"
            ],
            "text/plain": [
              "| 861          | 0.879039     | 7h 47m       |"
            ]
          },
          "metadata": {
            "tags": []
          }
        },
        {
          "output_type": "display_data",
          "data": {
            "text/html": [
              "<pre>| 862          | 0.868261     | 7h 48m       |</pre>"
            ],
            "text/plain": [
              "| 862          | 0.868261     | 7h 48m       |"
            ]
          },
          "metadata": {
            "tags": []
          }
        },
        {
          "output_type": "display_data",
          "data": {
            "text/html": [
              "<pre>| 863          | 0.85882      | 7h 48m       |</pre>"
            ],
            "text/plain": [
              "| 863          | 0.85882      | 7h 48m       |"
            ]
          },
          "metadata": {
            "tags": []
          }
        },
        {
          "output_type": "display_data",
          "data": {
            "text/html": [
              "<pre>| 864          | 0.863645     | 7h 49m       |</pre>"
            ],
            "text/plain": [
              "| 864          | 0.863645     | 7h 49m       |"
            ]
          },
          "metadata": {
            "tags": []
          }
        },
        {
          "output_type": "display_data",
          "data": {
            "text/html": [
              "<pre>| 865          | 0.863555     | 7h 49m       |</pre>"
            ],
            "text/plain": [
              "| 865          | 0.863555     | 7h 49m       |"
            ]
          },
          "metadata": {
            "tags": []
          }
        },
        {
          "output_type": "display_data",
          "data": {
            "text/html": [
              "<pre>| 866          | 0.866305     | 7h 50m       |</pre>"
            ],
            "text/plain": [
              "| 866          | 0.866305     | 7h 50m       |"
            ]
          },
          "metadata": {
            "tags": []
          }
        },
        {
          "output_type": "display_data",
          "data": {
            "text/html": [
              "<pre>| 867          | 0.840022     | 7h 50m       |</pre>"
            ],
            "text/plain": [
              "| 867          | 0.840022     | 7h 50m       |"
            ]
          },
          "metadata": {
            "tags": []
          }
        },
        {
          "output_type": "display_data",
          "data": {
            "text/html": [
              "<pre>| 868          | 0.836669     | 7h 51m       |</pre>"
            ],
            "text/plain": [
              "| 868          | 0.836669     | 7h 51m       |"
            ]
          },
          "metadata": {
            "tags": []
          }
        },
        {
          "output_type": "display_data",
          "data": {
            "text/html": [
              "<pre>| 869          | 0.85283      | 7h 52m       |</pre>"
            ],
            "text/plain": [
              "| 869          | 0.85283      | 7h 52m       |"
            ]
          },
          "metadata": {
            "tags": []
          }
        },
        {
          "output_type": "display_data",
          "data": {
            "text/html": [
              "<pre>| 870          | 0.840635     | 7h 52m       |</pre>"
            ],
            "text/plain": [
              "| 870          | 0.840635     | 7h 52m       |"
            ]
          },
          "metadata": {
            "tags": []
          }
        },
        {
          "output_type": "display_data",
          "data": {
            "text/html": [
              "<pre>| 871          | 0.830899     | 7h 53m       |</pre>"
            ],
            "text/plain": [
              "| 871          | 0.830899     | 7h 53m       |"
            ]
          },
          "metadata": {
            "tags": []
          }
        },
        {
          "output_type": "display_data",
          "data": {
            "text/html": [
              "<pre>| 872          | 0.832878     | 7h 53m       |</pre>"
            ],
            "text/plain": [
              "| 872          | 0.832878     | 7h 53m       |"
            ]
          },
          "metadata": {
            "tags": []
          }
        },
        {
          "output_type": "display_data",
          "data": {
            "text/html": [
              "<pre>| 873          | 0.825156     | 7h 54m       |</pre>"
            ],
            "text/plain": [
              "| 873          | 0.825156     | 7h 54m       |"
            ]
          },
          "metadata": {
            "tags": []
          }
        },
        {
          "output_type": "display_data",
          "data": {
            "text/html": [
              "<pre>| 874          | 0.810875     | 7h 54m       |</pre>"
            ],
            "text/plain": [
              "| 874          | 0.810875     | 7h 54m       |"
            ]
          },
          "metadata": {
            "tags": []
          }
        },
        {
          "output_type": "display_data",
          "data": {
            "text/html": [
              "<pre>| 875          | 0.830623     | 7h 55m       |</pre>"
            ],
            "text/plain": [
              "| 875          | 0.830623     | 7h 55m       |"
            ]
          },
          "metadata": {
            "tags": []
          }
        },
        {
          "output_type": "display_data",
          "data": {
            "text/html": [
              "<pre>| 876          | 0.818353     | 7h 55m       |</pre>"
            ],
            "text/plain": [
              "| 876          | 0.818353     | 7h 55m       |"
            ]
          },
          "metadata": {
            "tags": []
          }
        },
        {
          "output_type": "display_data",
          "data": {
            "text/html": [
              "<pre>| 877          | 0.823334     | 7h 56m       |</pre>"
            ],
            "text/plain": [
              "| 877          | 0.823334     | 7h 56m       |"
            ]
          },
          "metadata": {
            "tags": []
          }
        },
        {
          "output_type": "display_data",
          "data": {
            "text/html": [
              "<pre>| 878          | 0.833121     | 7h 56m       |</pre>"
            ],
            "text/plain": [
              "| 878          | 0.833121     | 7h 56m       |"
            ]
          },
          "metadata": {
            "tags": []
          }
        },
        {
          "output_type": "display_data",
          "data": {
            "text/html": [
              "<pre>| 879          | 0.830876     | 7h 57m       |</pre>"
            ],
            "text/plain": [
              "| 879          | 0.830876     | 7h 57m       |"
            ]
          },
          "metadata": {
            "tags": []
          }
        },
        {
          "output_type": "display_data",
          "data": {
            "text/html": [
              "<pre>| 880          | 0.836509     | 7h 58m       |</pre>"
            ],
            "text/plain": [
              "| 880          | 0.836509     | 7h 58m       |"
            ]
          },
          "metadata": {
            "tags": []
          }
        },
        {
          "output_type": "display_data",
          "data": {
            "text/html": [
              "<pre>| 881          | 0.840952     | 7h 58m       |</pre>"
            ],
            "text/plain": [
              "| 881          | 0.840952     | 7h 58m       |"
            ]
          },
          "metadata": {
            "tags": []
          }
        },
        {
          "output_type": "display_data",
          "data": {
            "text/html": [
              "<pre>| 882          | 0.825798     | 7h 59m       |</pre>"
            ],
            "text/plain": [
              "| 882          | 0.825798     | 7h 59m       |"
            ]
          },
          "metadata": {
            "tags": []
          }
        },
        {
          "output_type": "display_data",
          "data": {
            "text/html": [
              "<pre>| 883          | 0.818057     | 7h 59m       |</pre>"
            ],
            "text/plain": [
              "| 883          | 0.818057     | 7h 59m       |"
            ]
          },
          "metadata": {
            "tags": []
          }
        },
        {
          "output_type": "display_data",
          "data": {
            "text/html": [
              "<pre>| 884          | 0.829226     | 8h 0m        |</pre>"
            ],
            "text/plain": [
              "| 884          | 0.829226     | 8h 0m        |"
            ]
          },
          "metadata": {
            "tags": []
          }
        },
        {
          "output_type": "display_data",
          "data": {
            "text/html": [
              "<pre>| 885          | 0.794686     | 8h 0m        |</pre>"
            ],
            "text/plain": [
              "| 885          | 0.794686     | 8h 0m        |"
            ]
          },
          "metadata": {
            "tags": []
          }
        },
        {
          "output_type": "display_data",
          "data": {
            "text/html": [
              "<pre>| 886          | 0.794171     | 8h 1m        |</pre>"
            ],
            "text/plain": [
              "| 886          | 0.794171     | 8h 1m        |"
            ]
          },
          "metadata": {
            "tags": []
          }
        },
        {
          "output_type": "display_data",
          "data": {
            "text/html": [
              "<pre>| 887          | 0.766324     | 8h 1m        |</pre>"
            ],
            "text/plain": [
              "| 887          | 0.766324     | 8h 1m        |"
            ]
          },
          "metadata": {
            "tags": []
          }
        },
        {
          "output_type": "display_data",
          "data": {
            "text/html": [
              "<pre>| 888          | 0.750539     | 8h 2m        |</pre>"
            ],
            "text/plain": [
              "| 888          | 0.750539     | 8h 2m        |"
            ]
          },
          "metadata": {
            "tags": []
          }
        },
        {
          "output_type": "display_data",
          "data": {
            "text/html": [
              "<pre>| 889          | 0.736785     | 8h 3m        |</pre>"
            ],
            "text/plain": [
              "| 889          | 0.736785     | 8h 3m        |"
            ]
          },
          "metadata": {
            "tags": []
          }
        },
        {
          "output_type": "display_data",
          "data": {
            "text/html": [
              "<pre>| 890          | 0.720497     | 8h 3m        |</pre>"
            ],
            "text/plain": [
              "| 890          | 0.720497     | 8h 3m        |"
            ]
          },
          "metadata": {
            "tags": []
          }
        },
        {
          "output_type": "display_data",
          "data": {
            "text/html": [
              "<pre>| 891          | 0.727224     | 8h 4m        |</pre>"
            ],
            "text/plain": [
              "| 891          | 0.727224     | 8h 4m        |"
            ]
          },
          "metadata": {
            "tags": []
          }
        },
        {
          "output_type": "display_data",
          "data": {
            "text/html": [
              "<pre>| 892          | 0.758806     | 8h 4m        |</pre>"
            ],
            "text/plain": [
              "| 892          | 0.758806     | 8h 4m        |"
            ]
          },
          "metadata": {
            "tags": []
          }
        },
        {
          "output_type": "display_data",
          "data": {
            "text/html": [
              "<pre>| 893          | 0.740054     | 8h 5m        |</pre>"
            ],
            "text/plain": [
              "| 893          | 0.740054     | 8h 5m        |"
            ]
          },
          "metadata": {
            "tags": []
          }
        },
        {
          "output_type": "display_data",
          "data": {
            "text/html": [
              "<pre>| 894          | 0.74177      | 8h 5m        |</pre>"
            ],
            "text/plain": [
              "| 894          | 0.74177      | 8h 5m        |"
            ]
          },
          "metadata": {
            "tags": []
          }
        },
        {
          "output_type": "display_data",
          "data": {
            "text/html": [
              "<pre>| 895          | 0.767721     | 8h 6m        |</pre>"
            ],
            "text/plain": [
              "| 895          | 0.767721     | 8h 6m        |"
            ]
          },
          "metadata": {
            "tags": []
          }
        },
        {
          "output_type": "display_data",
          "data": {
            "text/html": [
              "<pre>| 896          | 0.765048     | 8h 6m        |</pre>"
            ],
            "text/plain": [
              "| 896          | 0.765048     | 8h 6m        |"
            ]
          },
          "metadata": {
            "tags": []
          }
        },
        {
          "output_type": "display_data",
          "data": {
            "text/html": [
              "<pre>| 897          | 0.737577     | 8h 7m        |</pre>"
            ],
            "text/plain": [
              "| 897          | 0.737577     | 8h 7m        |"
            ]
          },
          "metadata": {
            "tags": []
          }
        },
        {
          "output_type": "display_data",
          "data": {
            "text/html": [
              "<pre>| 898          | 0.742906     | 8h 7m        |</pre>"
            ],
            "text/plain": [
              "| 898          | 0.742906     | 8h 7m        |"
            ]
          },
          "metadata": {
            "tags": []
          }
        },
        {
          "output_type": "display_data",
          "data": {
            "text/html": [
              "<pre>| 899          | 0.741861     | 8h 8m        |</pre>"
            ],
            "text/plain": [
              "| 899          | 0.741861     | 8h 8m        |"
            ]
          },
          "metadata": {
            "tags": []
          }
        },
        {
          "output_type": "display_data",
          "data": {
            "text/html": [
              "<pre>| 900          | 0.742425     | 8h 9m        |</pre>"
            ],
            "text/plain": [
              "| 900          | 0.742425     | 8h 9m        |"
            ]
          },
          "metadata": {
            "tags": []
          }
        },
        {
          "output_type": "display_data",
          "data": {
            "text/html": [
              "<pre>| 901          | 0.758704     | 8h 9m        |</pre>"
            ],
            "text/plain": [
              "| 901          | 0.758704     | 8h 9m        |"
            ]
          },
          "metadata": {
            "tags": []
          }
        },
        {
          "output_type": "display_data",
          "data": {
            "text/html": [
              "<pre>| 902          | 0.74887      | 8h 10m       |</pre>"
            ],
            "text/plain": [
              "| 902          | 0.74887      | 8h 10m       |"
            ]
          },
          "metadata": {
            "tags": []
          }
        },
        {
          "output_type": "display_data",
          "data": {
            "text/html": [
              "<pre>| 903          | 0.750073     | 8h 10m       |</pre>"
            ],
            "text/plain": [
              "| 903          | 0.750073     | 8h 10m       |"
            ]
          },
          "metadata": {
            "tags": []
          }
        },
        {
          "output_type": "display_data",
          "data": {
            "text/html": [
              "<pre>| 904          | 0.755094     | 8h 11m       |</pre>"
            ],
            "text/plain": [
              "| 904          | 0.755094     | 8h 11m       |"
            ]
          },
          "metadata": {
            "tags": []
          }
        },
        {
          "output_type": "display_data",
          "data": {
            "text/html": [
              "<pre>| 905          | 0.795241     | 8h 11m       |</pre>"
            ],
            "text/plain": [
              "| 905          | 0.795241     | 8h 11m       |"
            ]
          },
          "metadata": {
            "tags": []
          }
        },
        {
          "output_type": "display_data",
          "data": {
            "text/html": [
              "<pre>| 906          | 0.808823     | 8h 12m       |</pre>"
            ],
            "text/plain": [
              "| 906          | 0.808823     | 8h 12m       |"
            ]
          },
          "metadata": {
            "tags": []
          }
        },
        {
          "output_type": "display_data",
          "data": {
            "text/html": [
              "<pre>| 907          | 0.812396     | 8h 12m       |</pre>"
            ],
            "text/plain": [
              "| 907          | 0.812396     | 8h 12m       |"
            ]
          },
          "metadata": {
            "tags": []
          }
        },
        {
          "output_type": "display_data",
          "data": {
            "text/html": [
              "<pre>| 908          | 0.816785     | 8h 13m       |</pre>"
            ],
            "text/plain": [
              "| 908          | 0.816785     | 8h 13m       |"
            ]
          },
          "metadata": {
            "tags": []
          }
        },
        {
          "output_type": "display_data",
          "data": {
            "text/html": [
              "<pre>| 909          | 0.803719     | 8h 13m       |</pre>"
            ],
            "text/plain": [
              "| 909          | 0.803719     | 8h 13m       |"
            ]
          },
          "metadata": {
            "tags": []
          }
        },
        {
          "output_type": "display_data",
          "data": {
            "text/html": [
              "<pre>| 910          | 0.797668     | 8h 14m       |</pre>"
            ],
            "text/plain": [
              "| 910          | 0.797668     | 8h 14m       |"
            ]
          },
          "metadata": {
            "tags": []
          }
        },
        {
          "output_type": "display_data",
          "data": {
            "text/html": [
              "<pre>| 911          | 0.808752     | 8h 14m       |</pre>"
            ],
            "text/plain": [
              "| 911          | 0.808752     | 8h 14m       |"
            ]
          },
          "metadata": {
            "tags": []
          }
        },
        {
          "output_type": "display_data",
          "data": {
            "text/html": [
              "<pre>| 912          | 0.798687     | 8h 15m       |</pre>"
            ],
            "text/plain": [
              "| 912          | 0.798687     | 8h 15m       |"
            ]
          },
          "metadata": {
            "tags": []
          }
        },
        {
          "output_type": "display_data",
          "data": {
            "text/html": [
              "<pre>| 913          | 0.7761       | 8h 16m       |</pre>"
            ],
            "text/plain": [
              "| 913          | 0.7761       | 8h 16m       |"
            ]
          },
          "metadata": {
            "tags": []
          }
        },
        {
          "output_type": "display_data",
          "data": {
            "text/html": [
              "<pre>| 914          | 0.790218     | 8h 16m       |</pre>"
            ],
            "text/plain": [
              "| 914          | 0.790218     | 8h 16m       |"
            ]
          },
          "metadata": {
            "tags": []
          }
        },
        {
          "output_type": "display_data",
          "data": {
            "text/html": [
              "<pre>| 915          | 0.78714      | 8h 17m       |</pre>"
            ],
            "text/plain": [
              "| 915          | 0.78714      | 8h 17m       |"
            ]
          },
          "metadata": {
            "tags": []
          }
        },
        {
          "output_type": "display_data",
          "data": {
            "text/html": [
              "<pre>| 916          | 0.78798      | 8h 17m       |</pre>"
            ],
            "text/plain": [
              "| 916          | 0.78798      | 8h 17m       |"
            ]
          },
          "metadata": {
            "tags": []
          }
        },
        {
          "output_type": "display_data",
          "data": {
            "text/html": [
              "<pre>| 917          | 0.783284     | 8h 18m       |</pre>"
            ],
            "text/plain": [
              "| 917          | 0.783284     | 8h 18m       |"
            ]
          },
          "metadata": {
            "tags": []
          }
        },
        {
          "output_type": "display_data",
          "data": {
            "text/html": [
              "<pre>| 918          | 0.783765     | 8h 18m       |</pre>"
            ],
            "text/plain": [
              "| 918          | 0.783765     | 8h 18m       |"
            ]
          },
          "metadata": {
            "tags": []
          }
        },
        {
          "output_type": "display_data",
          "data": {
            "text/html": [
              "<pre>| 919          | 0.766501     | 8h 19m       |</pre>"
            ],
            "text/plain": [
              "| 919          | 0.766501     | 8h 19m       |"
            ]
          },
          "metadata": {
            "tags": []
          }
        },
        {
          "output_type": "display_data",
          "data": {
            "text/html": [
              "<pre>| 920          | 0.790797     | 8h 19m       |</pre>"
            ],
            "text/plain": [
              "| 920          | 0.790797     | 8h 19m       |"
            ]
          },
          "metadata": {
            "tags": []
          }
        },
        {
          "output_type": "display_data",
          "data": {
            "text/html": [
              "<pre>| 921          | 0.777536     | 8h 20m       |</pre>"
            ],
            "text/plain": [
              "| 921          | 0.777536     | 8h 20m       |"
            ]
          },
          "metadata": {
            "tags": []
          }
        },
        {
          "output_type": "display_data",
          "data": {
            "text/html": [
              "<pre>| 922          | 0.79328      | 8h 20m       |</pre>"
            ],
            "text/plain": [
              "| 922          | 0.79328      | 8h 20m       |"
            ]
          },
          "metadata": {
            "tags": []
          }
        },
        {
          "output_type": "display_data",
          "data": {
            "text/html": [
              "<pre>| 923          | 0.84331      | 8h 21m       |</pre>"
            ],
            "text/plain": [
              "| 923          | 0.84331      | 8h 21m       |"
            ]
          },
          "metadata": {
            "tags": []
          }
        },
        {
          "output_type": "display_data",
          "data": {
            "text/html": [
              "<pre>| 924          | 0.844886     | 8h 22m       |</pre>"
            ],
            "text/plain": [
              "| 924          | 0.844886     | 8h 22m       |"
            ]
          },
          "metadata": {
            "tags": []
          }
        },
        {
          "output_type": "display_data",
          "data": {
            "text/html": [
              "<pre>| 925          | 0.860697     | 8h 22m       |</pre>"
            ],
            "text/plain": [
              "| 925          | 0.860697     | 8h 22m       |"
            ]
          },
          "metadata": {
            "tags": []
          }
        },
        {
          "output_type": "display_data",
          "data": {
            "text/html": [
              "<pre>| 926          | 0.865462     | 8h 23m       |</pre>"
            ],
            "text/plain": [
              "| 926          | 0.865462     | 8h 23m       |"
            ]
          },
          "metadata": {
            "tags": []
          }
        },
        {
          "output_type": "display_data",
          "data": {
            "text/html": [
              "<pre>| 927          | 0.845032     | 8h 23m       |</pre>"
            ],
            "text/plain": [
              "| 927          | 0.845032     | 8h 23m       |"
            ]
          },
          "metadata": {
            "tags": []
          }
        },
        {
          "output_type": "display_data",
          "data": {
            "text/html": [
              "<pre>| 928          | 0.832963     | 8h 24m       |</pre>"
            ],
            "text/plain": [
              "| 928          | 0.832963     | 8h 24m       |"
            ]
          },
          "metadata": {
            "tags": []
          }
        },
        {
          "output_type": "display_data",
          "data": {
            "text/html": [
              "<pre>| 929          | 0.828402     | 8h 24m       |</pre>"
            ],
            "text/plain": [
              "| 929          | 0.828402     | 8h 24m       |"
            ]
          },
          "metadata": {
            "tags": []
          }
        },
        {
          "output_type": "display_data",
          "data": {
            "text/html": [
              "<pre>| 930          | 0.823736     | 8h 25m       |</pre>"
            ],
            "text/plain": [
              "| 930          | 0.823736     | 8h 25m       |"
            ]
          },
          "metadata": {
            "tags": []
          }
        },
        {
          "output_type": "display_data",
          "data": {
            "text/html": [
              "<pre>| 931          | 0.821468     | 8h 25m       |</pre>"
            ],
            "text/plain": [
              "| 931          | 0.821468     | 8h 25m       |"
            ]
          },
          "metadata": {
            "tags": []
          }
        },
        {
          "output_type": "display_data",
          "data": {
            "text/html": [
              "<pre>| 932          | 0.824613     | 8h 26m       |</pre>"
            ],
            "text/plain": [
              "| 932          | 0.824613     | 8h 26m       |"
            ]
          },
          "metadata": {
            "tags": []
          }
        },
        {
          "output_type": "display_data",
          "data": {
            "text/html": [
              "<pre>| 933          | 0.835464     | 8h 26m       |</pre>"
            ],
            "text/plain": [
              "| 933          | 0.835464     | 8h 26m       |"
            ]
          },
          "metadata": {
            "tags": []
          }
        },
        {
          "output_type": "display_data",
          "data": {
            "text/html": [
              "<pre>| 934          | 0.858268     | 8h 27m       |</pre>"
            ],
            "text/plain": [
              "| 934          | 0.858268     | 8h 27m       |"
            ]
          },
          "metadata": {
            "tags": []
          }
        },
        {
          "output_type": "display_data",
          "data": {
            "text/html": [
              "<pre>| 935          | 0.869686     | 8h 27m       |</pre>"
            ],
            "text/plain": [
              "| 935          | 0.869686     | 8h 27m       |"
            ]
          },
          "metadata": {
            "tags": []
          }
        },
        {
          "output_type": "display_data",
          "data": {
            "text/html": [
              "<pre>| 936          | 0.869431     | 8h 28m       |</pre>"
            ],
            "text/plain": [
              "| 936          | 0.869431     | 8h 28m       |"
            ]
          },
          "metadata": {
            "tags": []
          }
        },
        {
          "output_type": "display_data",
          "data": {
            "text/html": [
              "<pre>| 937          | 0.864551     | 8h 29m       |</pre>"
            ],
            "text/plain": [
              "| 937          | 0.864551     | 8h 29m       |"
            ]
          },
          "metadata": {
            "tags": []
          }
        },
        {
          "output_type": "display_data",
          "data": {
            "text/html": [
              "<pre>| 938          | 0.883938     | 8h 29m       |</pre>"
            ],
            "text/plain": [
              "| 938          | 0.883938     | 8h 29m       |"
            ]
          },
          "metadata": {
            "tags": []
          }
        },
        {
          "output_type": "display_data",
          "data": {
            "text/html": [
              "<pre>| 939          | 0.890348     | 8h 30m       |</pre>"
            ],
            "text/plain": [
              "| 939          | 0.890348     | 8h 30m       |"
            ]
          },
          "metadata": {
            "tags": []
          }
        },
        {
          "output_type": "display_data",
          "data": {
            "text/html": [
              "<pre>| 940          | 0.893081     | 8h 30m       |</pre>"
            ],
            "text/plain": [
              "| 940          | 0.893081     | 8h 30m       |"
            ]
          },
          "metadata": {
            "tags": []
          }
        },
        {
          "output_type": "display_data",
          "data": {
            "text/html": [
              "<pre>| 941          | 0.883962     | 8h 31m       |</pre>"
            ],
            "text/plain": [
              "| 941          | 0.883962     | 8h 31m       |"
            ]
          },
          "metadata": {
            "tags": []
          }
        },
        {
          "output_type": "display_data",
          "data": {
            "text/html": [
              "<pre>| 942          | 0.888806     | 8h 31m       |</pre>"
            ],
            "text/plain": [
              "| 942          | 0.888806     | 8h 31m       |"
            ]
          },
          "metadata": {
            "tags": []
          }
        },
        {
          "output_type": "display_data",
          "data": {
            "text/html": [
              "<pre>| 943          | 0.870617     | 8h 32m       |</pre>"
            ],
            "text/plain": [
              "| 943          | 0.870617     | 8h 32m       |"
            ]
          },
          "metadata": {
            "tags": []
          }
        },
        {
          "output_type": "display_data",
          "data": {
            "text/html": [
              "<pre>| 944          | 0.861749     | 8h 32m       |</pre>"
            ],
            "text/plain": [
              "| 944          | 0.861749     | 8h 32m       |"
            ]
          },
          "metadata": {
            "tags": []
          }
        },
        {
          "output_type": "display_data",
          "data": {
            "text/html": [
              "<pre>| 945          | 0.88365      | 8h 33m       |</pre>"
            ],
            "text/plain": [
              "| 945          | 0.88365      | 8h 33m       |"
            ]
          },
          "metadata": {
            "tags": []
          }
        },
        {
          "output_type": "display_data",
          "data": {
            "text/html": [
              "<pre>| 946          | 0.882831     | 8h 33m       |</pre>"
            ],
            "text/plain": [
              "| 946          | 0.882831     | 8h 33m       |"
            ]
          },
          "metadata": {
            "tags": []
          }
        },
        {
          "output_type": "display_data",
          "data": {
            "text/html": [
              "<pre>| 947          | 0.888228     | 8h 34m       |</pre>"
            ],
            "text/plain": [
              "| 947          | 0.888228     | 8h 34m       |"
            ]
          },
          "metadata": {
            "tags": []
          }
        },
        {
          "output_type": "display_data",
          "data": {
            "text/html": [
              "<pre>| 948          | 0.888723     | 8h 35m       |</pre>"
            ],
            "text/plain": [
              "| 948          | 0.888723     | 8h 35m       |"
            ]
          },
          "metadata": {
            "tags": []
          }
        },
        {
          "output_type": "display_data",
          "data": {
            "text/html": [
              "<pre>| 949          | 0.877015     | 8h 35m       |</pre>"
            ],
            "text/plain": [
              "| 949          | 0.877015     | 8h 35m       |"
            ]
          },
          "metadata": {
            "tags": []
          }
        },
        {
          "output_type": "display_data",
          "data": {
            "text/html": [
              "<pre>| 950          | 0.878641     | 8h 36m       |</pre>"
            ],
            "text/plain": [
              "| 950          | 0.878641     | 8h 36m       |"
            ]
          },
          "metadata": {
            "tags": []
          }
        },
        {
          "output_type": "display_data",
          "data": {
            "text/html": [
              "<pre>| 951          | 0.878824     | 8h 36m       |</pre>"
            ],
            "text/plain": [
              "| 951          | 0.878824     | 8h 36m       |"
            ]
          },
          "metadata": {
            "tags": []
          }
        },
        {
          "output_type": "display_data",
          "data": {
            "text/html": [
              "<pre>| 952          | 0.863479     | 8h 37m       |</pre>"
            ],
            "text/plain": [
              "| 952          | 0.863479     | 8h 37m       |"
            ]
          },
          "metadata": {
            "tags": []
          }
        },
        {
          "output_type": "display_data",
          "data": {
            "text/html": [
              "<pre>| 953          | 0.851481     | 8h 37m       |</pre>"
            ],
            "text/plain": [
              "| 953          | 0.851481     | 8h 37m       |"
            ]
          },
          "metadata": {
            "tags": []
          }
        },
        {
          "output_type": "display_data",
          "data": {
            "text/html": [
              "<pre>| 954          | 0.864033     | 8h 38m       |</pre>"
            ],
            "text/plain": [
              "| 954          | 0.864033     | 8h 38m       |"
            ]
          },
          "metadata": {
            "tags": []
          }
        },
        {
          "output_type": "display_data",
          "data": {
            "text/html": [
              "<pre>| 955          | 0.869399     | 8h 38m       |</pre>"
            ],
            "text/plain": [
              "| 955          | 0.869399     | 8h 38m       |"
            ]
          },
          "metadata": {
            "tags": []
          }
        },
        {
          "output_type": "display_data",
          "data": {
            "text/html": [
              "<pre>| 956          | 0.844009     | 8h 39m       |</pre>"
            ],
            "text/plain": [
              "| 956          | 0.844009     | 8h 39m       |"
            ]
          },
          "metadata": {
            "tags": []
          }
        },
        {
          "output_type": "display_data",
          "data": {
            "text/html": [
              "<pre>| 957          | 0.856445     | 8h 40m       |</pre>"
            ],
            "text/plain": [
              "| 957          | 0.856445     | 8h 40m       |"
            ]
          },
          "metadata": {
            "tags": []
          }
        },
        {
          "output_type": "display_data",
          "data": {
            "text/html": [
              "<pre>| 958          | 0.849976     | 8h 40m       |</pre>"
            ],
            "text/plain": [
              "| 958          | 0.849976     | 8h 40m       |"
            ]
          },
          "metadata": {
            "tags": []
          }
        },
        {
          "output_type": "display_data",
          "data": {
            "text/html": [
              "<pre>| 959          | 0.822997     | 8h 41m       |</pre>"
            ],
            "text/plain": [
              "| 959          | 0.822997     | 8h 41m       |"
            ]
          },
          "metadata": {
            "tags": []
          }
        },
        {
          "output_type": "display_data",
          "data": {
            "text/html": [
              "<pre>| 960          | 0.830305     | 8h 41m       |</pre>"
            ],
            "text/plain": [
              "| 960          | 0.830305     | 8h 41m       |"
            ]
          },
          "metadata": {
            "tags": []
          }
        },
        {
          "output_type": "display_data",
          "data": {
            "text/html": [
              "<pre>| 961          | 0.838201     | 8h 42m       |</pre>"
            ],
            "text/plain": [
              "| 961          | 0.838201     | 8h 42m       |"
            ]
          },
          "metadata": {
            "tags": []
          }
        },
        {
          "output_type": "display_data",
          "data": {
            "text/html": [
              "<pre>| 962          | 0.842977     | 8h 42m       |</pre>"
            ],
            "text/plain": [
              "| 962          | 0.842977     | 8h 42m       |"
            ]
          },
          "metadata": {
            "tags": []
          }
        },
        {
          "output_type": "display_data",
          "data": {
            "text/html": [
              "<pre>| 963          | 0.84378      | 8h 43m       |</pre>"
            ],
            "text/plain": [
              "| 963          | 0.84378      | 8h 43m       |"
            ]
          },
          "metadata": {
            "tags": []
          }
        },
        {
          "output_type": "display_data",
          "data": {
            "text/html": [
              "<pre>| 964          | 0.866445     | 8h 43m       |</pre>"
            ],
            "text/plain": [
              "| 964          | 0.866445     | 8h 43m       |"
            ]
          },
          "metadata": {
            "tags": []
          }
        },
        {
          "output_type": "display_data",
          "data": {
            "text/html": [
              "<pre>| 965          | 0.868012     | 8h 44m       |</pre>"
            ],
            "text/plain": [
              "| 965          | 0.868012     | 8h 44m       |"
            ]
          },
          "metadata": {
            "tags": []
          }
        },
        {
          "output_type": "display_data",
          "data": {
            "text/html": [
              "<pre>| 966          | 0.856263     | 8h 44m       |</pre>"
            ],
            "text/plain": [
              "| 966          | 0.856263     | 8h 44m       |"
            ]
          },
          "metadata": {
            "tags": []
          }
        },
        {
          "output_type": "display_data",
          "data": {
            "text/html": [
              "<pre>| 967          | 0.869878     | 8h 45m       |</pre>"
            ],
            "text/plain": [
              "| 967          | 0.869878     | 8h 45m       |"
            ]
          },
          "metadata": {
            "tags": []
          }
        },
        {
          "output_type": "display_data",
          "data": {
            "text/html": [
              "<pre>| 968          | 0.858313     | 8h 46m       |</pre>"
            ],
            "text/plain": [
              "| 968          | 0.858313     | 8h 46m       |"
            ]
          },
          "metadata": {
            "tags": []
          }
        },
        {
          "output_type": "display_data",
          "data": {
            "text/html": [
              "<pre>| 969          | 0.86279      | 8h 46m       |</pre>"
            ],
            "text/plain": [
              "| 969          | 0.86279      | 8h 46m       |"
            ]
          },
          "metadata": {
            "tags": []
          }
        },
        {
          "output_type": "display_data",
          "data": {
            "text/html": [
              "<pre>| 970          | 0.863547     | 8h 47m       |</pre>"
            ],
            "text/plain": [
              "| 970          | 0.863547     | 8h 47m       |"
            ]
          },
          "metadata": {
            "tags": []
          }
        },
        {
          "output_type": "display_data",
          "data": {
            "text/html": [
              "<pre>| 971          | 0.861011     | 8h 47m       |</pre>"
            ],
            "text/plain": [
              "| 971          | 0.861011     | 8h 47m       |"
            ]
          },
          "metadata": {
            "tags": []
          }
        },
        {
          "output_type": "display_data",
          "data": {
            "text/html": [
              "<pre>| 972          | 0.836078     | 8h 48m       |</pre>"
            ],
            "text/plain": [
              "| 972          | 0.836078     | 8h 48m       |"
            ]
          },
          "metadata": {
            "tags": []
          }
        },
        {
          "output_type": "display_data",
          "data": {
            "text/html": [
              "<pre>| 973          | 0.850792     | 8h 48m       |</pre>"
            ],
            "text/plain": [
              "| 973          | 0.850792     | 8h 48m       |"
            ]
          },
          "metadata": {
            "tags": []
          }
        },
        {
          "output_type": "display_data",
          "data": {
            "text/html": [
              "<pre>| 974          | 0.847837     | 8h 49m       |</pre>"
            ],
            "text/plain": [
              "| 974          | 0.847837     | 8h 49m       |"
            ]
          },
          "metadata": {
            "tags": []
          }
        },
        {
          "output_type": "display_data",
          "data": {
            "text/html": [
              "<pre>| 975          | 0.847368     | 8h 49m       |</pre>"
            ],
            "text/plain": [
              "| 975          | 0.847368     | 8h 49m       |"
            ]
          },
          "metadata": {
            "tags": []
          }
        },
        {
          "output_type": "display_data",
          "data": {
            "text/html": [
              "<pre>| 976          | 0.868875     | 8h 50m       |</pre>"
            ],
            "text/plain": [
              "| 976          | 0.868875     | 8h 50m       |"
            ]
          },
          "metadata": {
            "tags": []
          }
        },
        {
          "output_type": "display_data",
          "data": {
            "text/html": [
              "<pre>| 977          | 0.867918     | 8h 50m       |</pre>"
            ],
            "text/plain": [
              "| 977          | 0.867918     | 8h 50m       |"
            ]
          },
          "metadata": {
            "tags": []
          }
        },
        {
          "output_type": "display_data",
          "data": {
            "text/html": [
              "<pre>| 978          | 0.843271     | 8h 51m       |</pre>"
            ],
            "text/plain": [
              "| 978          | 0.843271     | 8h 51m       |"
            ]
          },
          "metadata": {
            "tags": []
          }
        },
        {
          "output_type": "display_data",
          "data": {
            "text/html": [
              "<pre>| 979          | 0.851052     | 8h 51m       |</pre>"
            ],
            "text/plain": [
              "| 979          | 0.851052     | 8h 51m       |"
            ]
          },
          "metadata": {
            "tags": []
          }
        },
        {
          "output_type": "display_data",
          "data": {
            "text/html": [
              "<pre>| 980          | 0.82287      | 8h 52m       |</pre>"
            ],
            "text/plain": [
              "| 980          | 0.82287      | 8h 52m       |"
            ]
          },
          "metadata": {
            "tags": []
          }
        },
        {
          "output_type": "display_data",
          "data": {
            "text/html": [
              "<pre>| 981          | 0.816907     | 8h 53m       |</pre>"
            ],
            "text/plain": [
              "| 981          | 0.816907     | 8h 53m       |"
            ]
          },
          "metadata": {
            "tags": []
          }
        },
        {
          "output_type": "display_data",
          "data": {
            "text/html": [
              "<pre>| 982          | 0.789636     | 8h 53m       |</pre>"
            ],
            "text/plain": [
              "| 982          | 0.789636     | 8h 53m       |"
            ]
          },
          "metadata": {
            "tags": []
          }
        },
        {
          "output_type": "display_data",
          "data": {
            "text/html": [
              "<pre>| 983          | 0.770923     | 8h 54m       |</pre>"
            ],
            "text/plain": [
              "| 983          | 0.770923     | 8h 54m       |"
            ]
          },
          "metadata": {
            "tags": []
          }
        },
        {
          "output_type": "display_data",
          "data": {
            "text/html": [
              "<pre>| 984          | 0.775904     | 8h 54m       |</pre>"
            ],
            "text/plain": [
              "| 984          | 0.775904     | 8h 54m       |"
            ]
          },
          "metadata": {
            "tags": []
          }
        },
        {
          "output_type": "display_data",
          "data": {
            "text/html": [
              "<pre>| 985          | 0.796731     | 8h 55m       |</pre>"
            ],
            "text/plain": [
              "| 985          | 0.796731     | 8h 55m       |"
            ]
          },
          "metadata": {
            "tags": []
          }
        },
        {
          "output_type": "display_data",
          "data": {
            "text/html": [
              "<pre>| 986          | 0.83636      | 8h 55m       |</pre>"
            ],
            "text/plain": [
              "| 986          | 0.83636      | 8h 55m       |"
            ]
          },
          "metadata": {
            "tags": []
          }
        },
        {
          "output_type": "display_data",
          "data": {
            "text/html": [
              "<pre>| 987          | 0.821173     | 8h 56m       |</pre>"
            ],
            "text/plain": [
              "| 987          | 0.821173     | 8h 56m       |"
            ]
          },
          "metadata": {
            "tags": []
          }
        },
        {
          "output_type": "display_data",
          "data": {
            "text/html": [
              "<pre>| 988          | 0.797136     | 8h 56m       |</pre>"
            ],
            "text/plain": [
              "| 988          | 0.797136     | 8h 56m       |"
            ]
          },
          "metadata": {
            "tags": []
          }
        },
        {
          "output_type": "display_data",
          "data": {
            "text/html": [
              "<pre>| 989          | 0.796177     | 8h 57m       |</pre>"
            ],
            "text/plain": [
              "| 989          | 0.796177     | 8h 57m       |"
            ]
          },
          "metadata": {
            "tags": []
          }
        },
        {
          "output_type": "display_data",
          "data": {
            "text/html": [
              "<pre>| 990          | 0.7763       | 8h 57m       |</pre>"
            ],
            "text/plain": [
              "| 990          | 0.7763       | 8h 57m       |"
            ]
          },
          "metadata": {
            "tags": []
          }
        },
        {
          "output_type": "display_data",
          "data": {
            "text/html": [
              "<pre>| 991          | 0.807831     | 8h 58m       |</pre>"
            ],
            "text/plain": [
              "| 991          | 0.807831     | 8h 58m       |"
            ]
          },
          "metadata": {
            "tags": []
          }
        },
        {
          "output_type": "display_data",
          "data": {
            "text/html": [
              "<pre>| 992          | 0.826522     | 8h 58m       |</pre>"
            ],
            "text/plain": [
              "| 992          | 0.826522     | 8h 58m       |"
            ]
          },
          "metadata": {
            "tags": []
          }
        },
        {
          "output_type": "display_data",
          "data": {
            "text/html": [
              "<pre>| 993          | 0.803477     | 8h 59m       |</pre>"
            ],
            "text/plain": [
              "| 993          | 0.803477     | 8h 59m       |"
            ]
          },
          "metadata": {
            "tags": []
          }
        },
        {
          "output_type": "display_data",
          "data": {
            "text/html": [
              "<pre>| 994          | 0.790293     | 8h 59m       |</pre>"
            ],
            "text/plain": [
              "| 994          | 0.790293     | 8h 59m       |"
            ]
          },
          "metadata": {
            "tags": []
          }
        },
        {
          "output_type": "display_data",
          "data": {
            "text/html": [
              "<pre>| 995          | 0.785684     | 9h 0m        |</pre>"
            ],
            "text/plain": [
              "| 995          | 0.785684     | 9h 0m        |"
            ]
          },
          "metadata": {
            "tags": []
          }
        },
        {
          "output_type": "display_data",
          "data": {
            "text/html": [
              "<pre>| 996          | 0.770544     | 9h 1m        |</pre>"
            ],
            "text/plain": [
              "| 996          | 0.770544     | 9h 1m        |"
            ]
          },
          "metadata": {
            "tags": []
          }
        },
        {
          "output_type": "display_data",
          "data": {
            "text/html": [
              "<pre>| 997          | 0.756358     | 9h 1m        |</pre>"
            ],
            "text/plain": [
              "| 997          | 0.756358     | 9h 1m        |"
            ]
          },
          "metadata": {
            "tags": []
          }
        },
        {
          "output_type": "display_data",
          "data": {
            "text/html": [
              "<pre>| 998          | 0.736282     | 9h 2m        |</pre>"
            ],
            "text/plain": [
              "| 998          | 0.736282     | 9h 2m        |"
            ]
          },
          "metadata": {
            "tags": []
          }
        },
        {
          "output_type": "display_data",
          "data": {
            "text/html": [
              "<pre>| 999          | 0.743665     | 9h 2m        |</pre>"
            ],
            "text/plain": [
              "| 999          | 0.743665     | 9h 2m        |"
            ]
          },
          "metadata": {
            "tags": []
          }
        },
        {
          "output_type": "display_data",
          "data": {
            "text/html": [
              "<pre>| 1000         | 0.750628     | 9h 2m        |</pre>"
            ],
            "text/plain": [
              "| 1000         | 0.750628     | 9h 2m        |"
            ]
          },
          "metadata": {
            "tags": []
          }
        },
        {
          "output_type": "display_data",
          "data": {
            "text/html": [
              "<pre>+--------------+--------------+--------------+</pre>"
            ],
            "text/plain": [
              "+--------------+--------------+--------------+"
            ]
          },
          "metadata": {
            "tags": []
          }
        }
      ]
    },
    {
      "cell_type": "markdown",
      "metadata": {
        "id": "32GRrm3F-up5",
        "colab_type": "text"
      },
      "source": [
        "# Download the .mlmodel file "
      ]
    },
    {
      "cell_type": "code",
      "metadata": {
        "id": "CpI6trJSvfAT",
        "colab_type": "code",
        "colab": {}
      },
      "source": [
        "from google.colab import files\n",
        "files.download('/content/model_plate_turi.mlmodel')"
      ],
      "execution_count": 0,
      "outputs": []
    },
    {
      "cell_type": "code",
      "metadata": {
        "id": "DFb4eSvgmKH-",
        "colab_type": "code",
        "colab": {}
      },
      "source": [
        "!zip -r \"/content/model_plate_turi_model.zip\" \"/content/model_plate_turi.model\"  "
      ],
      "execution_count": 0,
      "outputs": []
    }
  ]
}